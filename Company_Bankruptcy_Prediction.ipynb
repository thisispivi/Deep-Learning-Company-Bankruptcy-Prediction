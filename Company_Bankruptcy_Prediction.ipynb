{
  "nbformat": 4,
  "nbformat_minor": 0,
  "metadata": {
    "colab": {
      "name": "Company Bankruptcy Prediction",
      "provenance": [],
      "collapsed_sections": [
        "BaafBVnEiBU9",
        "LigW-AsMEbri",
        "3S5hOmIGEs9j"
      ]
    },
    "kernelspec": {
      "display_name": "Python 3",
      "name": "python3"
    },
    "language_info": {
      "name": "python"
    }
  },
  "cells": [
    {
      "cell_type": "markdown",
      "metadata": {
        "id": "3Ve8CgpE1BAA"
      },
      "source": [
        "# Introduction\n",
        "\n"
      ]
    },
    {
      "cell_type": "markdown",
      "metadata": {
        "id": "1Y3W5qXWABYT"
      },
      "source": [
        "# Dataset and Libraries setup"
      ]
    },
    {
      "cell_type": "markdown",
      "metadata": {
        "id": "2ufwrliP-uJK"
      },
      "source": [
        "##Libraries and Dataset setup\n",
        "\n",
        "Download the dataset and the libraries needed.\n",
        "\n",
        "**Libraries**\n",
        "- pandas\n",
        "- numpy\n",
        "- kaggle\n",
        "- plotly"
      ]
    },
    {
      "cell_type": "code",
      "metadata": {
        "id": "y1Mh9Ol_I88j"
      },
      "source": [
        "### Download files\n",
        "! apt-get update > /dev/null\n",
        "! apt-get upgrade > /dev/null\n",
        "! apt-get install unzip > /dev/nulll\n",
        "\n",
        "# Python libs\n",
        "! pip install -q kaggle > /dev/null\n",
        "! pip install plotly==4.14.3 > /dev/null\n",
        "! pip install -U kaleido > /dev/null"
      ],
      "execution_count": 40,
      "outputs": []
    },
    {
      "cell_type": "markdown",
      "metadata": {
        "id": "k0tklqOA8XhC"
      },
      "source": [
        "Import plot and other useful libraries"
      ]
    },
    {
      "cell_type": "code",
      "metadata": {
        "id": "a86cMyQNGKAC"
      },
      "source": [
        "### Import section\n",
        "\n",
        "# Plot\n",
        "import pandas as pd\n",
        "import matplotlib.pyplot as plt\n",
        "import seaborn as sns\n",
        "import numpy as np\n",
        "import plotly.graph_objects as go\n",
        "\n",
        "# Others\n",
        "import csv\n",
        "from io import StringIO\n",
        "from datetime import datetime"
      ],
      "execution_count": 41,
      "outputs": []
    },
    {
      "cell_type": "markdown",
      "metadata": {
        "id": "wOSH7YCE-7Qe"
      },
      "source": [
        "##Import dataset\n",
        "There are two ways to download the dataset, one from kaggle using kaggle api the other one from github (the dataset may be out of date)"
      ]
    },
    {
      "cell_type": "code",
      "metadata": {
        "id": "87mmzkepfj6f"
      },
      "source": [
        "### Delete old folders and create new ones\n",
        "! rm -r /content/data > /dev/null\n",
        "! mkdir /content/data/ > /dev/null\n",
        "! rm -r ~/.kaggle > /dev/null\n",
        "! mkdir ~/.kaggle > /dev/null"
      ],
      "execution_count": 42,
      "outputs": []
    },
    {
      "cell_type": "markdown",
      "metadata": {
        "id": "7vkJnrG5fqat"
      },
      "source": [
        "### Kaggle\n",
        "\n",
        "Connect to kaggle, download datataset and setup the files"
      ]
    },
    {
      "cell_type": "code",
      "metadata": {
        "id": "TknXpMfPcCvM",
        "colab": {
          "base_uri": "https://localhost:8080/"
        },
        "outputId": "c4069a93-4527-43c1-8f0c-525978fdb232"
      },
      "source": [
        "### Kaggle download setup \n",
        "\n",
        "# Insert here the link to the token json file\n",
        "! wget --no-check-certificate 'https://docs.google.com/uc?export=download&id=1-4sfcaQg3DdP6ZoRnm0uFvM5VlMhPDSM' -P /content -O kaggle.json > /dev/null\n",
        "\n",
        "# Copy token in the right folder\n",
        "! cp kaggle.json ~/.kaggle/ > /dev/null\n",
        "! chmod 600 ~/.kaggle/kaggle.json > /dev/null\n",
        "\n",
        "# Download dataset\n",
        "! kaggle datasets download -d fedesoriano/company-bankruptcy-prediction -p /content/data > /dev/null\n",
        "\n",
        "# Unzip and remove the zip\n",
        "! unzip /content/data/company-bankruptcy-prediction.zip -d /content/data > /dev/null\n",
        "! rm /content/data/company-bankruptcy-prediction.zip > /dev/null"
      ],
      "execution_count": 43,
      "outputs": [
        {
          "output_type": "stream",
          "name": "stdout",
          "text": [
            "--2021-09-15 09:22:53--  https://docs.google.com/uc?export=download&id=1-4sfcaQg3DdP6ZoRnm0uFvM5VlMhPDSM\n",
            "Resolving docs.google.com (docs.google.com)... 172.217.203.100, 172.217.203.101, 172.217.203.102, ...\n",
            "Connecting to docs.google.com (docs.google.com)|172.217.203.100|:443... connected.\n",
            "HTTP request sent, awaiting response... 302 Moved Temporarily\n",
            "Location: https://doc-04-5s-docs.googleusercontent.com/docs/securesc/ha0ro937gcuc7l7deffksulhg5h7mbp1/t5e3p4vutdaoe71ca62h1ds1mp42jv2c/1631697750000/08916338998030749634/*/1-4sfcaQg3DdP6ZoRnm0uFvM5VlMhPDSM?e=download [following]\n",
            "Warning: wildcards not supported in HTTP.\n",
            "--2021-09-15 09:22:53--  https://doc-04-5s-docs.googleusercontent.com/docs/securesc/ha0ro937gcuc7l7deffksulhg5h7mbp1/t5e3p4vutdaoe71ca62h1ds1mp42jv2c/1631697750000/08916338998030749634/*/1-4sfcaQg3DdP6ZoRnm0uFvM5VlMhPDSM?e=download\n",
            "Resolving doc-04-5s-docs.googleusercontent.com (doc-04-5s-docs.googleusercontent.com)... 173.194.214.132, 2607:f8b0:400c:c0b::84\n",
            "Connecting to doc-04-5s-docs.googleusercontent.com (doc-04-5s-docs.googleusercontent.com)|173.194.214.132|:443... connected.\n",
            "HTTP request sent, awaiting response... 200 OK\n",
            "Length: 66 [application/json]\n",
            "Saving to: ‘kaggle.json’\n",
            "\n",
            "on                  100%[===================>]      66  --.-KB/s    in 0s      \n",
            "\n",
            "2021-09-15 09:22:53 (1.81 MB/s) - ‘kaggle.json’ saved [66/66]\n",
            "\n",
            "100% 4.63M/4.63M [00:00<00:00, 76.2MB/s]\n"
          ]
        }
      ]
    },
    {
      "cell_type": "markdown",
      "metadata": {
        "id": "DKQG2puuftem"
      },
      "source": [
        "### Github\n",
        "Connect to Github, download datataset and setup the files"
      ]
    },
    {
      "cell_type": "code",
      "metadata": {
        "id": "a7dIhEHgCp5R"
      },
      "source": [
        "# ### Download dataset from github repository\n",
        "\n",
        "# # Donwload all the files\n",
        "# ! wget -P /content/data https://raw.githubusercontent.com/thisispivi/Deep-Learning-Company-Bankruptcy-Prediction/main/data/data.zip\n",
        "\n",
        "# # Unzip and remove the zip\n",
        "# ! unzip /content/data/data.zip -d /content/data\n",
        "# ! rm /content/data/data.zip"
      ],
      "execution_count": 44,
      "outputs": []
    },
    {
      "cell_type": "markdown",
      "metadata": {
        "id": "7774NYzghPEm"
      },
      "source": [
        "## Read Files\n",
        "In this section we import the csv files."
      ]
    },
    {
      "cell_type": "code",
      "metadata": {
        "id": "HANip0NiQt2C"
      },
      "source": [
        "df = pd.read_csv('data/data.csv')"
      ],
      "execution_count": 45,
      "outputs": []
    },
    {
      "cell_type": "markdown",
      "metadata": {
        "id": "_4zXPeyvVUGZ"
      },
      "source": [
        "Split the dataset into labela and data"
      ]
    },
    {
      "cell_type": "code",
      "metadata": {
        "id": "vg3dFnarVVez"
      },
      "source": [
        "labels = df['Bankrupt?']\n",
        "data = df.drop(['Bankrupt?'], axis=1)"
      ],
      "execution_count": 46,
      "outputs": []
    },
    {
      "cell_type": "markdown",
      "metadata": {
        "id": "BaafBVnEiBU9"
      },
      "source": [
        "# Deep Learning"
      ]
    },
    {
      "cell_type": "markdown",
      "metadata": {
        "id": "g3fhXvQzl7yL"
      },
      "source": [
        "## Import Section"
      ]
    },
    {
      "cell_type": "code",
      "metadata": {
        "id": "bL5L7D2zs09v"
      },
      "source": [
        "from tensorflow import keras\n",
        "from sklearn.metrics import confusion_matrix\n",
        "from sklearn.model_selection import train_test_split\n",
        "from sklearn.metrics import classification_report,confusion_matrix\n",
        "from sklearn.preprocessing import StandardScaler\n",
        "from imblearn.over_sampling import SMOTE"
      ],
      "execution_count": 47,
      "outputs": []
    },
    {
      "cell_type": "markdown",
      "metadata": {
        "id": "-ByxXiGECxOP"
      },
      "source": [
        "## Analyze dataset\n",
        "\n",
        "In this section we will analyze the dataset shape, balance and if it has null values in its rows"
      ]
    },
    {
      "cell_type": "markdown",
      "metadata": {
        "id": "DXBfjRRNUn8F"
      },
      "source": [
        "### Shape\n",
        "\n",
        "Check the shape of the dataset"
      ]
    },
    {
      "cell_type": "code",
      "metadata": {
        "colab": {
          "base_uri": "https://localhost:8080/"
        },
        "id": "wNXUUbicUpkH",
        "outputId": "83ffbf38-e296-4676-d42a-fc3610188fd1"
      },
      "source": [
        "print('Data shape:', data.shape)\n",
        "print('Labels shape:', labels.shape)"
      ],
      "execution_count": 48,
      "outputs": [
        {
          "output_type": "stream",
          "name": "stdout",
          "text": [
            "Data shape: (6819, 95)\n",
            "Labels shape: (6819,)\n"
          ]
        }
      ]
    },
    {
      "cell_type": "markdown",
      "metadata": {
        "id": "tl0rlZn7Czva"
      },
      "source": [
        "### Null values\n",
        "\n",
        "Check if there are null values"
      ]
    },
    {
      "cell_type": "code",
      "metadata": {
        "colab": {
          "base_uri": "https://localhost:8080/"
        },
        "id": "tq_W39eICzfe",
        "outputId": "c972e7e5-a12a-4c76-90a1-3e2e1c64d2f4"
      },
      "source": [
        "df.isnull().sum(axis = 0)"
      ],
      "execution_count": 49,
      "outputs": [
        {
          "output_type": "execute_result",
          "data": {
            "text/plain": [
              "Bankrupt?                                                   0\n",
              " ROA(C) before interest and depreciation before interest    0\n",
              " ROA(A) before interest and % after tax                     0\n",
              " ROA(B) before interest and depreciation after tax          0\n",
              " Operating Gross Margin                                     0\n",
              "                                                           ..\n",
              " Liability to Equity                                        0\n",
              " Degree of Financial Leverage (DFL)                         0\n",
              " Interest Coverage Ratio (Interest expense to EBIT)         0\n",
              " Net Income Flag                                            0\n",
              " Equity to Liability                                        0\n",
              "Length: 96, dtype: int64"
            ]
          },
          "metadata": {},
          "execution_count": 49
        }
      ]
    },
    {
      "cell_type": "markdown",
      "metadata": {
        "id": "QBKSE6hTDjxF"
      },
      "source": [
        "There are no null values so we don't have to deal with them"
      ]
    },
    {
      "cell_type": "markdown",
      "metadata": {
        "id": "2-MA_ExoC-Cd"
      },
      "source": [
        "### Balance\n",
        "\n",
        "Check if the dataset is balanced"
      ]
    },
    {
      "cell_type": "code",
      "metadata": {
        "colab": {
          "base_uri": "https://localhost:8080/"
        },
        "id": "VtctIj3sEAX4",
        "outputId": "32778013-8360-4b08-b620-3674bba1c992"
      },
      "source": [
        "result = df['Bankrupt?'].value_counts()\n",
        "zero_percentage = round((result[0]*100)/(result[0]+result[1]),2)\n",
        "print(\"No. of 0: \"+ str(result[0]) + \"\\nNo. of 1: \" + str(result[1]) + \n",
        "      \"\\nPercentage of 0: \"+ str(zero_percentage)+ \" %\\nPercentage of 1: \"+\n",
        "      str(round((100-zero_percentage),2))+\" %\")"
      ],
      "execution_count": 50,
      "outputs": [
        {
          "output_type": "stream",
          "name": "stdout",
          "text": [
            "No. of 0: 6599\n",
            "No. of 1: 220\n",
            "Percentage of 0: 96.77 %\n",
            "Percentage of 1: 3.23 %\n"
          ]
        }
      ]
    },
    {
      "cell_type": "code",
      "metadata": {
        "colab": {
          "base_uri": "https://localhost:8080/",
          "height": 298
        },
        "id": "-lRuuDNoIgqG",
        "outputId": "ae9f0f28-1d69-4516-db52-419572495497"
      },
      "source": [
        "plt.bar(x=[\"No Bankrupt\", \"Bankrupt\"], height=[result[0], result[1]], color=[\"royalblue\", \"indianred\"])\n",
        "plt.ylabel(\"Count\")\n",
        "plt.title(\"Number of No Bankrupt rows vs number of Bankrupt rows \")"
      ],
      "execution_count": 51,
      "outputs": [
        {
          "output_type": "execute_result",
          "data": {
            "text/plain": [
              "Text(0.5, 1.0, 'Number of No Bankrupt rows vs number of Bankrupt rows ')"
            ]
          },
          "metadata": {},
          "execution_count": 51
        },
        {
          "output_type": "display_data",
          "data": {
            "image/png": "[encoded data removed]",
            "text/plain": [
              "<Figure size 432x288 with 1 Axes>"
            ]
          },
          "metadata": {
            "needs_background": "light"
          }
        }
      ]
    },
    {
      "cell_type": "code",
      "metadata": {
        "colab": {
          "base_uri": "https://localhost:8080/",
          "height": 281
        },
        "id": "baJNHjoZLQC9",
        "outputId": "351d2c4c-3dbe-4461-8eb3-ec33b6c929aa"
      },
      "source": [
        "plt.pie([result[0], result[1]], labels=[\"No Bankrupt\", \"Bankrupt\"], explode=(0.1, 0), autopct='%1.2f%%', colors=[\"thistle\", \"paleturquoise\"], radius=1.2)\n",
        "plt.title(\"Percentage of No Bankrupt vs percentage of Bankrupt\")"
      ],
      "execution_count": 52,
      "outputs": [
        {
          "output_type": "execute_result",
          "data": {
            "text/plain": [
              "Text(0.5, 1.0, 'Percentage of No Bankrupt vs percentage of Bankrupt')"
            ]
          },
          "metadata": {},
          "execution_count": 52
        },
        {
          "output_type": "display_data",
          "data": {
            "image/png": "[encoded data removed]",
            "text/plain": [
              "<Figure size 432x288 with 1 Axes>"
            ]
          },
          "metadata": {}
        }
      ]
    },
    {
      "cell_type": "markdown",
      "metadata": {
        "id": "f8Tnp6CKETkF"
      },
      "source": [
        "The dataset is not balanced. If we don't fix this when we will run the model we will have a perfect accuracy, because the network will concentrate only on the major class."
      ]
    },
    {
      "cell_type": "markdown",
      "metadata": {
        "id": "4N9IuKrPv6dc"
      },
      "source": [
        "## Normalize values\n",
        "\n",
        "In this section we want to normalize the values, so we take the colums with values over 1 and with values less than 0 and we normalize them using *StandardScaler()*. This scaler uses the mean and the standard deviation to set all values to between 0 and 1."
      ]
    },
    {
      "cell_type": "code",
      "metadata": {
        "id": "yzS8wHoovV01"
      },
      "source": [
        "### Normalize values\n",
        "\n",
        "# Take the columns with values over 1\n",
        "cols_for_scale = df.max()[df.max()>1]\n",
        "# Take the columns with values less than 0\n",
        "df.min()[df.min()<0] # It is none there aren't negative values\n",
        "# Normalize values\n",
        "scale = StandardScaler()\n",
        "scaled = scale.fit_transform(df[cols_for_scale.keys()])\n",
        "# Substitute the old values with the normalized ones\n",
        "i = 0\n",
        "for column in cols_for_scale.keys():\n",
        "    df[column] = scaled[:,i]\n",
        "    i += 1\n",
        "# Update labels and data\n",
        "labels = df['Bankrupt?']\n",
        "data = df.drop(['Bankrupt?'], axis=1)"
      ],
      "execution_count": 53,
      "outputs": []
    },
    {
      "cell_type": "markdown",
      "metadata": {
        "id": "JTRYvzAzC8yN"
      },
      "source": [
        "## Balance Dataset using SMOTE\n",
        "To balance the dataset we use SMOTE (Synthetic Minority Oversampling Technique).\n",
        "\n",
        "[Link](https://towardsdatascience.com/applying-smote-for-class-imbalance-with-just-a-few-lines-of-code-python-cdf603e58688)"
      ]
    },
    {
      "cell_type": "markdown",
      "metadata": {
        "id": "m-8SD1X0Ufwp"
      },
      "source": [
        "Import SMOTE and resample the data"
      ]
    },
    {
      "cell_type": "code",
      "metadata": {
        "colab": {
          "base_uri": "https://localhost:8080/"
        },
        "id": "P0iLTb2rPEnX",
        "outputId": "4ea4d659-a93d-42f0-b41a-f62d897fc424"
      },
      "source": [
        "sm = SMOTE()\n",
        "data_new, labels_new = sm.fit_resample(data, labels)"
      ],
      "execution_count": 54,
      "outputs": [
        {
          "output_type": "stream",
          "name": "stderr",
          "text": [
            "/usr/local/lib/python3.7/dist-packages/sklearn/utils/deprecation.py:87: FutureWarning: Function safe_indexing is deprecated; safe_indexing is deprecated in version 0.22 and will be removed in version 0.24.\n",
            "  warnings.warn(msg, category=FutureWarning)\n"
          ]
        }
      ]
    },
    {
      "cell_type": "markdown",
      "metadata": {
        "id": "U83pBYB3UixY"
      },
      "source": [
        "Check the shapes"
      ]
    },
    {
      "cell_type": "code",
      "metadata": {
        "colab": {
          "base_uri": "https://localhost:8080/"
        },
        "id": "2RtSsx2ARwlt",
        "outputId": "8c091342-ccc6-4332-9752-e014f1a85c5e"
      },
      "source": [
        "print('Data shape:', data_new.shape)\n",
        "print('Labels shape:', labels_new.shape)"
      ],
      "execution_count": 55,
      "outputs": [
        {
          "output_type": "stream",
          "name": "stdout",
          "text": [
            "Data shape: (13198, 95)\n",
            "Labels shape: (13198,)\n"
          ]
        }
      ]
    },
    {
      "cell_type": "code",
      "metadata": {
        "colab": {
          "base_uri": "https://localhost:8080/"
        },
        "id": "IVkhRUsSSfSa",
        "outputId": "17e84745-ef16-4fe6-eab2-66b3257b61f3"
      },
      "source": [
        "new_df = pd.DataFrame(labels_new)\n",
        "result = new_df[0].value_counts()\n",
        "zero_percentage = round((result[0]*100)/(result[0]+result[1]),2)\n",
        "print(\"No. of 0: \"+ str(result[0]) + \"\\nNo. of 1: \" + str(result[1]) + \n",
        "      \"\\nPercentage of 0: \"+ str(zero_percentage)+ \" %\\nPercentage of 1: \"+\n",
        "      str(round((100-zero_percentage),2))+\" %\")"
      ],
      "execution_count": 56,
      "outputs": [
        {
          "output_type": "stream",
          "name": "stdout",
          "text": [
            "No. of 0: 6599\n",
            "No. of 1: 6599\n",
            "Percentage of 0: 50.0 %\n",
            "Percentage of 1: 50.0 %\n"
          ]
        }
      ]
    },
    {
      "cell_type": "code",
      "metadata": {
        "colab": {
          "base_uri": "https://localhost:8080/",
          "height": 298
        },
        "id": "SFvR-x-LSfSb",
        "outputId": "24aa9699-2d9e-4b59-cd34-a316fc3eebc3"
      },
      "source": [
        "plt.bar(x=[\"No Bankrupt\", \"Bankrupt\"], height=[result[0], result[1]], color=[\"royalblue\", \"indianred\"])\n",
        "plt.ylabel(\"Count\")\n",
        "plt.title(\"Number of No Bankrupt rows vs number of Bankrupt rows \")"
      ],
      "execution_count": 57,
      "outputs": [
        {
          "output_type": "execute_result",
          "data": {
            "text/plain": [
              "Text(0.5, 1.0, 'Number of No Bankrupt rows vs number of Bankrupt rows ')"
            ]
          },
          "metadata": {},
          "execution_count": 57
        },
        {
          "output_type": "display_data",
          "data": {
            "image/png": "[encoded data removed]",
            "text/plain": [
              "<Figure size 432x288 with 1 Axes>"
            ]
          },
          "metadata": {
            "needs_background": "light"
          }
        }
      ]
    },
    {
      "cell_type": "code",
      "metadata": {
        "colab": {
          "base_uri": "https://localhost:8080/",
          "height": 281
        },
        "id": "IOeeoRGISfSb",
        "outputId": "fc5d696b-28eb-415e-81ee-85ff2b8e1dd2"
      },
      "source": [
        "plt.pie([result[0], result[1]], labels=[\"No Bankrupt\", \"Bankrupt\"], explode=(0.1, 0), autopct='%1.2f%%', colors=[\"thistle\", \"paleturquoise\"], radius=1)\n",
        "plt.title(\"Percentage of No Bankrupt vs percentage of Bankrupt\")"
      ],
      "execution_count": 58,
      "outputs": [
        {
          "output_type": "execute_result",
          "data": {
            "text/plain": [
              "Text(0.5, 1.0, 'Percentage of No Bankrupt vs percentage of Bankrupt')"
            ]
          },
          "metadata": {},
          "execution_count": 58
        },
        {
          "output_type": "display_data",
          "data": {
            "image/png": "[encoded data removed]",
            "text/plain": [
              "<Figure size 432x288 with 1 Axes>"
            ]
          },
          "metadata": {}
        }
      ]
    },
    {
      "cell_type": "markdown",
      "metadata": {
        "id": "TQSN7MiSSfSb"
      },
      "source": [
        "As we can see the dataset is perfectly balanced."
      ]
    },
    {
      "cell_type": "markdown",
      "metadata": {
        "id": "HwlFckFIwPf0"
      },
      "source": [
        "## Split data into training, validation and test set"
      ]
    },
    {
      "cell_type": "markdown",
      "metadata": {
        "id": "0F0NMf7aBx-k"
      },
      "source": [
        "Split the data in:\n",
        "* x_train: The training set data\n",
        "* y_train: The training set label\n",
        "* x_valid: The validation set data\n",
        "* y_valid: The validation set label\n",
        "* x_test: The validation set data\n",
        "* y_test: The validation set label\n",
        "\n",
        "The dimension will be something like\n",
        "\n",
        "* Training: 70%\n",
        "* Validation: 20%\n",
        "* Test: 10%"
      ]
    },
    {
      "cell_type": "code",
      "metadata": {
        "id": "Y1KcVasVwSs5"
      },
      "source": [
        "x_train, x_test, y_train, y_test = train_test_split(data_new, labels_new, train_size=0.9)\n",
        "x_train, x_valid, y_train, y_valid = train_test_split(x_train, y_train, train_size=0.8)"
      ],
      "execution_count": 59,
      "outputs": []
    },
    {
      "cell_type": "markdown",
      "metadata": {
        "id": "HTahAzZJCtcs"
      },
      "source": [
        "Print all the sizes"
      ]
    },
    {
      "cell_type": "code",
      "metadata": {
        "colab": {
          "base_uri": "https://localhost:8080/"
        },
        "id": "GlMm2IwKwugb",
        "outputId": "ae2cfcf1-51db-45de-8ffe-0e199242a67c"
      },
      "source": [
        "print('Train data shape:', x_train.shape)\n",
        "print('Train labels shape:', y_train.shape)\n",
        "print('Validation data shape:', x_valid.shape)\n",
        "print('Validation labels shape:', y_valid.shape)\n",
        "print('Test data shape:', x_test.shape)\n",
        "print('Test labels shape:', y_test.shape)"
      ],
      "execution_count": 60,
      "outputs": [
        {
          "output_type": "stream",
          "name": "stdout",
          "text": [
            "Train data shape: (9502, 95)\n",
            "Train labels shape: (9502,)\n",
            "Validation data shape: (2376, 95)\n",
            "Validation labels shape: (2376,)\n",
            "Test data shape: (1320, 95)\n",
            "Test labels shape: (1320,)\n"
          ]
        }
      ]
    },
    {
      "cell_type": "markdown",
      "metadata": {
        "id": "60HT1pwCxI0F"
      },
      "source": [
        "## Create New Model"
      ]
    },
    {
      "cell_type": "markdown",
      "metadata": {
        "id": "691U7JYNE_a0"
      },
      "source": [
        "### Options\n",
        "\n",
        "In this section there are some boolean variables to tune what the code will do:\n",
        "\n",
        "* train_model -> True: the network will be trained / False: network wont' be trained\n",
        "* model_loss -> True: plot the model loss / False: don't plot the model loss\n",
        "* model_accuracy -> True: plot the model accuracy / False: don't plot the model accuracy\n",
        "* evaluate_model -> True: evaluate the model / False: don't evaluate the model\n",
        "* conf_matr -> True: plot the confusion matrix / False: don't plot the confusion matrix\n",
        "* plot_model -> True: plot the structure of the network / False: don't plot the structure of the network\n",
        "* save_model -> True: save the model / False: don't save the model"
      ]
    },
    {
      "cell_type": "code",
      "metadata": {
        "id": "HoljJF-6E__7"
      },
      "source": [
        "train_model = True\n",
        "model_loss = True\n",
        "model_accuracy = True\n",
        "evaluate_model = True\n",
        "conf_matr = True\n",
        "plot_model = True\n",
        "save_model = False"
      ],
      "execution_count": 61,
      "outputs": []
    },
    {
      "cell_type": "markdown",
      "metadata": {
        "id": "SJ5uNrhyEXu-"
      },
      "source": [
        "### Create the network"
      ]
    },
    {
      "cell_type": "code",
      "metadata": {
        "id": "orkv-WlKxLBp"
      },
      "source": [
        "model = keras.models.Sequential()\n",
        "model.add(keras.layers.Dense(128, activation='relu', input_shape=(95,)))\n",
        "model.add(keras.layers.Dense(64,kernel_regularizer=keras.regularizers.l2(0.001), activation='relu'))\n",
        "model.add(keras.layers.Dropout(0.5))\n",
        "model.add(keras.layers.Dense(32,kernel_regularizer=keras.regularizers.l2(0.001), activation='relu'))\n",
        "model.add(keras.layers.Dropout(0.5))\n",
        "model.add(keras.layers.Dense(16,kernel_regularizer=keras.regularizers.l2(0.001), activation='relu'))\n",
        "model.add(keras.layers.Dense(1, activation='sigmoid'))\n",
        "optimizer = keras.optimizers.RMSprop(learning_rate=0.001)\n",
        "model.compile(optimizer=optimizer, loss='binary_crossentropy', metrics=['accuracy'])"
      ],
      "execution_count": 62,
      "outputs": []
    },
    {
      "cell_type": "markdown",
      "metadata": {
        "id": "LigW-AsMEbri"
      },
      "source": [
        "### Train the network"
      ]
    },
    {
      "cell_type": "code",
      "metadata": {
        "colab": {
          "base_uri": "https://localhost:8080/"
        },
        "id": "D9EaKz5dzOeL",
        "outputId": "19074caa-a8d8-4f09-999b-d6d88c9abe65"
      },
      "source": [
        "if train_model == True:\n",
        "  history = model.fit(x_train, y_train, epochs=200, validation_data=(x_valid,y_valid))"
      ],
      "execution_count": 63,
      "outputs": [
        {
          "output_type": "stream",
          "name": "stdout",
          "text": [
            "Epoch 1/200\n",
            "297/297 [==============================] - 2s 3ms/step - loss: 0.7063 - accuracy: 0.6631 - val_loss: 0.4961 - val_accuracy: 0.8287\n",
            "Epoch 2/200\n",
            "297/297 [==============================] - 1s 3ms/step - loss: 0.4646 - accuracy: 0.8414 - val_loss: 0.3816 - val_accuracy: 0.8691\n",
            "Epoch 3/200\n",
            "297/297 [==============================] - 1s 3ms/step - loss: 0.3847 - accuracy: 0.8748 - val_loss: 0.3280 - val_accuracy: 0.8906\n",
            "Epoch 4/200\n",
            "297/297 [==============================] - 1s 2ms/step - loss: 0.3505 - accuracy: 0.8836 - val_loss: 0.3075 - val_accuracy: 0.8994\n",
            "Epoch 5/200\n",
            "297/297 [==============================] - 1s 2ms/step - loss: 0.3207 - accuracy: 0.8904 - val_loss: 0.3004 - val_accuracy: 0.8994\n",
            "Epoch 6/200\n",
            "297/297 [==============================] - 1s 3ms/step - loss: 0.3073 - accuracy: 0.9010 - val_loss: 0.2773 - val_accuracy: 0.9070\n",
            "Epoch 7/200\n",
            "297/297 [==============================] - 1s 3ms/step - loss: 0.2889 - accuracy: 0.9056 - val_loss: 0.2607 - val_accuracy: 0.9162\n",
            "Epoch 8/200\n",
            "297/297 [==============================] - 1s 3ms/step - loss: 0.2823 - accuracy: 0.9117 - val_loss: 0.2467 - val_accuracy: 0.9213\n",
            "Epoch 9/200\n",
            "297/297 [==============================] - 1s 2ms/step - loss: 0.2634 - accuracy: 0.9150 - val_loss: 0.2688 - val_accuracy: 0.9087\n",
            "Epoch 10/200\n",
            "297/297 [==============================] - 1s 2ms/step - loss: 0.2572 - accuracy: 0.9184 - val_loss: 0.2506 - val_accuracy: 0.9318\n",
            "Epoch 11/200\n",
            "297/297 [==============================] - 1s 3ms/step - loss: 0.2584 - accuracy: 0.9157 - val_loss: 0.2592 - val_accuracy: 0.9125\n",
            "Epoch 12/200\n",
            "297/297 [==============================] - 1s 3ms/step - loss: 0.2405 - accuracy: 0.9228 - val_loss: 0.2374 - val_accuracy: 0.9301\n",
            "Epoch 13/200\n",
            "297/297 [==============================] - 1s 2ms/step - loss: 0.2391 - accuracy: 0.9272 - val_loss: 0.4187 - val_accuracy: 0.8573\n",
            "Epoch 14/200\n",
            "297/297 [==============================] - 1s 3ms/step - loss: 0.2367 - accuracy: 0.9280 - val_loss: 0.2308 - val_accuracy: 0.9369\n",
            "Epoch 15/200\n",
            "297/297 [==============================] - 1s 3ms/step - loss: 0.2317 - accuracy: 0.9269 - val_loss: 0.2660 - val_accuracy: 0.9255\n",
            "Epoch 16/200\n",
            "297/297 [==============================] - 1s 3ms/step - loss: 0.2305 - accuracy: 0.9298 - val_loss: 0.2649 - val_accuracy: 0.9234\n",
            "Epoch 17/200\n",
            "297/297 [==============================] - 1s 3ms/step - loss: 0.2357 - accuracy: 0.9313 - val_loss: 0.3210 - val_accuracy: 0.8965\n",
            "Epoch 18/200\n",
            "297/297 [==============================] - 1s 3ms/step - loss: 0.2159 - accuracy: 0.9346 - val_loss: 0.3710 - val_accuracy: 0.8729\n",
            "Epoch 19/200\n",
            "297/297 [==============================] - 1s 3ms/step - loss: 0.2261 - accuracy: 0.9308 - val_loss: 0.2166 - val_accuracy: 0.9415\n",
            "Epoch 20/200\n",
            "297/297 [==============================] - 1s 3ms/step - loss: 0.2122 - accuracy: 0.9352 - val_loss: 0.2497 - val_accuracy: 0.9221\n",
            "Epoch 21/200\n",
            "297/297 [==============================] - 1s 3ms/step - loss: 0.2075 - accuracy: 0.9365 - val_loss: 0.2212 - val_accuracy: 0.9444\n",
            "Epoch 22/200\n",
            "297/297 [==============================] - 1s 3ms/step - loss: 0.2139 - accuracy: 0.9373 - val_loss: 0.2992 - val_accuracy: 0.9057\n",
            "Epoch 23/200\n",
            "297/297 [==============================] - 1s 3ms/step - loss: 0.2088 - accuracy: 0.9396 - val_loss: 0.2234 - val_accuracy: 0.9373\n",
            "Epoch 24/200\n",
            "297/297 [==============================] - 1s 3ms/step - loss: 0.2070 - accuracy: 0.9391 - val_loss: 0.2558 - val_accuracy: 0.9238\n",
            "Epoch 25/200\n",
            "297/297 [==============================] - 1s 3ms/step - loss: 0.2007 - accuracy: 0.9424 - val_loss: 0.1995 - val_accuracy: 0.9499\n",
            "Epoch 26/200\n",
            "297/297 [==============================] - 1s 3ms/step - loss: 0.1965 - accuracy: 0.9422 - val_loss: 0.2385 - val_accuracy: 0.9318\n",
            "Epoch 27/200\n",
            "297/297 [==============================] - 1s 3ms/step - loss: 0.1986 - accuracy: 0.9436 - val_loss: 0.2223 - val_accuracy: 0.9444\n",
            "Epoch 28/200\n",
            "297/297 [==============================] - 1s 3ms/step - loss: 0.1903 - accuracy: 0.9431 - val_loss: 0.3459 - val_accuracy: 0.9028\n",
            "Epoch 29/200\n",
            "297/297 [==============================] - 1s 3ms/step - loss: 0.1945 - accuracy: 0.9427 - val_loss: 0.2046 - val_accuracy: 0.9512\n",
            "Epoch 30/200\n",
            "297/297 [==============================] - 1s 3ms/step - loss: 0.1866 - accuracy: 0.9470 - val_loss: 0.2110 - val_accuracy: 0.9491\n",
            "Epoch 31/200\n",
            "297/297 [==============================] - 1s 3ms/step - loss: 0.1875 - accuracy: 0.9475 - val_loss: 0.2134 - val_accuracy: 0.9499\n",
            "Epoch 32/200\n",
            "297/297 [==============================] - 1s 2ms/step - loss: 0.1861 - accuracy: 0.9459 - val_loss: 0.2081 - val_accuracy: 0.9478\n",
            "Epoch 33/200\n",
            "297/297 [==============================] - 1s 3ms/step - loss: 0.1846 - accuracy: 0.9474 - val_loss: 0.1953 - val_accuracy: 0.9512\n",
            "Epoch 34/200\n",
            "297/297 [==============================] - 1s 3ms/step - loss: 0.1821 - accuracy: 0.9470 - val_loss: 0.2058 - val_accuracy: 0.9440\n",
            "Epoch 35/200\n",
            "297/297 [==============================] - 1s 3ms/step - loss: 0.1844 - accuracy: 0.9492 - val_loss: 0.2011 - val_accuracy: 0.9470\n",
            "Epoch 36/200\n",
            "297/297 [==============================] - 1s 3ms/step - loss: 0.1857 - accuracy: 0.9462 - val_loss: 0.2272 - val_accuracy: 0.9394\n",
            "Epoch 37/200\n",
            "297/297 [==============================] - 1s 3ms/step - loss: 0.1786 - accuracy: 0.9494 - val_loss: 0.1989 - val_accuracy: 0.9491\n",
            "Epoch 38/200\n",
            "297/297 [==============================] - 1s 3ms/step - loss: 0.1775 - accuracy: 0.9504 - val_loss: 0.2052 - val_accuracy: 0.9495\n",
            "Epoch 39/200\n",
            "297/297 [==============================] - 1s 3ms/step - loss: 0.1757 - accuracy: 0.9490 - val_loss: 0.1854 - val_accuracy: 0.9554\n",
            "Epoch 40/200\n",
            "297/297 [==============================] - 1s 3ms/step - loss: 0.1692 - accuracy: 0.9527 - val_loss: 0.1994 - val_accuracy: 0.9478\n",
            "Epoch 41/200\n",
            "297/297 [==============================] - 1s 3ms/step - loss: 0.1772 - accuracy: 0.9511 - val_loss: 0.1821 - val_accuracy: 0.9520\n",
            "Epoch 42/200\n",
            "297/297 [==============================] - 1s 3ms/step - loss: 0.1693 - accuracy: 0.9529 - val_loss: 0.3854 - val_accuracy: 0.8801\n",
            "Epoch 43/200\n",
            "297/297 [==============================] - 1s 3ms/step - loss: 0.1680 - accuracy: 0.9520 - val_loss: 0.1851 - val_accuracy: 0.9558\n",
            "Epoch 44/200\n",
            "297/297 [==============================] - 1s 2ms/step - loss: 0.1595 - accuracy: 0.9536 - val_loss: 0.2020 - val_accuracy: 0.9508\n",
            "Epoch 45/200\n",
            "297/297 [==============================] - 1s 2ms/step - loss: 0.1627 - accuracy: 0.9546 - val_loss: 0.1845 - val_accuracy: 0.9533\n",
            "Epoch 46/200\n",
            "297/297 [==============================] - 1s 3ms/step - loss: 0.1718 - accuracy: 0.9541 - val_loss: 0.1994 - val_accuracy: 0.9487\n",
            "Epoch 47/200\n",
            "297/297 [==============================] - 1s 2ms/step - loss: 0.1674 - accuracy: 0.9526 - val_loss: 0.1880 - val_accuracy: 0.9537\n",
            "Epoch 48/200\n",
            "297/297 [==============================] - 1s 2ms/step - loss: 0.1677 - accuracy: 0.9552 - val_loss: 0.1913 - val_accuracy: 0.9533\n",
            "Epoch 49/200\n",
            "297/297 [==============================] - 1s 3ms/step - loss: 0.1570 - accuracy: 0.9577 - val_loss: 0.1798 - val_accuracy: 0.9550\n",
            "Epoch 50/200\n",
            "297/297 [==============================] - 1s 3ms/step - loss: 0.1610 - accuracy: 0.9573 - val_loss: 0.2307 - val_accuracy: 0.9444\n",
            "Epoch 51/200\n",
            "297/297 [==============================] - 1s 2ms/step - loss: 0.1587 - accuracy: 0.9571 - val_loss: 0.1882 - val_accuracy: 0.9558\n",
            "Epoch 52/200\n",
            "297/297 [==============================] - 1s 2ms/step - loss: 0.1550 - accuracy: 0.9574 - val_loss: 0.1878 - val_accuracy: 0.9533\n",
            "Epoch 53/200\n",
            "297/297 [==============================] - 1s 2ms/step - loss: 0.1533 - accuracy: 0.9583 - val_loss: 0.1852 - val_accuracy: 0.9545\n",
            "Epoch 54/200\n",
            "297/297 [==============================] - 1s 3ms/step - loss: 0.1611 - accuracy: 0.9566 - val_loss: 0.1784 - val_accuracy: 0.9579\n",
            "Epoch 55/200\n",
            "297/297 [==============================] - 1s 3ms/step - loss: 0.1567 - accuracy: 0.9566 - val_loss: 0.1869 - val_accuracy: 0.9558\n",
            "Epoch 56/200\n",
            "297/297 [==============================] - 1s 3ms/step - loss: 0.1585 - accuracy: 0.9572 - val_loss: 0.1756 - val_accuracy: 0.9571\n",
            "Epoch 57/200\n",
            "297/297 [==============================] - 1s 3ms/step - loss: 0.1555 - accuracy: 0.9585 - val_loss: 0.1900 - val_accuracy: 0.9545\n",
            "Epoch 58/200\n",
            "297/297 [==============================] - 1s 2ms/step - loss: 0.1537 - accuracy: 0.9594 - val_loss: 0.1689 - val_accuracy: 0.9579\n",
            "Epoch 59/200\n",
            "297/297 [==============================] - 1s 3ms/step - loss: 0.1525 - accuracy: 0.9582 - val_loss: 0.1727 - val_accuracy: 0.9571\n",
            "Epoch 60/200\n",
            "297/297 [==============================] - 1s 3ms/step - loss: 0.1544 - accuracy: 0.9586 - val_loss: 0.2047 - val_accuracy: 0.9436\n",
            "Epoch 61/200\n",
            "297/297 [==============================] - 1s 3ms/step - loss: 0.1531 - accuracy: 0.9606 - val_loss: 0.1946 - val_accuracy: 0.9457\n",
            "Epoch 62/200\n",
            "297/297 [==============================] - 1s 2ms/step - loss: 0.1508 - accuracy: 0.9590 - val_loss: 0.1853 - val_accuracy: 0.9478\n",
            "Epoch 63/200\n",
            "297/297 [==============================] - 1s 3ms/step - loss: 0.1490 - accuracy: 0.9607 - val_loss: 0.1811 - val_accuracy: 0.9520\n",
            "Epoch 64/200\n",
            "297/297 [==============================] - 1s 2ms/step - loss: 0.1466 - accuracy: 0.9606 - val_loss: 0.1937 - val_accuracy: 0.9499\n",
            "Epoch 65/200\n",
            "297/297 [==============================] - 1s 3ms/step - loss: 0.1506 - accuracy: 0.9594 - val_loss: 0.1861 - val_accuracy: 0.9533\n",
            "Epoch 66/200\n",
            "297/297 [==============================] - 1s 2ms/step - loss: 0.1462 - accuracy: 0.9603 - val_loss: 0.1591 - val_accuracy: 0.9579\n",
            "Epoch 67/200\n",
            "297/297 [==============================] - 1s 3ms/step - loss: 0.1431 - accuracy: 0.9609 - val_loss: 0.2106 - val_accuracy: 0.9449\n",
            "Epoch 68/200\n",
            "297/297 [==============================] - 1s 3ms/step - loss: 0.1425 - accuracy: 0.9650 - val_loss: 0.2167 - val_accuracy: 0.9478\n",
            "Epoch 69/200\n",
            "297/297 [==============================] - 1s 3ms/step - loss: 0.1475 - accuracy: 0.9616 - val_loss: 0.2086 - val_accuracy: 0.9411\n",
            "Epoch 70/200\n",
            "297/297 [==============================] - 1s 2ms/step - loss: 0.1440 - accuracy: 0.9623 - val_loss: 0.1716 - val_accuracy: 0.9604\n",
            "Epoch 71/200\n",
            "297/297 [==============================] - 1s 3ms/step - loss: 0.1487 - accuracy: 0.9613 - val_loss: 0.2233 - val_accuracy: 0.9432\n",
            "Epoch 72/200\n",
            "297/297 [==============================] - 1s 2ms/step - loss: 0.1496 - accuracy: 0.9599 - val_loss: 0.1537 - val_accuracy: 0.9604\n",
            "Epoch 73/200\n",
            "297/297 [==============================] - 1s 3ms/step - loss: 0.1449 - accuracy: 0.9607 - val_loss: 0.1699 - val_accuracy: 0.9600\n",
            "Epoch 74/200\n",
            "297/297 [==============================] - 1s 3ms/step - loss: 0.1406 - accuracy: 0.9630 - val_loss: 0.1790 - val_accuracy: 0.9545\n",
            "Epoch 75/200\n",
            "297/297 [==============================] - 1s 3ms/step - loss: 0.1421 - accuracy: 0.9623 - val_loss: 0.1711 - val_accuracy: 0.9630\n",
            "Epoch 76/200\n",
            "297/297 [==============================] - 1s 2ms/step - loss: 0.1432 - accuracy: 0.9626 - val_loss: 0.1802 - val_accuracy: 0.9533\n",
            "Epoch 77/200\n",
            "297/297 [==============================] - 1s 2ms/step - loss: 0.1409 - accuracy: 0.9633 - val_loss: 0.1589 - val_accuracy: 0.9625\n",
            "Epoch 78/200\n",
            "297/297 [==============================] - 1s 2ms/step - loss: 0.1466 - accuracy: 0.9616 - val_loss: 0.1809 - val_accuracy: 0.9566\n",
            "Epoch 79/200\n",
            "297/297 [==============================] - 1s 2ms/step - loss: 0.1396 - accuracy: 0.9642 - val_loss: 0.2070 - val_accuracy: 0.9440\n",
            "Epoch 80/200\n",
            "297/297 [==============================] - 1s 3ms/step - loss: 0.1408 - accuracy: 0.9634 - val_loss: 0.2123 - val_accuracy: 0.9508\n",
            "Epoch 81/200\n",
            "297/297 [==============================] - 1s 3ms/step - loss: 0.1406 - accuracy: 0.9621 - val_loss: 0.2065 - val_accuracy: 0.9491\n",
            "Epoch 82/200\n",
            "297/297 [==============================] - 1s 3ms/step - loss: 0.1374 - accuracy: 0.9641 - val_loss: 0.1820 - val_accuracy: 0.9571\n",
            "Epoch 83/200\n",
            "297/297 [==============================] - 1s 3ms/step - loss: 0.1384 - accuracy: 0.9644 - val_loss: 0.1943 - val_accuracy: 0.9524\n",
            "Epoch 84/200\n",
            "297/297 [==============================] - 1s 3ms/step - loss: 0.1486 - accuracy: 0.9628 - val_loss: 0.1884 - val_accuracy: 0.9516\n",
            "Epoch 85/200\n",
            "297/297 [==============================] - 1s 3ms/step - loss: 0.1402 - accuracy: 0.9660 - val_loss: 0.1870 - val_accuracy: 0.9508\n",
            "Epoch 86/200\n",
            "297/297 [==============================] - 1s 3ms/step - loss: 0.1342 - accuracy: 0.9656 - val_loss: 0.1687 - val_accuracy: 0.9621\n",
            "Epoch 87/200\n",
            "297/297 [==============================] - 1s 3ms/step - loss: 0.1420 - accuracy: 0.9636 - val_loss: 0.1623 - val_accuracy: 0.9621\n",
            "Epoch 88/200\n",
            "297/297 [==============================] - 1s 3ms/step - loss: 0.1410 - accuracy: 0.9642 - val_loss: 0.1578 - val_accuracy: 0.9651\n",
            "Epoch 89/200\n",
            "297/297 [==============================] - 1s 3ms/step - loss: 0.1406 - accuracy: 0.9652 - val_loss: 0.1588 - val_accuracy: 0.9651\n",
            "Epoch 90/200\n",
            "297/297 [==============================] - 1s 3ms/step - loss: 0.1423 - accuracy: 0.9661 - val_loss: 0.1735 - val_accuracy: 0.9634\n",
            "Epoch 91/200\n",
            "297/297 [==============================] - 1s 3ms/step - loss: 0.1435 - accuracy: 0.9631 - val_loss: 0.1604 - val_accuracy: 0.9613\n",
            "Epoch 92/200\n",
            "297/297 [==============================] - 1s 3ms/step - loss: 0.1390 - accuracy: 0.9652 - val_loss: 0.1499 - val_accuracy: 0.9668\n",
            "Epoch 93/200\n",
            "297/297 [==============================] - 1s 3ms/step - loss: 0.1345 - accuracy: 0.9670 - val_loss: 0.1821 - val_accuracy: 0.9524\n",
            "Epoch 94/200\n",
            "297/297 [==============================] - 1s 2ms/step - loss: 0.1371 - accuracy: 0.9657 - val_loss: 0.1894 - val_accuracy: 0.9520\n",
            "Epoch 95/200\n",
            "297/297 [==============================] - 1s 3ms/step - loss: 0.1349 - accuracy: 0.9677 - val_loss: 0.1919 - val_accuracy: 0.9516\n",
            "Epoch 96/200\n",
            "297/297 [==============================] - 1s 3ms/step - loss: 0.1300 - accuracy: 0.9681 - val_loss: 0.1576 - val_accuracy: 0.9613\n",
            "Epoch 97/200\n",
            "297/297 [==============================] - 1s 3ms/step - loss: 0.1383 - accuracy: 0.9664 - val_loss: 0.1832 - val_accuracy: 0.9562\n",
            "Epoch 98/200\n",
            "297/297 [==============================] - 1s 2ms/step - loss: 0.1347 - accuracy: 0.9644 - val_loss: 0.1964 - val_accuracy: 0.9499\n",
            "Epoch 99/200\n",
            "297/297 [==============================] - 1s 2ms/step - loss: 0.1287 - accuracy: 0.9676 - val_loss: 0.1788 - val_accuracy: 0.9575\n",
            "Epoch 100/200\n",
            "297/297 [==============================] - 1s 3ms/step - loss: 0.1300 - accuracy: 0.9681 - val_loss: 0.1582 - val_accuracy: 0.9588\n",
            "Epoch 101/200\n",
            "297/297 [==============================] - 1s 3ms/step - loss: 0.1277 - accuracy: 0.9692 - val_loss: 0.2265 - val_accuracy: 0.9453\n",
            "Epoch 102/200\n",
            "297/297 [==============================] - 1s 3ms/step - loss: 0.1273 - accuracy: 0.9693 - val_loss: 0.1658 - val_accuracy: 0.9600\n",
            "Epoch 103/200\n",
            "297/297 [==============================] - 1s 2ms/step - loss: 0.1295 - accuracy: 0.9662 - val_loss: 0.1954 - val_accuracy: 0.9537\n",
            "Epoch 104/200\n",
            "297/297 [==============================] - 1s 2ms/step - loss: 0.1317 - accuracy: 0.9659 - val_loss: 0.1574 - val_accuracy: 0.9625\n",
            "Epoch 105/200\n",
            "297/297 [==============================] - 1s 2ms/step - loss: 0.1379 - accuracy: 0.9642 - val_loss: 0.1480 - val_accuracy: 0.9668\n",
            "Epoch 106/200\n",
            "297/297 [==============================] - 1s 3ms/step - loss: 0.1277 - accuracy: 0.9682 - val_loss: 0.1701 - val_accuracy: 0.9630\n",
            "Epoch 107/200\n",
            "297/297 [==============================] - 1s 3ms/step - loss: 0.1313 - accuracy: 0.9704 - val_loss: 0.2003 - val_accuracy: 0.9529\n",
            "Epoch 108/200\n",
            "297/297 [==============================] - 1s 3ms/step - loss: 0.1289 - accuracy: 0.9694 - val_loss: 0.1682 - val_accuracy: 0.9592\n",
            "Epoch 109/200\n",
            "297/297 [==============================] - 1s 3ms/step - loss: 0.1298 - accuracy: 0.9681 - val_loss: 0.1761 - val_accuracy: 0.9625\n",
            "Epoch 110/200\n",
            "297/297 [==============================] - 1s 3ms/step - loss: 0.1251 - accuracy: 0.9701 - val_loss: 0.1443 - val_accuracy: 0.9680\n",
            "Epoch 111/200\n",
            "297/297 [==============================] - 1s 3ms/step - loss: 0.1245 - accuracy: 0.9675 - val_loss: 0.1960 - val_accuracy: 0.9516\n",
            "Epoch 112/200\n",
            "297/297 [==============================] - 1s 3ms/step - loss: 0.1211 - accuracy: 0.9694 - val_loss: 0.1797 - val_accuracy: 0.9579\n",
            "Epoch 113/200\n",
            "297/297 [==============================] - 1s 3ms/step - loss: 0.1254 - accuracy: 0.9682 - val_loss: 0.1562 - val_accuracy: 0.9689\n",
            "Epoch 114/200\n",
            "297/297 [==============================] - 1s 3ms/step - loss: 0.1218 - accuracy: 0.9712 - val_loss: 0.1550 - val_accuracy: 0.9638\n",
            "Epoch 115/200\n",
            "297/297 [==============================] - 1s 3ms/step - loss: 0.1241 - accuracy: 0.9702 - val_loss: 0.1791 - val_accuracy: 0.9524\n",
            "Epoch 116/200\n",
            "297/297 [==============================] - 1s 2ms/step - loss: 0.1245 - accuracy: 0.9682 - val_loss: 0.1593 - val_accuracy: 0.9625\n",
            "Epoch 117/200\n",
            "297/297 [==============================] - 1s 3ms/step - loss: 0.1248 - accuracy: 0.9684 - val_loss: 0.1798 - val_accuracy: 0.9558\n",
            "Epoch 118/200\n",
            "297/297 [==============================] - 1s 3ms/step - loss: 0.1239 - accuracy: 0.9693 - val_loss: 0.1832 - val_accuracy: 0.9583\n",
            "Epoch 119/200\n",
            "297/297 [==============================] - 1s 3ms/step - loss: 0.1242 - accuracy: 0.9693 - val_loss: 0.2573 - val_accuracy: 0.9339\n",
            "Epoch 120/200\n",
            "297/297 [==============================] - 1s 3ms/step - loss: 0.1247 - accuracy: 0.9681 - val_loss: 0.2908 - val_accuracy: 0.9082\n",
            "Epoch 121/200\n",
            "297/297 [==============================] - 1s 3ms/step - loss: 0.1253 - accuracy: 0.9694 - val_loss: 0.1667 - val_accuracy: 0.9625\n",
            "Epoch 122/200\n",
            "297/297 [==============================] - 1s 3ms/step - loss: 0.1335 - accuracy: 0.9687 - val_loss: 0.1916 - val_accuracy: 0.9545\n",
            "Epoch 123/200\n",
            "297/297 [==============================] - 1s 2ms/step - loss: 0.1239 - accuracy: 0.9697 - val_loss: 0.1750 - val_accuracy: 0.9566\n",
            "Epoch 124/200\n",
            "297/297 [==============================] - 1s 3ms/step - loss: 0.1231 - accuracy: 0.9688 - val_loss: 0.1598 - val_accuracy: 0.9609\n",
            "Epoch 125/200\n",
            "297/297 [==============================] - 1s 3ms/step - loss: 0.1273 - accuracy: 0.9694 - val_loss: 0.2039 - val_accuracy: 0.9541\n",
            "Epoch 126/200\n",
            "297/297 [==============================] - 1s 3ms/step - loss: 0.1227 - accuracy: 0.9723 - val_loss: 0.2920 - val_accuracy: 0.9196\n",
            "Epoch 127/200\n",
            "297/297 [==============================] - 1s 2ms/step - loss: 0.1229 - accuracy: 0.9700 - val_loss: 0.1717 - val_accuracy: 0.9575\n",
            "Epoch 128/200\n",
            "297/297 [==============================] - 1s 3ms/step - loss: 0.1312 - accuracy: 0.9681 - val_loss: 0.1455 - val_accuracy: 0.9646\n",
            "Epoch 129/200\n",
            "297/297 [==============================] - 1s 3ms/step - loss: 0.1199 - accuracy: 0.9702 - val_loss: 0.1641 - val_accuracy: 0.9630\n",
            "Epoch 130/200\n",
            "297/297 [==============================] - 1s 3ms/step - loss: 0.1217 - accuracy: 0.9720 - val_loss: 0.1414 - val_accuracy: 0.9701\n",
            "Epoch 131/200\n",
            "297/297 [==============================] - 1s 2ms/step - loss: 0.1222 - accuracy: 0.9700 - val_loss: 0.1623 - val_accuracy: 0.9668\n",
            "Epoch 132/200\n",
            "297/297 [==============================] - 1s 2ms/step - loss: 0.1203 - accuracy: 0.9716 - val_loss: 0.1800 - val_accuracy: 0.9600\n",
            "Epoch 133/200\n",
            "297/297 [==============================] - 1s 2ms/step - loss: 0.1207 - accuracy: 0.9714 - val_loss: 0.1852 - val_accuracy: 0.9554\n",
            "Epoch 134/200\n",
            "297/297 [==============================] - 1s 3ms/step - loss: 0.1218 - accuracy: 0.9714 - val_loss: 0.1767 - val_accuracy: 0.9558\n",
            "Epoch 135/200\n",
            "297/297 [==============================] - 1s 2ms/step - loss: 0.1199 - accuracy: 0.9722 - val_loss: 0.1676 - val_accuracy: 0.9638\n",
            "Epoch 136/200\n",
            "297/297 [==============================] - 1s 3ms/step - loss: 0.1205 - accuracy: 0.9722 - val_loss: 0.1557 - val_accuracy: 0.9646\n",
            "Epoch 137/200\n",
            "297/297 [==============================] - 1s 3ms/step - loss: 0.1236 - accuracy: 0.9711 - val_loss: 0.1403 - val_accuracy: 0.9693\n",
            "Epoch 138/200\n",
            "297/297 [==============================] - 1s 3ms/step - loss: 0.1195 - accuracy: 0.9715 - val_loss: 0.1643 - val_accuracy: 0.9625\n",
            "Epoch 139/200\n",
            "297/297 [==============================] - 1s 3ms/step - loss: 0.1243 - accuracy: 0.9711 - val_loss: 0.2213 - val_accuracy: 0.9179\n",
            "Epoch 140/200\n",
            "297/297 [==============================] - 1s 2ms/step - loss: 0.1190 - accuracy: 0.9713 - val_loss: 0.1456 - val_accuracy: 0.9689\n",
            "Epoch 141/200\n",
            "297/297 [==============================] - 1s 2ms/step - loss: 0.1219 - accuracy: 0.9715 - val_loss: 0.1506 - val_accuracy: 0.9642\n",
            "Epoch 142/200\n",
            "297/297 [==============================] - 1s 3ms/step - loss: 0.1165 - accuracy: 0.9720 - val_loss: 0.1611 - val_accuracy: 0.9613\n",
            "Epoch 143/200\n",
            "297/297 [==============================] - 1s 2ms/step - loss: 0.1172 - accuracy: 0.9724 - val_loss: 0.1546 - val_accuracy: 0.9676\n",
            "Epoch 144/200\n",
            "297/297 [==============================] - 1s 3ms/step - loss: 0.1199 - accuracy: 0.9708 - val_loss: 0.1524 - val_accuracy: 0.9621\n",
            "Epoch 145/200\n",
            "297/297 [==============================] - 1s 3ms/step - loss: 0.1159 - accuracy: 0.9702 - val_loss: 0.1619 - val_accuracy: 0.9655\n",
            "Epoch 146/200\n",
            "297/297 [==============================] - 1s 3ms/step - loss: 0.1165 - accuracy: 0.9724 - val_loss: 0.1488 - val_accuracy: 0.9659\n",
            "Epoch 147/200\n",
            "297/297 [==============================] - 1s 3ms/step - loss: 0.1164 - accuracy: 0.9715 - val_loss: 0.1963 - val_accuracy: 0.9554\n",
            "Epoch 148/200\n",
            "297/297 [==============================] - 1s 3ms/step - loss: 0.1138 - accuracy: 0.9713 - val_loss: 0.1714 - val_accuracy: 0.9638\n",
            "Epoch 149/200\n",
            "297/297 [==============================] - 1s 3ms/step - loss: 0.1107 - accuracy: 0.9726 - val_loss: 0.2214 - val_accuracy: 0.9487\n",
            "Epoch 150/200\n",
            "297/297 [==============================] - 1s 3ms/step - loss: 0.1186 - accuracy: 0.9715 - val_loss: 0.1948 - val_accuracy: 0.9520\n",
            "Epoch 151/200\n",
            "297/297 [==============================] - 1s 3ms/step - loss: 0.1163 - accuracy: 0.9735 - val_loss: 0.1522 - val_accuracy: 0.9659\n",
            "Epoch 152/200\n",
            "297/297 [==============================] - 1s 3ms/step - loss: 0.1156 - accuracy: 0.9735 - val_loss: 0.1867 - val_accuracy: 0.9550\n",
            "Epoch 153/200\n",
            "297/297 [==============================] - 1s 3ms/step - loss: 0.1165 - accuracy: 0.9719 - val_loss: 0.1376 - val_accuracy: 0.9710\n",
            "Epoch 154/200\n",
            "297/297 [==============================] - 1s 3ms/step - loss: 0.1117 - accuracy: 0.9722 - val_loss: 0.2128 - val_accuracy: 0.9487\n",
            "Epoch 155/200\n",
            "297/297 [==============================] - 1s 3ms/step - loss: 0.1172 - accuracy: 0.9725 - val_loss: 0.1424 - val_accuracy: 0.9697\n",
            "Epoch 156/200\n",
            "297/297 [==============================] - 1s 3ms/step - loss: 0.1135 - accuracy: 0.9734 - val_loss: 0.1418 - val_accuracy: 0.9668\n",
            "Epoch 157/200\n",
            "297/297 [==============================] - 1s 3ms/step - loss: 0.1089 - accuracy: 0.9727 - val_loss: 0.1381 - val_accuracy: 0.9676\n",
            "Epoch 158/200\n",
            "297/297 [==============================] - 1s 3ms/step - loss: 0.1101 - accuracy: 0.9744 - val_loss: 0.1530 - val_accuracy: 0.9630\n",
            "Epoch 159/200\n",
            "297/297 [==============================] - 1s 3ms/step - loss: 0.1093 - accuracy: 0.9744 - val_loss: 0.1457 - val_accuracy: 0.9625\n",
            "Epoch 160/200\n",
            "297/297 [==============================] - 1s 3ms/step - loss: 0.1115 - accuracy: 0.9741 - val_loss: 0.1838 - val_accuracy: 0.9503\n",
            "Epoch 161/200\n",
            "297/297 [==============================] - 1s 3ms/step - loss: 0.1104 - accuracy: 0.9742 - val_loss: 0.1378 - val_accuracy: 0.9676\n",
            "Epoch 162/200\n",
            "297/297 [==============================] - 1s 3ms/step - loss: 0.1094 - accuracy: 0.9741 - val_loss: 0.1458 - val_accuracy: 0.9672\n",
            "Epoch 163/200\n",
            "297/297 [==============================] - 1s 3ms/step - loss: 0.1099 - accuracy: 0.9740 - val_loss: 0.1556 - val_accuracy: 0.9621\n",
            "Epoch 164/200\n",
            "297/297 [==============================] - 1s 3ms/step - loss: 0.1081 - accuracy: 0.9742 - val_loss: 0.1367 - val_accuracy: 0.9676\n",
            "Epoch 165/200\n",
            "297/297 [==============================] - 1s 2ms/step - loss: 0.1115 - accuracy: 0.9723 - val_loss: 0.1243 - val_accuracy: 0.9726\n",
            "Epoch 166/200\n",
            "297/297 [==============================] - 1s 3ms/step - loss: 0.1144 - accuracy: 0.9731 - val_loss: 0.1597 - val_accuracy: 0.9617\n",
            "Epoch 167/200\n",
            "297/297 [==============================] - 1s 2ms/step - loss: 0.1097 - accuracy: 0.9738 - val_loss: 0.4698 - val_accuracy: 0.8712\n",
            "Epoch 168/200\n",
            "297/297 [==============================] - 1s 3ms/step - loss: 0.1120 - accuracy: 0.9717 - val_loss: 0.1739 - val_accuracy: 0.9583\n",
            "Epoch 169/200\n",
            "297/297 [==============================] - 1s 2ms/step - loss: 0.1106 - accuracy: 0.9741 - val_loss: 0.1481 - val_accuracy: 0.9651\n",
            "Epoch 170/200\n",
            "297/297 [==============================] - 1s 3ms/step - loss: 0.1077 - accuracy: 0.9753 - val_loss: 0.1286 - val_accuracy: 0.9705\n",
            "Epoch 171/200\n",
            "297/297 [==============================] - 1s 3ms/step - loss: 0.1058 - accuracy: 0.9739 - val_loss: 0.1913 - val_accuracy: 0.9503\n",
            "Epoch 172/200\n",
            "297/297 [==============================] - 1s 3ms/step - loss: 0.1082 - accuracy: 0.9744 - val_loss: 0.1512 - val_accuracy: 0.9600\n",
            "Epoch 173/200\n",
            "297/297 [==============================] - 1s 3ms/step - loss: 0.1029 - accuracy: 0.9742 - val_loss: 0.1531 - val_accuracy: 0.9621\n",
            "Epoch 174/200\n",
            "297/297 [==============================] - 1s 3ms/step - loss: 0.1051 - accuracy: 0.9745 - val_loss: 0.3976 - val_accuracy: 0.8779\n",
            "Epoch 175/200\n",
            "297/297 [==============================] - 1s 3ms/step - loss: 0.1056 - accuracy: 0.9755 - val_loss: 0.1434 - val_accuracy: 0.9684\n",
            "Epoch 176/200\n",
            "297/297 [==============================] - 1s 3ms/step - loss: 0.1094 - accuracy: 0.9731 - val_loss: 0.1337 - val_accuracy: 0.9672\n",
            "Epoch 177/200\n",
            "297/297 [==============================] - 1s 3ms/step - loss: 0.1047 - accuracy: 0.9750 - val_loss: 0.1688 - val_accuracy: 0.9579\n",
            "Epoch 178/200\n",
            "297/297 [==============================] - 1s 3ms/step - loss: 0.1040 - accuracy: 0.9746 - val_loss: 0.1519 - val_accuracy: 0.9613\n",
            "Epoch 179/200\n",
            "297/297 [==============================] - 1s 3ms/step - loss: 0.1083 - accuracy: 0.9736 - val_loss: 0.1597 - val_accuracy: 0.9579\n",
            "Epoch 180/200\n",
            "297/297 [==============================] - 1s 2ms/step - loss: 0.1049 - accuracy: 0.9752 - val_loss: 0.1386 - val_accuracy: 0.9693\n",
            "Epoch 181/200\n",
            "297/297 [==============================] - 1s 3ms/step - loss: 0.1028 - accuracy: 0.9724 - val_loss: 0.1431 - val_accuracy: 0.9663\n",
            "Epoch 182/200\n",
            "297/297 [==============================] - 1s 3ms/step - loss: 0.1059 - accuracy: 0.9753 - val_loss: 0.1330 - val_accuracy: 0.9689\n",
            "Epoch 183/200\n",
            "297/297 [==============================] - 1s 2ms/step - loss: 0.1069 - accuracy: 0.9738 - val_loss: 0.1275 - val_accuracy: 0.9710\n",
            "Epoch 184/200\n",
            "297/297 [==============================] - 1s 3ms/step - loss: 0.1029 - accuracy: 0.9755 - val_loss: 0.1260 - val_accuracy: 0.9701\n",
            "Epoch 185/200\n",
            "297/297 [==============================] - 1s 3ms/step - loss: 0.1030 - accuracy: 0.9750 - val_loss: 0.1188 - val_accuracy: 0.9743\n",
            "Epoch 186/200\n",
            "297/297 [==============================] - 1s 3ms/step - loss: 0.1011 - accuracy: 0.9768 - val_loss: 0.1714 - val_accuracy: 0.9588\n",
            "Epoch 187/200\n",
            "297/297 [==============================] - 1s 3ms/step - loss: 0.1078 - accuracy: 0.9750 - val_loss: 0.1358 - val_accuracy: 0.9663\n",
            "Epoch 188/200\n",
            "297/297 [==============================] - 1s 3ms/step - loss: 0.0986 - accuracy: 0.9768 - val_loss: 0.1556 - val_accuracy: 0.9600\n",
            "Epoch 189/200\n",
            "297/297 [==============================] - 1s 3ms/step - loss: 0.1024 - accuracy: 0.9754 - val_loss: 0.1675 - val_accuracy: 0.9550\n",
            "Epoch 190/200\n",
            "297/297 [==============================] - 1s 3ms/step - loss: 0.1006 - accuracy: 0.9755 - val_loss: 0.1232 - val_accuracy: 0.9705\n",
            "Epoch 191/200\n",
            "297/297 [==============================] - 1s 2ms/step - loss: 0.1011 - accuracy: 0.9755 - val_loss: 0.1292 - val_accuracy: 0.9731\n",
            "Epoch 192/200\n",
            "297/297 [==============================] - 1s 3ms/step - loss: 0.0987 - accuracy: 0.9755 - val_loss: 0.1300 - val_accuracy: 0.9684\n",
            "Epoch 193/200\n",
            "297/297 [==============================] - 1s 3ms/step - loss: 0.0970 - accuracy: 0.9764 - val_loss: 0.1204 - val_accuracy: 0.9726\n",
            "Epoch 194/200\n",
            "297/297 [==============================] - 1s 3ms/step - loss: 0.1010 - accuracy: 0.9759 - val_loss: 0.1588 - val_accuracy: 0.9609\n",
            "Epoch 195/200\n",
            "297/297 [==============================] - 1s 3ms/step - loss: 0.1018 - accuracy: 0.9761 - val_loss: 0.1230 - val_accuracy: 0.9743\n",
            "Epoch 196/200\n",
            "297/297 [==============================] - 1s 3ms/step - loss: 0.0971 - accuracy: 0.9773 - val_loss: 0.1418 - val_accuracy: 0.9651\n",
            "Epoch 197/200\n",
            "297/297 [==============================] - 1s 3ms/step - loss: 0.0975 - accuracy: 0.9764 - val_loss: 0.1258 - val_accuracy: 0.9689\n",
            "Epoch 198/200\n",
            "297/297 [==============================] - 1s 3ms/step - loss: 0.0964 - accuracy: 0.9770 - val_loss: 0.1216 - val_accuracy: 0.9722\n",
            "Epoch 199/200\n",
            "297/297 [==============================] - 1s 3ms/step - loss: 0.0951 - accuracy: 0.9785 - val_loss: 0.1253 - val_accuracy: 0.9680\n",
            "Epoch 200/200\n",
            "297/297 [==============================] - 1s 3ms/step - loss: 0.0990 - accuracy: 0.9757 - val_loss: 0.2010 - val_accuracy: 0.9482\n"
          ]
        }
      ]
    },
    {
      "cell_type": "markdown",
      "metadata": {
        "id": "GlX82DsKEdvq"
      },
      "source": [
        "### Loss graph of the model"
      ]
    },
    {
      "cell_type": "code",
      "metadata": {
        "colab": {
          "base_uri": "https://localhost:8080/",
          "height": 513
        },
        "id": "oSuKLOb4Av18",
        "outputId": "f5684104-d83c-4d78-b465-e2ae8c593cf7"
      },
      "source": [
        "if model_loss == True:\n",
        "  plt.subplots(figsize=(12,8))\n",
        "  plt.plot(history.history['loss'])\n",
        "  plt.plot(history.history['val_loss'])\n",
        "  plt.title('Model Loss')\n",
        "  plt.ylabel('Loss')\n",
        "  plt.xlabel('Epoch')\n",
        "  plt.legend(['Train', 'Validation'], loc='upper right')\n",
        "  plt.show()"
      ],
      "execution_count": 64,
      "outputs": [
        {
          "output_type": "display_data",
          "data": {
            "image/png": "[encoded data removed]",
            "text/plain": [
              "<Figure size 864x576 with 1 Axes>"
            ]
          },
          "metadata": {
            "needs_background": "light"
          }
        }
      ]
    },
    {
      "cell_type": "markdown",
      "metadata": {
        "id": "3S5hOmIGEs9j"
      },
      "source": [
        "### Accuracy graph of the model"
      ]
    },
    {
      "cell_type": "code",
      "metadata": {
        "colab": {
          "base_uri": "https://localhost:8080/",
          "height": 0
        },
        "id": "PKWN9djLyMc7",
        "outputId": "820b38d8-8657-4ef3-e87c-6b3e330864b5"
      },
      "source": [
        "if model_accuracy == True:\n",
        "  plt.subplots(figsize=(12,8))\n",
        "  plt.plot(history.history['accuracy'])\n",
        "  plt.plot(history.history['val_accuracy'])\n",
        "  plt.title('Model Accuracy')\n",
        "  plt.ylabel('Accuracy')\n",
        "  plt.xlabel('Epoch')\n",
        "  plt.legend(['Train', 'Validation'], loc='lower right')\n",
        "  plt.show()"
      ],
      "execution_count": 65,
      "outputs": [
        {
          "output_type": "display_data",
          "data": {
            "image/png": "[encoded data removed]",
            "text/plain": [
              "<Figure size 864x576 with 1 Axes>"
            ]
          },
          "metadata": {
            "needs_background": "light"
          }
        }
      ]
    },
    {
      "cell_type": "markdown",
      "metadata": {
        "id": "JAGewXYAEwD3"
      },
      "source": [
        "### Evaluate the model\n",
        "\n",
        "Check how well the dataset perform on the test set\n"
      ]
    },
    {
      "cell_type": "code",
      "metadata": {
        "colab": {
          "base_uri": "https://localhost:8080/"
        },
        "id": "TzswDSgvz64p",
        "outputId": "1755f2b1-f865-4ad7-f2d5-a11cd4f3c32b"
      },
      "source": [
        "if evaluate_model == True:\n",
        "  model.evaluate(x_test, y_test)"
      ],
      "execution_count": 66,
      "outputs": [
        {
          "output_type": "stream",
          "name": "stdout",
          "text": [
            "42/42 [==============================] - 0s 2ms/step - loss: 0.1567 - accuracy: 0.9614\n"
          ]
        }
      ]
    },
    {
      "cell_type": "markdown",
      "metadata": {
        "id": "ocROaziSE4et"
      },
      "source": [
        "### Confusion Matrix\n",
        "\n",
        "Compute the label prediction using the test set and plot the confusion matrix."
      ]
    },
    {
      "cell_type": "code",
      "metadata": {
        "colab": {
          "base_uri": "https://localhost:8080/",
          "height": 611
        },
        "id": "UNA7s8vOEQh0",
        "outputId": "f9e3c538-9969-4591-e4d5-3b577c95aa82"
      },
      "source": [
        "if conf_matr == True:\n",
        "  predictions = model.predict(x_test)\n",
        "  classes = predictions > 0.5\n",
        "  cm = confusion_matrix(y_test,classes)\n",
        "\n",
        "  # Plot\n",
        "  plt.figure(figsize=(10,7))\n",
        "  ax = plt.subplot()\n",
        "  sns.heatmap(cm, annot=True, fmt='g', ax=ax, cmap=\"PuBu\");  # annot=True to annotate cells, ftm='g' to disable scientific notation\n",
        "  ax.set_xlabel('Predicted labels');ax.set_ylabel('True labels'); \n",
        "  ax.set_title('Confusion Matrix'); \n",
        "  ax.xaxis.set_ticklabels(['No Bankrupt', 'Bankrupt']); ax.yaxis.set_ticklabels(['No Bankrupt', 'Bankrupt']);\n",
        "  print(classification_report(y_test,classes))"
      ],
      "execution_count": 67,
      "outputs": [
        {
          "output_type": "stream",
          "name": "stdout",
          "text": [
            "              precision    recall  f1-score   support\n",
            "\n",
            "           0       1.00      0.92      0.96       641\n",
            "           1       0.93      1.00      0.96       679\n",
            "\n",
            "    accuracy                           0.96      1320\n",
            "   macro avg       0.97      0.96      0.96      1320\n",
            "weighted avg       0.96      0.96      0.96      1320\n",
            "\n"
          ]
        },
        {
          "output_type": "display_data",
          "data": {
            "image/png": "[encoded data removed]",
            "text/plain": [
              "<Figure size 720x504 with 2 Axes>"
            ]
          },
          "metadata": {
            "needs_background": "light"
          }
        }
      ]
    },
    {
      "cell_type": "markdown",
      "metadata": {
        "id": "Qi5S7LhQTexS"
      },
      "source": [
        "### Plot model"
      ]
    },
    {
      "cell_type": "code",
      "metadata": {
        "id": "Z1ny8y9KThbB"
      },
      "source": [
        "if plot_model == True:\n",
        "  dot_img_file = \"network.png\"\n",
        "  keras.utils.plot_model(model, to_file=dot_img_file, show_shapes=True)"
      ],
      "execution_count": 68,
      "outputs": []
    },
    {
      "cell_type": "markdown",
      "metadata": {
        "id": "8RZ5X7kXE0XD"
      },
      "source": [
        "### Save the model"
      ]
    },
    {
      "cell_type": "code",
      "metadata": {
        "id": "hyLclhdA5VDW"
      },
      "source": [
        "if save_model == True:\n",
        "  file_name = 'acc_97'\n",
        "  model.save(file_name)\n",
        "\n",
        "# ! zip -r model.zip acc_97/"
      ],
      "execution_count": 69,
      "outputs": []
    },
    {
      "cell_type": "markdown",
      "metadata": {
        "id": "Cq2wNkY2_W2c"
      },
      "source": [
        "## Load the model\n",
        "\n",
        "Load on colab the model.zip file. Uncomment to use this section"
      ]
    },
    {
      "cell_type": "markdown",
      "metadata": {
        "id": "ERK8LG-UtAV_"
      },
      "source": [
        "Unzip the model"
      ]
    },
    {
      "cell_type": "code",
      "metadata": {
        "id": "4sCAWqEftCJQ"
      },
      "source": [
        "# ! unzip model.zip"
      ],
      "execution_count": 70,
      "outputs": []
    },
    {
      "cell_type": "markdown",
      "metadata": {
        "id": "_i3FK_XzsRCM"
      },
      "source": [
        "Import the model"
      ]
    },
    {
      "cell_type": "code",
      "metadata": {
        "id": "xnS1lowBsPRe"
      },
      "source": [
        "# file_name = 'acc_97'\n",
        "# model = keras.models.load_model(file_name)"
      ],
      "execution_count": 71,
      "outputs": []
    }
  ]
}