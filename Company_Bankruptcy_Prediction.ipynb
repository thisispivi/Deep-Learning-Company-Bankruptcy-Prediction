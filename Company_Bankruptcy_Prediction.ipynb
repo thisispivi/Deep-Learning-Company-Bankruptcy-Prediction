{
  "nbformat": 4,
  "nbformat_minor": 0,
  "metadata": {
    "colab": {
      "name": "Company Bankruptcy Prediction",
      "provenance": [],
      "collapsed_sections": [
        "LigW-AsMEbri",
        "GlX82DsKEdvq",
        "3S5hOmIGEs9j"
      ]
    },
    "kernelspec": {
      "display_name": "Python 3",
      "name": "python3"
    },
    "language_info": {
      "name": "python"
    }
  },
  "cells": [
    {
      "cell_type": "markdown",
      "metadata": {
        "id": "3Ve8CgpE1BAA"
      },
      "source": [
        "# Introduction\n",
        "\n"
      ]
    },
    {
      "cell_type": "markdown",
      "metadata": {
        "id": "1Y3W5qXWABYT"
      },
      "source": [
        "# Dataset and Libraries setup"
      ]
    },
    {
      "cell_type": "markdown",
      "metadata": {
        "id": "2ufwrliP-uJK"
      },
      "source": [
        "##Libraries and Dataset setup\n",
        "\n",
        "Download the dataset and the libraries needed.\n",
        "\n",
        "**Libraries**\n",
        "- pandas\n",
        "- numpy\n",
        "- kaggle\n",
        "- plotly"
      ]
    },
    {
      "cell_type": "code",
      "metadata": {
        "id": "y1Mh9Ol_I88j",
        "colab": {
          "base_uri": "https://localhost:8080/"
        },
        "outputId": "e059d0ac-41c2-4eb2-9c0a-286e02accdb0"
      },
      "source": [
        "### Download files\n",
        "! apt-get update > /dev/null\n",
        "! apt-get upgrade > /dev/null\n",
        "! apt-get install unzip > /dev/nulll\n",
        "\n",
        "# Python libs\n",
        "! pip install -q kaggle > /dev/null\n",
        "! pip install plotly==4.14.3 > /dev/null\n",
        "! pip install -U kaleido > /dev/null"
      ],
      "execution_count": 1,
      "outputs": [
        {
          "output_type": "stream",
          "name": "stdout",
          "text": [
            "Extracting templates from packages: 100%\n"
          ]
        }
      ]
    },
    {
      "cell_type": "markdown",
      "metadata": {
        "id": "k0tklqOA8XhC"
      },
      "source": [
        "Import plot and other useful libraries"
      ]
    },
    {
      "cell_type": "code",
      "metadata": {
        "id": "a86cMyQNGKAC"
      },
      "source": [
        "### Import section\n",
        "\n",
        "# Plot\n",
        "import pandas as pd\n",
        "import matplotlib.pyplot as plt\n",
        "import seaborn as sns\n",
        "import numpy as np\n",
        "import plotly.graph_objects as go\n",
        "\n",
        "# Others\n",
        "import csv\n",
        "from io import StringIO\n",
        "from datetime import datetime"
      ],
      "execution_count": 2,
      "outputs": []
    },
    {
      "cell_type": "markdown",
      "metadata": {
        "id": "wOSH7YCE-7Qe"
      },
      "source": [
        "##Import dataset\n",
        "There are two ways to download the dataset, one from kaggle using kaggle api the other one from github (the dataset may be out of date)"
      ]
    },
    {
      "cell_type": "code",
      "metadata": {
        "id": "87mmzkepfj6f",
        "colab": {
          "base_uri": "https://localhost:8080/"
        },
        "outputId": "b196ce32-331e-4258-f0e0-726d018e91d4"
      },
      "source": [
        "### Delete old folders and create new ones\n",
        "! rm -r /content/data > /dev/null\n",
        "! mkdir /content/data/ > /dev/null\n",
        "! rm -r ~/.kaggle > /dev/null\n",
        "! mkdir ~/.kaggle > /dev/null"
      ],
      "execution_count": 3,
      "outputs": [
        {
          "output_type": "stream",
          "name": "stdout",
          "text": [
            "rm: cannot remove '/content/data': No such file or directory\n",
            "rm: cannot remove '/root/.kaggle': No such file or directory\n"
          ]
        }
      ]
    },
    {
      "cell_type": "markdown",
      "metadata": {
        "id": "7vkJnrG5fqat"
      },
      "source": [
        "### Kaggle\n",
        "\n",
        "Connect to kaggle, download datataset and setup the files"
      ]
    },
    {
      "cell_type": "code",
      "metadata": {
        "id": "TknXpMfPcCvM",
        "colab": {
          "base_uri": "https://localhost:8080/"
        },
        "outputId": "7be7ea27-a304-4131-ad66-be72c71c9f26"
      },
      "source": [
        "### Kaggle download setup \n",
        "\n",
        "# Insert here the link to the token json file\n",
        "! wget --no-check-certificate 'https://docs.google.com/uc?export=download&id=1-4sfcaQg3DdP6ZoRnm0uFvM5VlMhPDSM' -P /content -O kaggle.json > /dev/null\n",
        "\n",
        "# Copy token in the right folder\n",
        "! cp kaggle.json ~/.kaggle/ > /dev/null\n",
        "! chmod 600 ~/.kaggle/kaggle.json > /dev/null\n",
        "\n",
        "# Download dataset\n",
        "! kaggle datasets download -d fedesoriano/company-bankruptcy-prediction -p /content/data > /dev/null\n",
        "\n",
        "# Unzip and remove the zip\n",
        "! unzip /content/data/company-bankruptcy-prediction.zip -d /content/data > /dev/null\n",
        "! rm /content/data/company-bankruptcy-prediction.zip > /dev/null"
      ],
      "execution_count": 4,
      "outputs": [
        {
          "output_type": "stream",
          "name": "stdout",
          "text": [
            "--2021-09-08 09:55:23--  https://docs.google.com/uc?export=download&id=1-4sfcaQg3DdP6ZoRnm0uFvM5VlMhPDSM\n",
            "Resolving docs.google.com (docs.google.com)... 74.125.195.138, 74.125.195.100, 74.125.195.113, ...\n",
            "Connecting to docs.google.com (docs.google.com)|74.125.195.138|:443... connected.\n",
            "HTTP request sent, awaiting response... 302 Moved Temporarily\n",
            "Location: https://doc-04-5s-docs.googleusercontent.com/docs/securesc/ha0ro937gcuc7l7deffksulhg5h7mbp1/ckoctjhabcg1oubi8p4jjqh84gs0grtr/1631094900000/08916338998030749634/*/1-4sfcaQg3DdP6ZoRnm0uFvM5VlMhPDSM?e=download [following]\n",
            "Warning: wildcards not supported in HTTP.\n",
            "--2021-09-08 09:55:24--  https://doc-04-5s-docs.googleusercontent.com/docs/securesc/ha0ro937gcuc7l7deffksulhg5h7mbp1/ckoctjhabcg1oubi8p4jjqh84gs0grtr/1631094900000/08916338998030749634/*/1-4sfcaQg3DdP6ZoRnm0uFvM5VlMhPDSM?e=download\n",
            "Resolving doc-04-5s-docs.googleusercontent.com (doc-04-5s-docs.googleusercontent.com)... 74.125.20.132, 2607:f8b0:400e:c07::84\n",
            "Connecting to doc-04-5s-docs.googleusercontent.com (doc-04-5s-docs.googleusercontent.com)|74.125.20.132|:443... connected.\n",
            "HTTP request sent, awaiting response... 200 OK\n",
            "Length: 66 [application/json]\n",
            "Saving to: ‘kaggle.json’\n",
            "\n",
            "on                  100%[===================>]      66  --.-KB/s    in 0s      \n",
            "\n",
            "2021-09-08 09:55:24 (4.41 MB/s) - ‘kaggle.json’ saved [66/66]\n",
            "\n",
            "100% 4.63M/4.63M [00:00<00:00, 33.7MB/s]\n"
          ]
        }
      ]
    },
    {
      "cell_type": "markdown",
      "metadata": {
        "id": "DKQG2puuftem"
      },
      "source": [
        "### Github\n",
        "Connect to Github, download datataset and setup the files"
      ]
    },
    {
      "cell_type": "code",
      "metadata": {
        "id": "a7dIhEHgCp5R"
      },
      "source": [
        "# ### Download dataset from github repository\n",
        "\n",
        "# # Donwload all the files\n",
        "# ! wget -P /content/data https://raw.githubusercontent.com/thisispivi/Deep-Learning-Company-Bankruptcy-Prediction/main/data/data.zip\n",
        "\n",
        "# # Unzip and remove the zip\n",
        "# ! unzip /content/data/data.zip -d /content/data\n",
        "# ! rm /content/data/data.zip"
      ],
      "execution_count": 5,
      "outputs": []
    },
    {
      "cell_type": "markdown",
      "metadata": {
        "id": "7774NYzghPEm"
      },
      "source": [
        "## Read Files\n",
        "In this section we import the csv files."
      ]
    },
    {
      "cell_type": "code",
      "metadata": {
        "id": "HANip0NiQt2C"
      },
      "source": [
        "df = pd.read_csv('data/data.csv')\n",
        "df.isnull().sum()\n",
        "df.duplicated().sum()\n",
        "rows, cols = df.shape"
      ],
      "execution_count": 6,
      "outputs": []
    },
    {
      "cell_type": "markdown",
      "metadata": {
        "id": "_4zXPeyvVUGZ"
      },
      "source": [
        "Split the dataset"
      ]
    },
    {
      "cell_type": "code",
      "metadata": {
        "id": "vg3dFnarVVez"
      },
      "source": [
        "labels = df['Bankrupt?']\n",
        "data = df.drop(['Bankrupt?'], axis=1)"
      ],
      "execution_count": 7,
      "outputs": []
    },
    {
      "cell_type": "markdown",
      "metadata": {
        "id": "BaafBVnEiBU9"
      },
      "source": [
        "# Deep Learning"
      ]
    },
    {
      "cell_type": "code",
      "metadata": {
        "id": "bL5L7D2zs09v"
      },
      "source": [
        "from tensorflow import keras\n",
        "from sklearn.metrics import confusion_matrix\n",
        "from sklearn.model_selection import train_test_split\n",
        "from sklearn.metrics import classification_report,confusion_matrix\n",
        "from sklearn.preprocessing import StandardScaler"
      ],
      "execution_count": 81,
      "outputs": []
    },
    {
      "cell_type": "markdown",
      "metadata": {
        "id": "-ByxXiGECxOP"
      },
      "source": [
        "## Analyze dataset\n",
        "\n",
        "In this section we will analyze the dataset shape, balance and if it has null values in its rows"
      ]
    },
    {
      "cell_type": "markdown",
      "metadata": {
        "id": "DXBfjRRNUn8F"
      },
      "source": [
        "### Shape\n",
        "\n",
        "Check the shape of the dataset"
      ]
    },
    {
      "cell_type": "code",
      "metadata": {
        "colab": {
          "base_uri": "https://localhost:8080/"
        },
        "id": "wNXUUbicUpkH",
        "outputId": "ae060c46-d1b1-431b-fea3-5ec2b1b66207"
      },
      "source": [
        "print('Data shape:', data.shape)\n",
        "print('Labels shape:', labels.shape)"
      ],
      "execution_count": 9,
      "outputs": [
        {
          "output_type": "stream",
          "name": "stdout",
          "text": [
            "Data shape: (6819, 95)\n",
            "Labels shape: (6819,)\n"
          ]
        }
      ]
    },
    {
      "cell_type": "markdown",
      "metadata": {
        "id": "tl0rlZn7Czva"
      },
      "source": [
        "### Null values\n",
        "\n",
        "Check if there are null values"
      ]
    },
    {
      "cell_type": "code",
      "metadata": {
        "colab": {
          "base_uri": "https://localhost:8080/"
        },
        "id": "tq_W39eICzfe",
        "outputId": "d4e29c04-e442-4f30-bf5f-9f514d8745ec"
      },
      "source": [
        "df.isnull().sum(axis = 0)"
      ],
      "execution_count": 10,
      "outputs": [
        {
          "output_type": "execute_result",
          "data": {
            "text/plain": [
              "Bankrupt?                                                   0\n",
              " ROA(C) before interest and depreciation before interest    0\n",
              " ROA(A) before interest and % after tax                     0\n",
              " ROA(B) before interest and depreciation after tax          0\n",
              " Operating Gross Margin                                     0\n",
              "                                                           ..\n",
              " Liability to Equity                                        0\n",
              " Degree of Financial Leverage (DFL)                         0\n",
              " Interest Coverage Ratio (Interest expense to EBIT)         0\n",
              " Net Income Flag                                            0\n",
              " Equity to Liability                                        0\n",
              "Length: 96, dtype: int64"
            ]
          },
          "metadata": {},
          "execution_count": 10
        }
      ]
    },
    {
      "cell_type": "markdown",
      "metadata": {
        "id": "QBKSE6hTDjxF"
      },
      "source": [
        "There are no null values so we don't have to deal with them"
      ]
    },
    {
      "cell_type": "markdown",
      "metadata": {
        "id": "2-MA_ExoC-Cd"
      },
      "source": [
        "### Balance\n",
        "\n",
        "Check if the dataset is balanced"
      ]
    },
    {
      "cell_type": "code",
      "metadata": {
        "colab": {
          "base_uri": "https://localhost:8080/"
        },
        "id": "VtctIj3sEAX4",
        "outputId": "f13d14e1-8b72-438b-800d-aff61c861289"
      },
      "source": [
        "result = df['Bankrupt?'].value_counts()\n",
        "zero_percentage = round((result[0]*100)/(result[0]+result[1]),2)\n",
        "print(\"No. of 0: \"+ str(result[0]) + \"\\nNo. of 1: \" + str(result[1]) + \n",
        "      \"\\nPercentage of 0: \"+ str(zero_percentage)+ \" %\\nPercentage of 1: \"+\n",
        "      str(round((100-zero_percentage),2))+\" %\")"
      ],
      "execution_count": 11,
      "outputs": [
        {
          "output_type": "stream",
          "name": "stdout",
          "text": [
            "No. of 0: 6599\n",
            "No. of 1: 220\n",
            "Percentage of 0: 96.77 %\n",
            "Percentage of 1: 3.23 %\n"
          ]
        }
      ]
    },
    {
      "cell_type": "code",
      "metadata": {
        "colab": {
          "base_uri": "https://localhost:8080/",
          "height": 298
        },
        "id": "-lRuuDNoIgqG",
        "outputId": "69bfce83-384d-4d5f-f754-23129d246c49"
      },
      "source": [
        "plt.bar(x=[\"No Bankrupt\", \"Bankrupt\"], height=[result[0], result[1]], color=[\"royalblue\", \"indianred\"])\n",
        "plt.ylabel(\"Count\")\n",
        "plt.title(\"Number of No Bankrupt rows vs number of Bankrupt rows \")"
      ],
      "execution_count": 12,
      "outputs": [
        {
          "output_type": "execute_result",
          "data": {
            "text/plain": [
              "Text(0.5, 1.0, 'Number of No Bankrupt rows vs number of Bankrupt rows ')"
            ]
          },
          "metadata": {},
          "execution_count": 12
        },
        {
          "output_type": "display_data",
          "data": {
            "image/png": "[encoded data removed]",
            "text/plain": [
              "<Figure size 432x288 with 1 Axes>"
            ]
          },
          "metadata": {
            "needs_background": "light"
          }
        }
      ]
    },
    {
      "cell_type": "code",
      "metadata": {
        "colab": {
          "base_uri": "https://localhost:8080/",
          "height": 281
        },
        "id": "baJNHjoZLQC9",
        "outputId": "c0b77b71-a17f-4c51-9fef-ee00326dcd24"
      },
      "source": [
        "plt.pie([result[0], result[1]], labels=[\"No Bankrupt\", \"Bankrupt\"], explode=(0.1, 0), autopct='%1.2f%%', colors=[\"thistle\", \"paleturquoise\"], radius=1.2)\n",
        "plt.title(\"Percentage of No Bankrupt vs percentage of Bankrupt\")"
      ],
      "execution_count": 13,
      "outputs": [
        {
          "output_type": "execute_result",
          "data": {
            "text/plain": [
              "Text(0.5, 1.0, 'Percentage of No Bankrupt vs percentage of Bankrupt')"
            ]
          },
          "metadata": {},
          "execution_count": 13
        },
        {
          "output_type": "display_data",
          "data": {
            "image/png": "[encoded data removed]",
            "text/plain": [
              "<Figure size 432x288 with 1 Axes>"
            ]
          },
          "metadata": {}
        }
      ]
    },
    {
      "cell_type": "markdown",
      "metadata": {
        "id": "f8Tnp6CKETkF"
      },
      "source": [
        "The dataset is not balanced. If we don't fix this when we will run the model we will have a perfect accuracy, because the network will concentrate only on the major class."
      ]
    },
    {
      "cell_type": "markdown",
      "metadata": {
        "id": "4N9IuKrPv6dc"
      },
      "source": [
        "## Normalize values\n",
        "\n",
        "In this section we want to normalize the values, so we take the colums with values over 1 and with values less than 0 and we normalize them using *StandardScaler()*. This scaler uses the mean and the standard deviation to set all values to between 0 and 1."
      ]
    },
    {
      "cell_type": "code",
      "metadata": {
        "id": "yzS8wHoovV01"
      },
      "source": [
        "### Normalize values\n",
        "\n",
        "# Take the columns with values over 1\n",
        "cols_for_scale = df.max()[df.max()>1]\n",
        "# Take the columns with values less than 0\n",
        "df.min()[df.min()<0] # It is none there aren't negative values\n",
        "# Normalize values\n",
        "scale = StandardScaler()\n",
        "scaled = scale.fit_transform(df[cols_for_scale.keys()])\n",
        "# Substitute the old values with the normalized ones\n",
        "i = 0\n",
        "for column in cols_for_scale.keys():\n",
        "    df[column] = scaled[:,i]\n",
        "    i += 1\n",
        "# Update labels and data\n",
        "labels = df['Bankrupt?']\n",
        "data = df.drop(['Bankrupt?'], axis=1)"
      ],
      "execution_count": 14,
      "outputs": []
    },
    {
      "cell_type": "markdown",
      "metadata": {
        "id": "JTRYvzAzC8yN"
      },
      "source": [
        "## Balance Dataset using SMOTE\n",
        "To balance the dataset we use SMOTE (Synthetic Minority Oversampling Technique).\n",
        "\n",
        "[Link](https://towardsdatascience.com/applying-smote-for-class-imbalance-with-just-a-few-lines-of-code-python-cdf603e58688)"
      ]
    },
    {
      "cell_type": "markdown",
      "metadata": {
        "id": "m-8SD1X0Ufwp"
      },
      "source": [
        "Import SMOTE and resample the data"
      ]
    },
    {
      "cell_type": "code",
      "metadata": {
        "colab": {
          "base_uri": "https://localhost:8080/"
        },
        "id": "P0iLTb2rPEnX",
        "outputId": "b3b2e8b7-905f-40b6-b43c-3384d10f4ad8"
      },
      "source": [
        "from imblearn.over_sampling import SMOTE\n",
        "sm = SMOTE()\n",
        "data_new, labels_new = sm.fit_resample(data, labels)"
      ],
      "execution_count": 15,
      "outputs": [
        {
          "output_type": "stream",
          "name": "stderr",
          "text": [
            "/usr/local/lib/python3.7/dist-packages/sklearn/externals/six.py:31: FutureWarning: The module is deprecated in version 0.21 and will be removed in version 0.23 since we've dropped support for Python 2.7. Please rely on the official version of six (https://pypi.org/project/six/).\n",
            "  \"(https://pypi.org/project/six/).\", FutureWarning)\n",
            "/usr/local/lib/python3.7/dist-packages/sklearn/utils/deprecation.py:144: FutureWarning: The sklearn.neighbors.base module is  deprecated in version 0.22 and will be removed in version 0.24. The corresponding classes / functions should instead be imported from sklearn.neighbors. Anything that cannot be imported from sklearn.neighbors is now part of the private API.\n",
            "  warnings.warn(message, FutureWarning)\n",
            "/usr/local/lib/python3.7/dist-packages/sklearn/utils/deprecation.py:87: FutureWarning: Function safe_indexing is deprecated; safe_indexing is deprecated in version 0.22 and will be removed in version 0.24.\n",
            "  warnings.warn(msg, category=FutureWarning)\n"
          ]
        }
      ]
    },
    {
      "cell_type": "markdown",
      "metadata": {
        "id": "U83pBYB3UixY"
      },
      "source": [
        "Check the shapes"
      ]
    },
    {
      "cell_type": "code",
      "metadata": {
        "colab": {
          "base_uri": "https://localhost:8080/"
        },
        "id": "2RtSsx2ARwlt",
        "outputId": "0e476e6e-ee55-44f8-dd17-49d25e516b8f"
      },
      "source": [
        "print('Data shape:', data_new.shape)\n",
        "print('Labels shape:', labels_new.shape)"
      ],
      "execution_count": 16,
      "outputs": [
        {
          "output_type": "stream",
          "name": "stdout",
          "text": [
            "Data shape: (13198, 95)\n",
            "Labels shape: (13198,)\n"
          ]
        }
      ]
    },
    {
      "cell_type": "code",
      "metadata": {
        "colab": {
          "base_uri": "https://localhost:8080/"
        },
        "id": "IVkhRUsSSfSa",
        "outputId": "f7627db1-4055-4659-a5cc-e404df97086d"
      },
      "source": [
        "new_df = pd.DataFrame(labels_new)\n",
        "result = new_df[0].value_counts()\n",
        "zero_percentage = round((result[0]*100)/(result[0]+result[1]),2)\n",
        "print(\"No. of 0: \"+ str(result[0]) + \"\\nNo. of 1: \" + str(result[1]) + \n",
        "      \"\\nPercentage of 0: \"+ str(zero_percentage)+ \" %\\nPercentage of 1: \"+\n",
        "      str(round((100-zero_percentage),2))+\" %\")"
      ],
      "execution_count": 17,
      "outputs": [
        {
          "output_type": "stream",
          "name": "stdout",
          "text": [
            "No. of 0: 6599\n",
            "No. of 1: 6599\n",
            "Percentage of 0: 50.0 %\n",
            "Percentage of 1: 50.0 %\n"
          ]
        }
      ]
    },
    {
      "cell_type": "code",
      "metadata": {
        "colab": {
          "base_uri": "https://localhost:8080/",
          "height": 298
        },
        "id": "SFvR-x-LSfSb",
        "outputId": "2d1b66cb-3af8-414a-98a3-bd2d8f7fdd3d"
      },
      "source": [
        "plt.bar(x=[\"No Bankrupt\", \"Bankrupt\"], height=[result[0], result[1]], color=[\"royalblue\", \"indianred\"])\n",
        "plt.ylabel(\"Count\")\n",
        "plt.title(\"Number of No Bankrupt rows vs number of Bankrupt rows \")"
      ],
      "execution_count": 18,
      "outputs": [
        {
          "output_type": "execute_result",
          "data": {
            "text/plain": [
              "Text(0.5, 1.0, 'Number of No Bankrupt rows vs number of Bankrupt rows ')"
            ]
          },
          "metadata": {},
          "execution_count": 18
        },
        {
          "output_type": "display_data",
          "data": {
            "image/png": "[encoded data removed]",
            "text/plain": [
              "<Figure size 432x288 with 1 Axes>"
            ]
          },
          "metadata": {
            "needs_background": "light"
          }
        }
      ]
    },
    {
      "cell_type": "code",
      "metadata": {
        "colab": {
          "base_uri": "https://localhost:8080/",
          "height": 281
        },
        "id": "IOeeoRGISfSb",
        "outputId": "8cfdd9d3-7bd5-4ef3-8961-8c9ff784b16f"
      },
      "source": [
        "plt.pie([result[0], result[1]], labels=[\"No Bankrupt\", \"Bankrupt\"], explode=(0.1, 0), autopct='%1.2f%%', colors=[\"thistle\", \"paleturquoise\"], radius=1)\n",
        "plt.title(\"Percentage of No Bankrupt vs percentage of Bankrupt\")"
      ],
      "execution_count": 19,
      "outputs": [
        {
          "output_type": "execute_result",
          "data": {
            "text/plain": [
              "Text(0.5, 1.0, 'Percentage of No Bankrupt vs percentage of Bankrupt')"
            ]
          },
          "metadata": {},
          "execution_count": 19
        },
        {
          "output_type": "display_data",
          "data": {
            "image/png": "[encoded data removed]",
            "text/plain": [
              "<Figure size 432x288 with 1 Axes>"
            ]
          },
          "metadata": {}
        }
      ]
    },
    {
      "cell_type": "markdown",
      "metadata": {
        "id": "TQSN7MiSSfSb"
      },
      "source": [
        "As we can see the dataset is perfectly balanced."
      ]
    },
    {
      "cell_type": "markdown",
      "metadata": {
        "id": "HwlFckFIwPf0"
      },
      "source": [
        "## Split data into training, validation and test set"
      ]
    },
    {
      "cell_type": "markdown",
      "metadata": {
        "id": "0F0NMf7aBx-k"
      },
      "source": [
        "Split the data in:\n",
        "* x_train: The training set data\n",
        "* y_train: The training set label\n",
        "* x_valid: The validation set data\n",
        "* y_valid: The validation set label\n",
        "* x_test: The validation set data\n",
        "* y_test: The validation set label\n",
        "\n",
        "The dimension will be something like\n",
        "\n",
        "* Training: 70%\n",
        "* Validation: 20%\n",
        "* Test: 10%"
      ]
    },
    {
      "cell_type": "code",
      "metadata": {
        "id": "Y1KcVasVwSs5"
      },
      "source": [
        "x_train, x_test, y_train, y_test = train_test_split(data_new, labels_new, train_size=0.9)\n",
        "x_train, x_valid, y_train, y_valid = train_test_split(x_train, y_train, train_size=0.8)"
      ],
      "execution_count": 45,
      "outputs": []
    },
    {
      "cell_type": "markdown",
      "metadata": {
        "id": "HTahAzZJCtcs"
      },
      "source": [
        "Print all the sizes"
      ]
    },
    {
      "cell_type": "code",
      "metadata": {
        "colab": {
          "base_uri": "https://localhost:8080/"
        },
        "id": "GlMm2IwKwugb",
        "outputId": "c737531d-75aa-4ca0-ab3f-285b3b005284"
      },
      "source": [
        "print('Train data shape:', x_train.shape)\n",
        "print('Train labels shape:', y_train.shape)\n",
        "print('Validation data shape:', x_valid.shape)\n",
        "print('Validation labels shape:', y_valid.shape)\n",
        "print('Test data shape:', x_test.shape)\n",
        "print('Test labels shape:', y_test.shape)"
      ],
      "execution_count": 46,
      "outputs": [
        {
          "output_type": "stream",
          "name": "stdout",
          "text": [
            "Train data shape: (9502, 95)\n",
            "Train labels shape: (9502,)\n",
            "Validation data shape: (2376, 95)\n",
            "Validation labels shape: (2376,)\n",
            "Test data shape: (1320, 95)\n",
            "Test labels shape: (1320,)\n"
          ]
        }
      ]
    },
    {
      "cell_type": "markdown",
      "metadata": {
        "id": "60HT1pwCxI0F"
      },
      "source": [
        "## Create New Model"
      ]
    },
    {
      "cell_type": "markdown",
      "metadata": {
        "id": "691U7JYNE_a0"
      },
      "source": [
        "### Options\n",
        "\n",
        "In this section there are some boolean variables to tune what the code will do:\n",
        "\n",
        "* train_model -> True: the network will be trained / False: network wont' be trained\n",
        "* model_loss -> True: plot the model loss / False: don't plot the model loss\n",
        "* model_accuracy -> True: plot the model accuracy / False: don't plot the model accuracy\n",
        "* evaluate_model -> True: evaluate the model / False: don't evaluate the model\n",
        "* conf_matr -> True: plot the confusion matrix / False: don't plot the confusion matrix\n",
        "* plot_model -> True: plot the structure of the network / False: don't plot the structure of the network\n",
        "* save_model -> True: save the model / False: don't save the model"
      ]
    },
    {
      "cell_type": "code",
      "metadata": {
        "id": "HoljJF-6E__7"
      },
      "source": [
        "train_model = True\n",
        "model_loss = True\n",
        "model_accuracy = True\n",
        "evaluate_model = True\n",
        "conf_matr = True\n",
        "plot_model = True\n",
        "save_model = False"
      ],
      "execution_count": 145,
      "outputs": []
    },
    {
      "cell_type": "markdown",
      "metadata": {
        "id": "SJ5uNrhyEXu-"
      },
      "source": [
        "### Create the network"
      ]
    },
    {
      "cell_type": "code",
      "metadata": {
        "id": "orkv-WlKxLBp"
      },
      "source": [
        "model = keras.models.Sequential()\n",
        "model.add(keras.layers.Dense(128, activation='relu', input_shape=(95,)))\n",
        "model.add(keras.layers.Dense(64,kernel_regularizer=keras.regularizers.l2(0.001), activation='relu'))\n",
        "model.add(keras.layers.Dropout(0.5))\n",
        "model.add(keras.layers.Dense(32,kernel_regularizer=keras.regularizers.l2(0.001), activation='relu'))\n",
        "model.add(keras.layers.Dropout(0.5))\n",
        "model.add(keras.layers.Dense(16,kernel_regularizer=keras.regularizers.l2(0.001), activation='relu'))\n",
        "model.add(keras.layers.Dense(1, activation='sigmoid'))\n",
        "optimizer = keras.optimizers.RMSprop(learning_rate=0.001)\n",
        "model.compile(optimizer=optimizer, loss='binary_crossentropy', metrics=['accuracy'])"
      ],
      "execution_count": 58,
      "outputs": []
    },
    {
      "cell_type": "markdown",
      "metadata": {
        "id": "LigW-AsMEbri"
      },
      "source": [
        "### Train the network"
      ]
    },
    {
      "cell_type": "code",
      "metadata": {
        "colab": {
          "base_uri": "https://localhost:8080/"
        },
        "id": "D9EaKz5dzOeL",
        "outputId": "7537f622-3afa-4138-ef21-5dc3fd51b39b"
      },
      "source": [
        "if train_model == True:\n",
        "  history = model.fit(x_train, y_train, epochs=200, validation_data=(x_valid,y_valid))"
      ],
      "execution_count": 59,
      "outputs": [
        {
          "output_type": "stream",
          "name": "stdout",
          "text": [
            "Epoch 1/200\n",
            "297/297 [==============================] - 2s 3ms/step - loss: 0.7270 - accuracy: 0.6348 - val_loss: 0.5263 - val_accuracy: 0.8371\n",
            "Epoch 2/200\n",
            "297/297 [==============================] - 1s 2ms/step - loss: 0.4774 - accuracy: 0.8292 - val_loss: 0.3555 - val_accuracy: 0.8855\n",
            "Epoch 3/200\n",
            "297/297 [==============================] - 1s 2ms/step - loss: 0.3839 - accuracy: 0.8712 - val_loss: 0.3244 - val_accuracy: 0.8902\n",
            "Epoch 4/200\n",
            "297/297 [==============================] - 1s 2ms/step - loss: 0.3399 - accuracy: 0.8890 - val_loss: 0.2959 - val_accuracy: 0.8977\n",
            "Epoch 5/200\n",
            "297/297 [==============================] - 1s 2ms/step - loss: 0.3159 - accuracy: 0.8968 - val_loss: 0.2881 - val_accuracy: 0.8998\n",
            "Epoch 6/200\n",
            "297/297 [==============================] - 1s 2ms/step - loss: 0.3035 - accuracy: 0.8997 - val_loss: 0.3106 - val_accuracy: 0.8927\n",
            "Epoch 7/200\n",
            "297/297 [==============================] - 1s 2ms/step - loss: 0.2826 - accuracy: 0.9034 - val_loss: 0.2591 - val_accuracy: 0.9179\n",
            "Epoch 8/200\n",
            "297/297 [==============================] - 1s 2ms/step - loss: 0.2794 - accuracy: 0.9095 - val_loss: 0.2480 - val_accuracy: 0.9184\n",
            "Epoch 9/200\n",
            "297/297 [==============================] - 1s 2ms/step - loss: 0.2683 - accuracy: 0.9142 - val_loss: 0.3300 - val_accuracy: 0.8838\n",
            "Epoch 10/200\n",
            "297/297 [==============================] - 1s 2ms/step - loss: 0.2730 - accuracy: 0.9105 - val_loss: 0.2308 - val_accuracy: 0.9293\n",
            "Epoch 11/200\n",
            "297/297 [==============================] - 1s 2ms/step - loss: 0.2539 - accuracy: 0.9179 - val_loss: 0.2504 - val_accuracy: 0.9112\n",
            "Epoch 12/200\n",
            "297/297 [==============================] - 1s 2ms/step - loss: 0.2514 - accuracy: 0.9205 - val_loss: 0.2306 - val_accuracy: 0.9238\n",
            "Epoch 13/200\n",
            "297/297 [==============================] - 1s 2ms/step - loss: 0.2436 - accuracy: 0.9236 - val_loss: 0.2279 - val_accuracy: 0.9234\n",
            "Epoch 14/200\n",
            "297/297 [==============================] - 1s 2ms/step - loss: 0.2391 - accuracy: 0.9251 - val_loss: 0.2289 - val_accuracy: 0.9234\n",
            "Epoch 15/200\n",
            "297/297 [==============================] - 1s 2ms/step - loss: 0.2313 - accuracy: 0.9291 - val_loss: 0.2313 - val_accuracy: 0.9226\n",
            "Epoch 16/200\n",
            "297/297 [==============================] - 1s 2ms/step - loss: 0.2323 - accuracy: 0.9301 - val_loss: 0.2494 - val_accuracy: 0.9158\n",
            "Epoch 17/200\n",
            "297/297 [==============================] - 1s 2ms/step - loss: 0.2257 - accuracy: 0.9282 - val_loss: 0.2586 - val_accuracy: 0.9196\n",
            "Epoch 18/200\n",
            "297/297 [==============================] - 1s 2ms/step - loss: 0.2241 - accuracy: 0.9279 - val_loss: 0.2269 - val_accuracy: 0.9154\n",
            "Epoch 19/200\n",
            "297/297 [==============================] - 1s 2ms/step - loss: 0.2225 - accuracy: 0.9314 - val_loss: 0.2182 - val_accuracy: 0.9285\n",
            "Epoch 20/200\n",
            "297/297 [==============================] - 1s 2ms/step - loss: 0.2160 - accuracy: 0.9317 - val_loss: 0.1959 - val_accuracy: 0.9415\n",
            "Epoch 21/200\n",
            "297/297 [==============================] - 1s 2ms/step - loss: 0.2121 - accuracy: 0.9358 - val_loss: 0.1921 - val_accuracy: 0.9470\n",
            "Epoch 22/200\n",
            "297/297 [==============================] - 1s 2ms/step - loss: 0.2144 - accuracy: 0.9351 - val_loss: 0.1770 - val_accuracy: 0.9524\n",
            "Epoch 23/200\n",
            "297/297 [==============================] - 1s 2ms/step - loss: 0.2098 - accuracy: 0.9376 - val_loss: 0.1819 - val_accuracy: 0.9491\n",
            "Epoch 24/200\n",
            "297/297 [==============================] - 1s 2ms/step - loss: 0.2021 - accuracy: 0.9403 - val_loss: 0.1870 - val_accuracy: 0.9520\n",
            "Epoch 25/200\n",
            "297/297 [==============================] - 1s 2ms/step - loss: 0.2062 - accuracy: 0.9377 - val_loss: 0.2046 - val_accuracy: 0.9432\n",
            "Epoch 26/200\n",
            "297/297 [==============================] - 1s 2ms/step - loss: 0.2011 - accuracy: 0.9418 - val_loss: 0.1830 - val_accuracy: 0.9508\n",
            "Epoch 27/200\n",
            "297/297 [==============================] - 1s 2ms/step - loss: 0.2039 - accuracy: 0.9416 - val_loss: 0.1886 - val_accuracy: 0.9423\n",
            "Epoch 28/200\n",
            "297/297 [==============================] - 1s 2ms/step - loss: 0.1973 - accuracy: 0.9414 - val_loss: 0.1666 - val_accuracy: 0.9558\n",
            "Epoch 29/200\n",
            "297/297 [==============================] - 1s 2ms/step - loss: 0.2010 - accuracy: 0.9413 - val_loss: 0.1795 - val_accuracy: 0.9444\n",
            "Epoch 30/200\n",
            "297/297 [==============================] - 1s 2ms/step - loss: 0.1950 - accuracy: 0.9424 - val_loss: 0.1872 - val_accuracy: 0.9516\n",
            "Epoch 31/200\n",
            "297/297 [==============================] - 1s 2ms/step - loss: 0.1974 - accuracy: 0.9425 - val_loss: 0.1717 - val_accuracy: 0.9537\n",
            "Epoch 32/200\n",
            "297/297 [==============================] - 1s 2ms/step - loss: 0.1909 - accuracy: 0.9451 - val_loss: 0.1698 - val_accuracy: 0.9533\n",
            "Epoch 33/200\n",
            "297/297 [==============================] - 1s 2ms/step - loss: 0.1876 - accuracy: 0.9459 - val_loss: 0.1967 - val_accuracy: 0.9402\n",
            "Epoch 34/200\n",
            "297/297 [==============================] - 1s 2ms/step - loss: 0.1788 - accuracy: 0.9484 - val_loss: 0.1779 - val_accuracy: 0.9508\n",
            "Epoch 35/200\n",
            "297/297 [==============================] - 1s 2ms/step - loss: 0.1881 - accuracy: 0.9474 - val_loss: 0.1661 - val_accuracy: 0.9558\n",
            "Epoch 36/200\n",
            "297/297 [==============================] - 1s 2ms/step - loss: 0.1785 - accuracy: 0.9477 - val_loss: 0.1755 - val_accuracy: 0.9524\n",
            "Epoch 37/200\n",
            "297/297 [==============================] - 1s 2ms/step - loss: 0.1820 - accuracy: 0.9473 - val_loss: 0.2255 - val_accuracy: 0.9318\n",
            "Epoch 38/200\n",
            "297/297 [==============================] - 1s 2ms/step - loss: 0.1772 - accuracy: 0.9482 - val_loss: 0.2161 - val_accuracy: 0.9335\n",
            "Epoch 39/200\n",
            "297/297 [==============================] - 1s 2ms/step - loss: 0.1822 - accuracy: 0.9473 - val_loss: 0.1601 - val_accuracy: 0.9604\n",
            "Epoch 40/200\n",
            "297/297 [==============================] - 1s 2ms/step - loss: 0.1747 - accuracy: 0.9514 - val_loss: 0.1627 - val_accuracy: 0.9583\n",
            "Epoch 41/200\n",
            "297/297 [==============================] - 1s 2ms/step - loss: 0.1724 - accuracy: 0.9531 - val_loss: 0.1919 - val_accuracy: 0.9465\n",
            "Epoch 42/200\n",
            "297/297 [==============================] - 1s 2ms/step - loss: 0.1734 - accuracy: 0.9510 - val_loss: 0.1712 - val_accuracy: 0.9583\n",
            "Epoch 43/200\n",
            "297/297 [==============================] - 1s 2ms/step - loss: 0.1701 - accuracy: 0.9542 - val_loss: 0.1657 - val_accuracy: 0.9541\n",
            "Epoch 44/200\n",
            "297/297 [==============================] - 1s 2ms/step - loss: 0.1721 - accuracy: 0.9504 - val_loss: 0.1819 - val_accuracy: 0.9482\n",
            "Epoch 45/200\n",
            "297/297 [==============================] - 1s 2ms/step - loss: 0.1687 - accuracy: 0.9533 - val_loss: 0.2444 - val_accuracy: 0.9053\n",
            "Epoch 46/200\n",
            "297/297 [==============================] - 1s 2ms/step - loss: 0.1639 - accuracy: 0.9553 - val_loss: 0.1494 - val_accuracy: 0.9642\n",
            "Epoch 47/200\n",
            "297/297 [==============================] - 1s 2ms/step - loss: 0.1664 - accuracy: 0.9542 - val_loss: 0.1605 - val_accuracy: 0.9545\n",
            "Epoch 48/200\n",
            "297/297 [==============================] - 1s 2ms/step - loss: 0.1586 - accuracy: 0.9575 - val_loss: 0.1668 - val_accuracy: 0.9524\n",
            "Epoch 49/200\n",
            "297/297 [==============================] - 1s 2ms/step - loss: 0.1673 - accuracy: 0.9557 - val_loss: 0.1503 - val_accuracy: 0.9609\n",
            "Epoch 50/200\n",
            "297/297 [==============================] - 1s 2ms/step - loss: 0.1560 - accuracy: 0.9580 - val_loss: 0.1541 - val_accuracy: 0.9634\n",
            "Epoch 51/200\n",
            "297/297 [==============================] - 1s 2ms/step - loss: 0.1640 - accuracy: 0.9579 - val_loss: 0.1624 - val_accuracy: 0.9545\n",
            "Epoch 52/200\n",
            "297/297 [==============================] - 1s 2ms/step - loss: 0.1578 - accuracy: 0.9561 - val_loss: 0.1733 - val_accuracy: 0.9545\n",
            "Epoch 53/200\n",
            "297/297 [==============================] - 1s 2ms/step - loss: 0.1587 - accuracy: 0.9558 - val_loss: 0.1649 - val_accuracy: 0.9554\n",
            "Epoch 54/200\n",
            "297/297 [==============================] - 1s 2ms/step - loss: 0.1590 - accuracy: 0.9578 - val_loss: 0.1476 - val_accuracy: 0.9697\n",
            "Epoch 55/200\n",
            "297/297 [==============================] - 1s 2ms/step - loss: 0.1515 - accuracy: 0.9562 - val_loss: 0.1986 - val_accuracy: 0.9360\n",
            "Epoch 56/200\n",
            "297/297 [==============================] - 1s 2ms/step - loss: 0.1521 - accuracy: 0.9602 - val_loss: 0.1727 - val_accuracy: 0.9554\n",
            "Epoch 57/200\n",
            "297/297 [==============================] - 1s 2ms/step - loss: 0.1557 - accuracy: 0.9584 - val_loss: 0.1665 - val_accuracy: 0.9566\n",
            "Epoch 58/200\n",
            "297/297 [==============================] - 1s 2ms/step - loss: 0.1488 - accuracy: 0.9607 - val_loss: 0.1905 - val_accuracy: 0.9478\n",
            "Epoch 59/200\n",
            "297/297 [==============================] - 1s 2ms/step - loss: 0.1534 - accuracy: 0.9581 - val_loss: 0.2432 - val_accuracy: 0.9158\n",
            "Epoch 60/200\n",
            "297/297 [==============================] - 1s 2ms/step - loss: 0.1546 - accuracy: 0.9586 - val_loss: 0.1583 - val_accuracy: 0.9588\n",
            "Epoch 61/200\n",
            "297/297 [==============================] - 1s 2ms/step - loss: 0.1506 - accuracy: 0.9593 - val_loss: 0.1465 - val_accuracy: 0.9672\n",
            "Epoch 62/200\n",
            "297/297 [==============================] - 1s 2ms/step - loss: 0.1482 - accuracy: 0.9609 - val_loss: 0.1528 - val_accuracy: 0.9617\n",
            "Epoch 63/200\n",
            "297/297 [==============================] - 1s 2ms/step - loss: 0.1514 - accuracy: 0.9611 - val_loss: 0.1678 - val_accuracy: 0.9562\n",
            "Epoch 64/200\n",
            "297/297 [==============================] - 1s 2ms/step - loss: 0.1462 - accuracy: 0.9614 - val_loss: 0.1442 - val_accuracy: 0.9663\n",
            "Epoch 65/200\n",
            "297/297 [==============================] - 1s 2ms/step - loss: 0.1529 - accuracy: 0.9598 - val_loss: 0.1911 - val_accuracy: 0.9415\n",
            "Epoch 66/200\n",
            "297/297 [==============================] - 1s 2ms/step - loss: 0.1468 - accuracy: 0.9612 - val_loss: 0.1690 - val_accuracy: 0.9562\n",
            "Epoch 67/200\n",
            "297/297 [==============================] - 1s 2ms/step - loss: 0.1442 - accuracy: 0.9612 - val_loss: 0.1494 - val_accuracy: 0.9604\n",
            "Epoch 68/200\n",
            "297/297 [==============================] - 1s 2ms/step - loss: 0.1455 - accuracy: 0.9624 - val_loss: 0.1488 - val_accuracy: 0.9642\n",
            "Epoch 69/200\n",
            "297/297 [==============================] - 1s 2ms/step - loss: 0.1433 - accuracy: 0.9606 - val_loss: 0.1476 - val_accuracy: 0.9600\n",
            "Epoch 70/200\n",
            "297/297 [==============================] - 1s 2ms/step - loss: 0.1421 - accuracy: 0.9628 - val_loss: 0.1974 - val_accuracy: 0.9465\n",
            "Epoch 71/200\n",
            "297/297 [==============================] - 1s 2ms/step - loss: 0.1450 - accuracy: 0.9636 - val_loss: 0.1404 - val_accuracy: 0.9672\n",
            "Epoch 72/200\n",
            "297/297 [==============================] - 1s 2ms/step - loss: 0.1420 - accuracy: 0.9628 - val_loss: 0.2436 - val_accuracy: 0.9314\n",
            "Epoch 73/200\n",
            "297/297 [==============================] - 1s 2ms/step - loss: 0.1366 - accuracy: 0.9639 - val_loss: 0.1480 - val_accuracy: 0.9625\n",
            "Epoch 74/200\n",
            "297/297 [==============================] - 1s 2ms/step - loss: 0.1377 - accuracy: 0.9623 - val_loss: 0.1381 - val_accuracy: 0.9697\n",
            "Epoch 75/200\n",
            "297/297 [==============================] - 1s 2ms/step - loss: 0.1344 - accuracy: 0.9658 - val_loss: 0.1710 - val_accuracy: 0.9533\n",
            "Epoch 76/200\n",
            "297/297 [==============================] - 1s 2ms/step - loss: 0.1387 - accuracy: 0.9638 - val_loss: 0.1404 - val_accuracy: 0.9625\n",
            "Epoch 77/200\n",
            "297/297 [==============================] - 1s 2ms/step - loss: 0.1333 - accuracy: 0.9652 - val_loss: 0.1510 - val_accuracy: 0.9592\n",
            "Epoch 78/200\n",
            "297/297 [==============================] - 1s 2ms/step - loss: 0.1374 - accuracy: 0.9653 - val_loss: 0.1418 - val_accuracy: 0.9655\n",
            "Epoch 79/200\n",
            "297/297 [==============================] - 1s 2ms/step - loss: 0.1379 - accuracy: 0.9657 - val_loss: 0.1697 - val_accuracy: 0.9524\n",
            "Epoch 80/200\n",
            "297/297 [==============================] - 1s 2ms/step - loss: 0.1316 - accuracy: 0.9660 - val_loss: 0.2105 - val_accuracy: 0.9360\n",
            "Epoch 81/200\n",
            "297/297 [==============================] - 1s 2ms/step - loss: 0.1334 - accuracy: 0.9656 - val_loss: 0.1464 - val_accuracy: 0.9638\n",
            "Epoch 82/200\n",
            "297/297 [==============================] - 1s 2ms/step - loss: 0.1378 - accuracy: 0.9651 - val_loss: 0.1407 - val_accuracy: 0.9613\n",
            "Epoch 83/200\n",
            "297/297 [==============================] - 1s 2ms/step - loss: 0.1366 - accuracy: 0.9647 - val_loss: 0.1684 - val_accuracy: 0.9583\n",
            "Epoch 84/200\n",
            "297/297 [==============================] - 1s 2ms/step - loss: 0.1325 - accuracy: 0.9652 - val_loss: 0.1414 - val_accuracy: 0.9604\n",
            "Epoch 85/200\n",
            "297/297 [==============================] - 1s 2ms/step - loss: 0.1324 - accuracy: 0.9685 - val_loss: 0.1305 - val_accuracy: 0.9689\n",
            "Epoch 86/200\n",
            "297/297 [==============================] - 1s 3ms/step - loss: 0.1304 - accuracy: 0.9661 - val_loss: 0.1387 - val_accuracy: 0.9659\n",
            "Epoch 87/200\n",
            "297/297 [==============================] - 1s 2ms/step - loss: 0.1312 - accuracy: 0.9662 - val_loss: 0.1282 - val_accuracy: 0.9743\n",
            "Epoch 88/200\n",
            "297/297 [==============================] - 1s 2ms/step - loss: 0.1342 - accuracy: 0.9655 - val_loss: 0.1257 - val_accuracy: 0.9731\n",
            "Epoch 89/200\n",
            "297/297 [==============================] - 1s 2ms/step - loss: 0.1291 - accuracy: 0.9690 - val_loss: 0.1359 - val_accuracy: 0.9672\n",
            "Epoch 90/200\n",
            "297/297 [==============================] - 1s 2ms/step - loss: 0.1261 - accuracy: 0.9683 - val_loss: 0.1533 - val_accuracy: 0.9596\n",
            "Epoch 91/200\n",
            "297/297 [==============================] - 1s 2ms/step - loss: 0.1284 - accuracy: 0.9672 - val_loss: 0.1412 - val_accuracy: 0.9651\n",
            "Epoch 92/200\n",
            "297/297 [==============================] - 1s 2ms/step - loss: 0.1339 - accuracy: 0.9652 - val_loss: 0.1519 - val_accuracy: 0.9566\n",
            "Epoch 93/200\n",
            "297/297 [==============================] - 1s 2ms/step - loss: 0.1315 - accuracy: 0.9674 - val_loss: 0.1220 - val_accuracy: 0.9743\n",
            "Epoch 94/200\n",
            "297/297 [==============================] - 1s 2ms/step - loss: 0.1242 - accuracy: 0.9674 - val_loss: 0.1216 - val_accuracy: 0.9726\n",
            "Epoch 95/200\n",
            "297/297 [==============================] - 1s 2ms/step - loss: 0.1241 - accuracy: 0.9697 - val_loss: 0.1234 - val_accuracy: 0.9726\n",
            "Epoch 96/200\n",
            "297/297 [==============================] - 1s 2ms/step - loss: 0.1239 - accuracy: 0.9678 - val_loss: 0.1387 - val_accuracy: 0.9668\n",
            "Epoch 97/200\n",
            "297/297 [==============================] - 1s 2ms/step - loss: 0.1243 - accuracy: 0.9675 - val_loss: 0.1749 - val_accuracy: 0.9541\n",
            "Epoch 98/200\n",
            "297/297 [==============================] - 1s 2ms/step - loss: 0.1245 - accuracy: 0.9691 - val_loss: 0.1244 - val_accuracy: 0.9743\n",
            "Epoch 99/200\n",
            "297/297 [==============================] - 1s 2ms/step - loss: 0.1246 - accuracy: 0.9720 - val_loss: 0.1828 - val_accuracy: 0.9503\n",
            "Epoch 100/200\n",
            "297/297 [==============================] - 1s 2ms/step - loss: 0.1191 - accuracy: 0.9703 - val_loss: 0.1593 - val_accuracy: 0.9604\n",
            "Epoch 101/200\n",
            "297/297 [==============================] - 1s 2ms/step - loss: 0.1239 - accuracy: 0.9683 - val_loss: 0.1208 - val_accuracy: 0.9747\n",
            "Epoch 102/200\n",
            "297/297 [==============================] - 1s 2ms/step - loss: 0.1211 - accuracy: 0.9711 - val_loss: 0.1352 - val_accuracy: 0.9672\n",
            "Epoch 103/200\n",
            "297/297 [==============================] - 1s 2ms/step - loss: 0.1243 - accuracy: 0.9681 - val_loss: 0.1201 - val_accuracy: 0.9710\n",
            "Epoch 104/200\n",
            "297/297 [==============================] - 1s 2ms/step - loss: 0.1179 - accuracy: 0.9715 - val_loss: 0.1453 - val_accuracy: 0.9630\n",
            "Epoch 105/200\n",
            "297/297 [==============================] - 1s 2ms/step - loss: 0.1245 - accuracy: 0.9699 - val_loss: 0.1238 - val_accuracy: 0.9718\n",
            "Epoch 106/200\n",
            "297/297 [==============================] - 1s 2ms/step - loss: 0.1180 - accuracy: 0.9697 - val_loss: 0.1199 - val_accuracy: 0.9739\n",
            "Epoch 107/200\n",
            "297/297 [==============================] - 1s 2ms/step - loss: 0.1182 - accuracy: 0.9712 - val_loss: 0.1541 - val_accuracy: 0.9609\n",
            "Epoch 108/200\n",
            "297/297 [==============================] - 1s 2ms/step - loss: 0.1226 - accuracy: 0.9701 - val_loss: 0.1210 - val_accuracy: 0.9697\n",
            "Epoch 109/200\n",
            "297/297 [==============================] - 1s 2ms/step - loss: 0.1208 - accuracy: 0.9688 - val_loss: 0.1214 - val_accuracy: 0.9752\n",
            "Epoch 110/200\n",
            "297/297 [==============================] - 1s 2ms/step - loss: 0.1112 - accuracy: 0.9727 - val_loss: 0.1228 - val_accuracy: 0.9718\n",
            "Epoch 111/200\n",
            "297/297 [==============================] - 1s 2ms/step - loss: 0.1193 - accuracy: 0.9718 - val_loss: 0.1827 - val_accuracy: 0.9457\n",
            "Epoch 112/200\n",
            "297/297 [==============================] - 1s 2ms/step - loss: 0.1187 - accuracy: 0.9705 - val_loss: 0.1352 - val_accuracy: 0.9672\n",
            "Epoch 113/200\n",
            "297/297 [==============================] - 1s 2ms/step - loss: 0.1267 - accuracy: 0.9693 - val_loss: 0.1231 - val_accuracy: 0.9731\n",
            "Epoch 114/200\n",
            "297/297 [==============================] - 1s 2ms/step - loss: 0.1163 - accuracy: 0.9728 - val_loss: 0.1288 - val_accuracy: 0.9693\n",
            "Epoch 115/200\n",
            "297/297 [==============================] - 1s 2ms/step - loss: 0.1179 - accuracy: 0.9706 - val_loss: 0.1429 - val_accuracy: 0.9655\n",
            "Epoch 116/200\n",
            "297/297 [==============================] - 1s 2ms/step - loss: 0.1161 - accuracy: 0.9713 - val_loss: 0.1216 - val_accuracy: 0.9726\n",
            "Epoch 117/200\n",
            "297/297 [==============================] - 1s 2ms/step - loss: 0.1229 - accuracy: 0.9695 - val_loss: 0.1312 - val_accuracy: 0.9680\n",
            "Epoch 118/200\n",
            "297/297 [==============================] - 1s 2ms/step - loss: 0.1196 - accuracy: 0.9711 - val_loss: 0.1301 - val_accuracy: 0.9701\n",
            "Epoch 119/200\n",
            "297/297 [==============================] - 1s 2ms/step - loss: 0.1143 - accuracy: 0.9716 - val_loss: 0.1292 - val_accuracy: 0.9718\n",
            "Epoch 120/200\n",
            "297/297 [==============================] - 1s 2ms/step - loss: 0.1113 - accuracy: 0.9723 - val_loss: 0.1518 - val_accuracy: 0.9655\n",
            "Epoch 121/200\n",
            "297/297 [==============================] - 1s 2ms/step - loss: 0.1162 - accuracy: 0.9726 - val_loss: 0.1131 - val_accuracy: 0.9769\n",
            "Epoch 122/200\n",
            "297/297 [==============================] - 1s 2ms/step - loss: 0.1133 - accuracy: 0.9743 - val_loss: 0.1320 - val_accuracy: 0.9705\n",
            "Epoch 123/200\n",
            "297/297 [==============================] - 1s 3ms/step - loss: 0.1173 - accuracy: 0.9712 - val_loss: 0.1210 - val_accuracy: 0.9722\n",
            "Epoch 124/200\n",
            "297/297 [==============================] - 1s 3ms/step - loss: 0.1141 - accuracy: 0.9737 - val_loss: 0.1352 - val_accuracy: 0.9684\n",
            "Epoch 125/200\n",
            "297/297 [==============================] - 1s 3ms/step - loss: 0.1150 - accuracy: 0.9717 - val_loss: 0.1224 - val_accuracy: 0.9747\n",
            "Epoch 126/200\n",
            "297/297 [==============================] - 1s 3ms/step - loss: 0.1090 - accuracy: 0.9733 - val_loss: 0.1263 - val_accuracy: 0.9718\n",
            "Epoch 127/200\n",
            "297/297 [==============================] - 1s 3ms/step - loss: 0.1183 - accuracy: 0.9716 - val_loss: 0.1384 - val_accuracy: 0.9697\n",
            "Epoch 128/200\n",
            "297/297 [==============================] - 1s 3ms/step - loss: 0.1084 - accuracy: 0.9755 - val_loss: 0.1258 - val_accuracy: 0.9726\n",
            "Epoch 129/200\n",
            "297/297 [==============================] - 1s 4ms/step - loss: 0.1186 - accuracy: 0.9728 - val_loss: 0.1673 - val_accuracy: 0.9562\n",
            "Epoch 130/200\n",
            "297/297 [==============================] - 1s 3ms/step - loss: 0.1065 - accuracy: 0.9742 - val_loss: 0.1241 - val_accuracy: 0.9756\n",
            "Epoch 131/200\n",
            "297/297 [==============================] - 1s 2ms/step - loss: 0.1150 - accuracy: 0.9733 - val_loss: 0.2492 - val_accuracy: 0.9217\n",
            "Epoch 132/200\n",
            "297/297 [==============================] - 1s 2ms/step - loss: 0.1114 - accuracy: 0.9738 - val_loss: 0.1289 - val_accuracy: 0.9705\n",
            "Epoch 133/200\n",
            "297/297 [==============================] - 1s 2ms/step - loss: 0.1119 - accuracy: 0.9734 - val_loss: 0.1365 - val_accuracy: 0.9684\n",
            "Epoch 134/200\n",
            "297/297 [==============================] - 1s 2ms/step - loss: 0.1081 - accuracy: 0.9750 - val_loss: 0.1154 - val_accuracy: 0.9739\n",
            "Epoch 135/200\n",
            "297/297 [==============================] - 1s 2ms/step - loss: 0.1085 - accuracy: 0.9748 - val_loss: 0.1818 - val_accuracy: 0.9537\n",
            "Epoch 136/200\n",
            "297/297 [==============================] - 1s 2ms/step - loss: 0.1051 - accuracy: 0.9772 - val_loss: 0.1506 - val_accuracy: 0.9634\n",
            "Epoch 137/200\n",
            "297/297 [==============================] - 1s 2ms/step - loss: 0.1168 - accuracy: 0.9720 - val_loss: 0.1405 - val_accuracy: 0.9588\n",
            "Epoch 138/200\n",
            "297/297 [==============================] - 1s 2ms/step - loss: 0.1106 - accuracy: 0.9747 - val_loss: 0.1810 - val_accuracy: 0.9529\n",
            "Epoch 139/200\n",
            "297/297 [==============================] - 1s 2ms/step - loss: 0.1127 - accuracy: 0.9735 - val_loss: 0.1386 - val_accuracy: 0.9672\n",
            "Epoch 140/200\n",
            "297/297 [==============================] - 1s 2ms/step - loss: 0.1099 - accuracy: 0.9735 - val_loss: 0.1116 - val_accuracy: 0.9785\n",
            "Epoch 141/200\n",
            "297/297 [==============================] - 1s 2ms/step - loss: 0.1095 - accuracy: 0.9721 - val_loss: 0.1347 - val_accuracy: 0.9705\n",
            "Epoch 142/200\n",
            "297/297 [==============================] - 1s 2ms/step - loss: 0.1124 - accuracy: 0.9736 - val_loss: 0.1295 - val_accuracy: 0.9689\n",
            "Epoch 143/200\n",
            "297/297 [==============================] - 1s 2ms/step - loss: 0.1085 - accuracy: 0.9743 - val_loss: 0.1264 - val_accuracy: 0.9726\n",
            "Epoch 144/200\n",
            "297/297 [==============================] - 1s 2ms/step - loss: 0.1137 - accuracy: 0.9743 - val_loss: 0.1194 - val_accuracy: 0.9731\n",
            "Epoch 145/200\n",
            "297/297 [==============================] - 1s 2ms/step - loss: 0.1127 - accuracy: 0.9732 - val_loss: 0.1138 - val_accuracy: 0.9773\n",
            "Epoch 146/200\n",
            "297/297 [==============================] - 1s 2ms/step - loss: 0.1070 - accuracy: 0.9743 - val_loss: 0.1446 - val_accuracy: 0.9634\n",
            "Epoch 147/200\n",
            "297/297 [==============================] - 1s 2ms/step - loss: 0.1089 - accuracy: 0.9740 - val_loss: 0.1157 - val_accuracy: 0.9747\n",
            "Epoch 148/200\n",
            "297/297 [==============================] - 1s 2ms/step - loss: 0.1080 - accuracy: 0.9752 - val_loss: 0.1365 - val_accuracy: 0.9684\n",
            "Epoch 149/200\n",
            "297/297 [==============================] - 1s 2ms/step - loss: 0.1093 - accuracy: 0.9746 - val_loss: 0.1584 - val_accuracy: 0.9638\n",
            "Epoch 150/200\n",
            "297/297 [==============================] - 1s 3ms/step - loss: 0.1046 - accuracy: 0.9735 - val_loss: 0.1166 - val_accuracy: 0.9743\n",
            "Epoch 151/200\n",
            "297/297 [==============================] - 1s 2ms/step - loss: 0.1062 - accuracy: 0.9748 - val_loss: 0.1080 - val_accuracy: 0.9781\n",
            "Epoch 152/200\n",
            "297/297 [==============================] - 1s 2ms/step - loss: 0.1057 - accuracy: 0.9741 - val_loss: 0.1217 - val_accuracy: 0.9726\n",
            "Epoch 153/200\n",
            "297/297 [==============================] - 1s 2ms/step - loss: 0.1042 - accuracy: 0.9745 - val_loss: 0.1117 - val_accuracy: 0.9756\n",
            "Epoch 154/200\n",
            "297/297 [==============================] - 1s 2ms/step - loss: 0.1064 - accuracy: 0.9757 - val_loss: 0.1193 - val_accuracy: 0.9718\n",
            "Epoch 155/200\n",
            "297/297 [==============================] - 1s 2ms/step - loss: 0.1146 - accuracy: 0.9759 - val_loss: 0.1303 - val_accuracy: 0.9697\n",
            "Epoch 156/200\n",
            "297/297 [==============================] - 1s 2ms/step - loss: 0.1059 - accuracy: 0.9737 - val_loss: 0.1034 - val_accuracy: 0.9790\n",
            "Epoch 157/200\n",
            "297/297 [==============================] - 1s 2ms/step - loss: 0.1047 - accuracy: 0.9755 - val_loss: 0.1251 - val_accuracy: 0.9735\n",
            "Epoch 158/200\n",
            "297/297 [==============================] - 1s 2ms/step - loss: 0.1057 - accuracy: 0.9757 - val_loss: 0.1107 - val_accuracy: 0.9790\n",
            "Epoch 159/200\n",
            "297/297 [==============================] - 1s 2ms/step - loss: 0.1048 - accuracy: 0.9763 - val_loss: 0.1202 - val_accuracy: 0.9731\n",
            "Epoch 160/200\n",
            "297/297 [==============================] - 1s 2ms/step - loss: 0.1051 - accuracy: 0.9757 - val_loss: 0.1230 - val_accuracy: 0.9735\n",
            "Epoch 161/200\n",
            "297/297 [==============================] - 1s 2ms/step - loss: 0.1023 - accuracy: 0.9762 - val_loss: 0.1208 - val_accuracy: 0.9726\n",
            "Epoch 162/200\n",
            "297/297 [==============================] - 1s 2ms/step - loss: 0.1057 - accuracy: 0.9760 - val_loss: 0.1241 - val_accuracy: 0.9743\n",
            "Epoch 163/200\n",
            "297/297 [==============================] - 1s 2ms/step - loss: 0.0982 - accuracy: 0.9781 - val_loss: 0.1132 - val_accuracy: 0.9781\n",
            "Epoch 164/200\n",
            "297/297 [==============================] - 1s 2ms/step - loss: 0.1091 - accuracy: 0.9761 - val_loss: 0.1149 - val_accuracy: 0.9743\n",
            "Epoch 165/200\n",
            "297/297 [==============================] - 1s 2ms/step - loss: 0.1013 - accuracy: 0.9760 - val_loss: 0.1228 - val_accuracy: 0.9726\n",
            "Epoch 166/200\n",
            "297/297 [==============================] - 1s 2ms/step - loss: 0.1037 - accuracy: 0.9777 - val_loss: 0.1661 - val_accuracy: 0.9495\n",
            "Epoch 167/200\n",
            "297/297 [==============================] - 1s 2ms/step - loss: 0.1017 - accuracy: 0.9758 - val_loss: 0.1107 - val_accuracy: 0.9764\n",
            "Epoch 168/200\n",
            "297/297 [==============================] - 1s 2ms/step - loss: 0.1002 - accuracy: 0.9778 - val_loss: 0.1717 - val_accuracy: 0.9592\n",
            "Epoch 169/200\n",
            "297/297 [==============================] - 1s 2ms/step - loss: 0.1023 - accuracy: 0.9765 - val_loss: 0.2615 - val_accuracy: 0.9150\n",
            "Epoch 170/200\n",
            "297/297 [==============================] - 1s 2ms/step - loss: 0.1045 - accuracy: 0.9776 - val_loss: 0.1129 - val_accuracy: 0.9769\n",
            "Epoch 171/200\n",
            "297/297 [==============================] - 1s 2ms/step - loss: 0.1020 - accuracy: 0.9790 - val_loss: 0.1068 - val_accuracy: 0.9764\n",
            "Epoch 172/200\n",
            "297/297 [==============================] - 1s 2ms/step - loss: 0.1011 - accuracy: 0.9770 - val_loss: 0.1267 - val_accuracy: 0.9722\n",
            "Epoch 173/200\n",
            "297/297 [==============================] - 1s 2ms/step - loss: 0.0967 - accuracy: 0.9783 - val_loss: 0.1138 - val_accuracy: 0.9773\n",
            "Epoch 174/200\n",
            "297/297 [==============================] - 1s 2ms/step - loss: 0.1031 - accuracy: 0.9773 - val_loss: 0.1197 - val_accuracy: 0.9743\n",
            "Epoch 175/200\n",
            "297/297 [==============================] - 1s 2ms/step - loss: 0.1066 - accuracy: 0.9751 - val_loss: 0.1102 - val_accuracy: 0.9752\n",
            "Epoch 176/200\n",
            "297/297 [==============================] - 1s 2ms/step - loss: 0.1010 - accuracy: 0.9779 - val_loss: 0.1209 - val_accuracy: 0.9735\n",
            "Epoch 177/200\n",
            "297/297 [==============================] - 1s 2ms/step - loss: 0.1008 - accuracy: 0.9764 - val_loss: 0.1343 - val_accuracy: 0.9710\n",
            "Epoch 178/200\n",
            "297/297 [==============================] - 1s 2ms/step - loss: 0.1107 - accuracy: 0.9752 - val_loss: 0.1376 - val_accuracy: 0.9651\n",
            "Epoch 179/200\n",
            "297/297 [==============================] - 1s 2ms/step - loss: 0.0994 - accuracy: 0.9778 - val_loss: 0.1109 - val_accuracy: 0.9756\n",
            "Epoch 180/200\n",
            "297/297 [==============================] - 1s 2ms/step - loss: 0.1012 - accuracy: 0.9780 - val_loss: 0.1473 - val_accuracy: 0.9634\n",
            "Epoch 181/200\n",
            "297/297 [==============================] - 1s 2ms/step - loss: 0.1002 - accuracy: 0.9770 - val_loss: 0.1108 - val_accuracy: 0.9743\n",
            "Epoch 182/200\n",
            "297/297 [==============================] - 1s 2ms/step - loss: 0.0992 - accuracy: 0.9783 - val_loss: 0.1077 - val_accuracy: 0.9781\n",
            "Epoch 183/200\n",
            "297/297 [==============================] - 1s 2ms/step - loss: 0.0990 - accuracy: 0.9778 - val_loss: 0.1225 - val_accuracy: 0.9735\n",
            "Epoch 184/200\n",
            "297/297 [==============================] - 1s 2ms/step - loss: 0.1053 - accuracy: 0.9766 - val_loss: 0.1037 - val_accuracy: 0.9777\n",
            "Epoch 185/200\n",
            "297/297 [==============================] - 1s 2ms/step - loss: 0.1032 - accuracy: 0.9776 - val_loss: 0.1043 - val_accuracy: 0.9806\n",
            "Epoch 186/200\n",
            "297/297 [==============================] - 1s 2ms/step - loss: 0.0992 - accuracy: 0.9772 - val_loss: 0.1288 - val_accuracy: 0.9705\n",
            "Epoch 187/200\n",
            "297/297 [==============================] - 1s 2ms/step - loss: 0.0978 - accuracy: 0.9792 - val_loss: 0.1089 - val_accuracy: 0.9769\n",
            "Epoch 188/200\n",
            "297/297 [==============================] - 1s 2ms/step - loss: 0.0987 - accuracy: 0.9777 - val_loss: 0.1869 - val_accuracy: 0.9579\n",
            "Epoch 189/200\n",
            "297/297 [==============================] - 1s 2ms/step - loss: 0.1044 - accuracy: 0.9763 - val_loss: 0.1382 - val_accuracy: 0.9672\n",
            "Epoch 190/200\n",
            "297/297 [==============================] - 1s 2ms/step - loss: 0.0935 - accuracy: 0.9776 - val_loss: 0.1489 - val_accuracy: 0.9668\n",
            "Epoch 191/200\n",
            "297/297 [==============================] - 1s 2ms/step - loss: 0.1052 - accuracy: 0.9754 - val_loss: 0.1264 - val_accuracy: 0.9735\n",
            "Epoch 192/200\n",
            "297/297 [==============================] - 1s 2ms/step - loss: 0.1017 - accuracy: 0.9743 - val_loss: 0.1160 - val_accuracy: 0.9773\n",
            "Epoch 193/200\n",
            "297/297 [==============================] - 1s 2ms/step - loss: 0.0959 - accuracy: 0.9784 - val_loss: 0.1293 - val_accuracy: 0.9747\n",
            "Epoch 194/200\n",
            "297/297 [==============================] - 1s 2ms/step - loss: 0.0986 - accuracy: 0.9783 - val_loss: 0.1198 - val_accuracy: 0.9747\n",
            "Epoch 195/200\n",
            "297/297 [==============================] - 1s 2ms/step - loss: 0.0956 - accuracy: 0.9796 - val_loss: 0.1368 - val_accuracy: 0.9689\n",
            "Epoch 196/200\n",
            "297/297 [==============================] - 1s 2ms/step - loss: 0.0936 - accuracy: 0.9797 - val_loss: 0.1145 - val_accuracy: 0.9747\n",
            "Epoch 197/200\n",
            "297/297 [==============================] - 1s 2ms/step - loss: 0.1006 - accuracy: 0.9766 - val_loss: 0.0957 - val_accuracy: 0.9823\n",
            "Epoch 198/200\n",
            "297/297 [==============================] - 1s 2ms/step - loss: 0.1032 - accuracy: 0.9770 - val_loss: 0.0975 - val_accuracy: 0.9802\n",
            "Epoch 199/200\n",
            "297/297 [==============================] - 1s 2ms/step - loss: 0.0952 - accuracy: 0.9786 - val_loss: 0.1257 - val_accuracy: 0.9726\n",
            "Epoch 200/200\n",
            "297/297 [==============================] - 1s 2ms/step - loss: 0.0949 - accuracy: 0.9788 - val_loss: 0.1092 - val_accuracy: 0.9781\n"
          ]
        }
      ]
    },
    {
      "cell_type": "markdown",
      "metadata": {
        "id": "GlX82DsKEdvq"
      },
      "source": [
        "### Loss of the model"
      ]
    },
    {
      "cell_type": "code",
      "metadata": {
        "colab": {
          "base_uri": "https://localhost:8080/",
          "height": 513
        },
        "id": "oSuKLOb4Av18",
        "outputId": "b79fead6-987b-4e3f-98b4-60d6d0aaf2a0"
      },
      "source": [
        "if model_loss == True:\n",
        "  plt.subplots(figsize=(12,8))\n",
        "  plt.plot(history.history['loss'])\n",
        "  plt.plot(history.history['val_loss'])\n",
        "  plt.title('Model Loss')\n",
        "  plt.ylabel('Loss')\n",
        "  plt.xlabel('Epoch')\n",
        "  plt.legend(['Train', 'Validation'], loc='upper right')\n",
        "  plt.show()"
      ],
      "execution_count": 151,
      "outputs": [
        {
          "output_type": "display_data",
          "data": {
            "image/png": "[encoded data removed]",
            "text/plain": [
              "<Figure size 864x576 with 1 Axes>"
            ]
          },
          "metadata": {
            "needs_background": "light"
          }
        }
      ]
    },
    {
      "cell_type": "markdown",
      "metadata": {
        "id": "3S5hOmIGEs9j"
      },
      "source": [
        "### Accuracy of the model"
      ]
    },
    {
      "cell_type": "code",
      "metadata": {
        "colab": {
          "base_uri": "https://localhost:8080/",
          "height": 513
        },
        "id": "PKWN9djLyMc7",
        "outputId": "0caa01f9-f872-47ba-ce5b-bc47197608e2"
      },
      "source": [
        "if model_accuracy == True:\n",
        "  plt.subplots(figsize=(12,8))\n",
        "  plt.plot(history.history['accuracy'])\n",
        "  plt.plot(history.history['val_accuracy'])\n",
        "  plt.title('Model Accuracy')\n",
        "  plt.ylabel('Accuracy')\n",
        "  plt.xlabel('Epoch')\n",
        "  plt.legend(['Train', 'Validation'], loc='lower right')\n",
        "  plt.show()"
      ],
      "execution_count": 149,
      "outputs": [
        {
          "output_type": "display_data",
          "data": {
            "image/png": "[encoded data removed]",
            "text/plain": [
              "<Figure size 864x576 with 1 Axes>"
            ]
          },
          "metadata": {
            "needs_background": "light"
          }
        }
      ]
    },
    {
      "cell_type": "markdown",
      "metadata": {
        "id": "JAGewXYAEwD3"
      },
      "source": [
        "### Evaluate the model\n"
      ]
    },
    {
      "cell_type": "code",
      "metadata": {
        "colab": {
          "base_uri": "https://localhost:8080/"
        },
        "id": "TzswDSgvz64p",
        "outputId": "0fa02bbf-cc29-4fc1-e51c-79396c34473a"
      },
      "source": [
        "if evaluate_model == True:\n",
        "  model.evaluate(x_test, y_test)"
      ],
      "execution_count": 112,
      "outputs": [
        {
          "output_type": "stream",
          "name": "stdout",
          "text": [
            "42/42 [==============================] - 0s 1ms/step - loss: 0.1229 - accuracy: 0.9750\n"
          ]
        }
      ]
    },
    {
      "cell_type": "markdown",
      "metadata": {
        "id": "ocROaziSE4et"
      },
      "source": [
        "### Confusion Matrix\n",
        "\n",
        "Compute the label prediction using the test set and plot the confusion matrix."
      ]
    },
    {
      "cell_type": "code",
      "metadata": {
        "colab": {
          "base_uri": "https://localhost:8080/",
          "height": 611
        },
        "id": "UNA7s8vOEQh0",
        "outputId": "1d1ac121-986c-4e8a-a20c-2b80aa09ae2d"
      },
      "source": [
        "if conf_matr == True:\n",
        "  predictions = model.predict(x_test)\n",
        "  classes = predictions > 0.5\n",
        "  cm = confusion_matrix(y_test,classes)\n",
        "\n",
        "  # Plot\n",
        "  plt.figure(figsize=(10,7))\n",
        "  ax = plt.subplot()\n",
        "  sns.heatmap(cm, annot=True, fmt='g', ax=ax, cmap=\"PuBu\");  # annot=True to annotate cells, ftm='g' to disable scientific notation\n",
        "  ax.set_xlabel('Predicted labels');ax.set_ylabel('True labels'); \n",
        "  ax.set_title('Confusion Matrix'); \n",
        "  ax.xaxis.set_ticklabels(['No Bankrupt', 'Bankrupt']); ax.yaxis.set_ticklabels(['No Bankrupt', 'Bankrupt']);\n",
        "  print(classification_report(y_test,classes))"
      ],
      "execution_count": 144,
      "outputs": [
        {
          "output_type": "stream",
          "name": "stdout",
          "text": [
            "              precision    recall  f1-score   support\n",
            "\n",
            "           0       1.00      0.95      0.98       688\n",
            "           1       0.95      1.00      0.97       632\n",
            "\n",
            "    accuracy                           0.97      1320\n",
            "   macro avg       0.98      0.98      0.97      1320\n",
            "weighted avg       0.98      0.97      0.98      1320\n",
            "\n"
          ]
        },
        {
          "output_type": "display_data",
          "data": {
            "image/png": "[encoded data removed]",
            "text/plain": [
              "<Figure size 720x504 with 2 Axes>"
            ]
          },
          "metadata": {
            "needs_background": "light"
          }
        }
      ]
    },
    {
      "cell_type": "markdown",
      "metadata": {
        "id": "Qi5S7LhQTexS"
      },
      "source": [
        "### Plot model"
      ]
    },
    {
      "cell_type": "code",
      "metadata": {
        "id": "Z1ny8y9KThbB"
      },
      "source": [
        "if plot_model == True:\n",
        "  dot_img_file = \"network.png\"\n",
        "  keras.utils.plot_model(model, to_file=dot_img_file, show_shapes=True)"
      ],
      "execution_count": 146,
      "outputs": []
    },
    {
      "cell_type": "markdown",
      "metadata": {
        "id": "8RZ5X7kXE0XD"
      },
      "source": [
        "### Save the model"
      ]
    },
    {
      "cell_type": "code",
      "metadata": {
        "colab": {
          "base_uri": "https://localhost:8080/"
        },
        "id": "hyLclhdA5VDW",
        "outputId": "1c85d3c2-3b52-40e4-aa0c-51d3d3ba3962"
      },
      "source": [
        "if save_model == True:\n",
        "  file_name = 'acc_97'\n",
        "  model.save(file_name)\n",
        "\n",
        "# ! zip -r model.zip acc_97/"
      ],
      "execution_count": 82,
      "outputs": [
        {
          "output_type": "stream",
          "name": "stdout",
          "text": [
            "INFO:tensorflow:Assets written to: azz/assets\n",
            "\tzip warning: name not matched: folder\n",
            "\n",
            "zip error: Nothing to do! (try: zip -r model.zip . -i folder)\n"
          ]
        }
      ]
    },
    {
      "cell_type": "markdown",
      "metadata": {
        "id": "Cq2wNkY2_W2c"
      },
      "source": [
        "## Load the model"
      ]
    },
    {
      "cell_type": "code",
      "metadata": {
        "colab": {
          "base_uri": "https://localhost:8080/"
        },
        "id": "SxLj04xU_W2i",
        "outputId": "b07a341d-3268-49e8-e0ea-855da02b72ba"
      },
      "source": [
        "model.evaluate(x_test,y_test)"
      ],
      "execution_count": null,
      "outputs": [
        {
          "output_type": "stream",
          "name": "stdout",
          "text": [
            "42/42 [==============================] - 0s 1ms/step - loss: 0.1229 - accuracy: 0.9750\n"
          ]
        },
        {
          "output_type": "execute_result",
          "data": {
            "text/plain": [
              "[0.12291677296161652, 0.9750000238418579]"
            ]
          },
          "metadata": {},
          "execution_count": 61
        }
      ]
    },
    {
      "cell_type": "code",
      "metadata": {
        "colab": {
          "base_uri": "https://localhost:8080/"
        },
        "id": "IMwU8PI0_W2i",
        "outputId": "f749d119-28bd-4c30-923f-cc2823da331f"
      },
      "source": [
        "model.save('acc_97')"
      ],
      "execution_count": null,
      "outputs": [
        {
          "output_type": "stream",
          "name": "stdout",
          "text": [
            "INFO:tensorflow:Assets written to: acc_97/assets\n"
          ]
        }
      ]
    },
    {
      "cell_type": "code",
      "metadata": {
        "colab": {
          "base_uri": "https://localhost:8080/"
        },
        "id": "mP1pLLFG_W2i",
        "outputId": "4939ef55-03be-4a1d-915d-724534a6513a"
      },
      "source": [
        "! zip -r model.zip acc_97/"
      ],
      "execution_count": null,
      "outputs": [
        {
          "output_type": "stream",
          "name": "stdout",
          "text": [
            "updating: acc_97/ (stored 0%)\n",
            "updating: acc_97/saved_model.pb (deflated 90%)\n",
            "updating: acc_97/assets/ (stored 0%)\n",
            "updating: acc_97/keras_metadata.pb (deflated 90%)\n",
            "updating: acc_97/variables/ (stored 0%)\n",
            "updating: acc_97/variables/variables.index (deflated 65%)\n",
            "updating: acc_97/variables/variables.data-00000-of-00001 (deflated 27%)\n"
          ]
        }
      ]
    }
  ]
}