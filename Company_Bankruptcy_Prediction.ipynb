{
  "nbformat": 4,
  "nbformat_minor": 0,
  "metadata": {
    "colab": {
      "name": "Company Bankruptcy Prediction",
      "provenance": [],
      "collapsed_sections": [
        "1Y3W5qXWABYT",
        "2ufwrliP-uJK",
        "wOSH7YCE-7Qe",
        "JTRYvzAzC8yN"
      ]
    },
    "kernelspec": {
      "display_name": "Python 3",
      "name": "python3"
    },
    "language_info": {
      "name": "python"
    }
  },
  "cells": [
    {
      "cell_type": "markdown",
      "metadata": {
        "id": "3Ve8CgpE1BAA"
      },
      "source": [
        "# Introduction\n",
        "\n"
      ]
    },
    {
      "cell_type": "markdown",
      "metadata": {
        "id": "1Y3W5qXWABYT"
      },
      "source": [
        "# Dataset and Libraries setup"
      ]
    },
    {
      "cell_type": "markdown",
      "metadata": {
        "id": "2ufwrliP-uJK"
      },
      "source": [
        "##Libraries and Dataset setup\n",
        "\n",
        "Download the dataset and the libraries needed.\n",
        "\n",
        "**Libraries**\n",
        "- pandas\n",
        "- numpy\n",
        "- kaggle\n",
        "- plotly"
      ]
    },
    {
      "cell_type": "code",
      "metadata": {
        "id": "y1Mh9Ol_I88j",
        "colab": {
          "base_uri": "https://localhost:8080/"
        },
        "outputId": "e76048eb-e408-410d-9413-e42644670f24"
      },
      "source": [
        "### Download files\n",
        "! apt-get update > /dev/null\n",
        "! apt-get upgrade > /dev/null\n",
        "! apt-get install unzip > /dev/nulll\n",
        "\n",
        "# Python libs\n",
        "! pip install -q kaggle > /dev/null\n",
        "! pip install plotly==4.14.3 > /dev/null\n",
        "! pip install -U kaleido > /dev/null"
      ],
      "execution_count": 1,
      "outputs": [
        {
          "output_type": "stream",
          "name": "stdout",
          "text": [
            "Extracting templates from packages: 100%\n"
          ]
        }
      ]
    },
    {
      "cell_type": "markdown",
      "metadata": {
        "id": "k0tklqOA8XhC"
      },
      "source": [
        "Import plot and other useful libraries"
      ]
    },
    {
      "cell_type": "code",
      "metadata": {
        "id": "a86cMyQNGKAC"
      },
      "source": [
        "### Import section\n",
        "\n",
        "# Plot\n",
        "import pandas as pd\n",
        "import matplotlib.pyplot as plt\n",
        "import seaborn as sns\n",
        "import numpy as np\n",
        "import plotly.graph_objects as go\n",
        "\n",
        "# Others\n",
        "import csv\n",
        "from io import StringIO\n",
        "from datetime import datetime"
      ],
      "execution_count": 2,
      "outputs": []
    },
    {
      "cell_type": "markdown",
      "metadata": {
        "id": "wOSH7YCE-7Qe"
      },
      "source": [
        "##Import dataset\n",
        "There are two ways to download the dataset, one from kaggle using kaggle api the other one from github (the dataset may be out of date)"
      ]
    },
    {
      "cell_type": "code",
      "metadata": {
        "id": "87mmzkepfj6f",
        "colab": {
          "base_uri": "https://localhost:8080/"
        },
        "outputId": "c9f2725e-cf96-49f9-c390-26359bff6b41"
      },
      "source": [
        "### Delete old folders and create new ones\n",
        "! rm -r /content/data > /dev/null\n",
        "! mkdir /content/data/ > /dev/null\n",
        "! rm -r ~/.kaggle > /dev/null\n",
        "! mkdir ~/.kaggle > /dev/null"
      ],
      "execution_count": 3,
      "outputs": [
        {
          "output_type": "stream",
          "name": "stdout",
          "text": [
            "rm: cannot remove '/content/data': No such file or directory\n",
            "rm: cannot remove '/root/.kaggle': No such file or directory\n"
          ]
        }
      ]
    },
    {
      "cell_type": "markdown",
      "metadata": {
        "id": "7vkJnrG5fqat"
      },
      "source": [
        "### Kaggle\n",
        "\n",
        "Connect to kaggle, download datataset and setup the files"
      ]
    },
    {
      "cell_type": "code",
      "metadata": {
        "id": "TknXpMfPcCvM",
        "colab": {
          "base_uri": "https://localhost:8080/"
        },
        "outputId": "b6e6b5b0-49e3-45b2-8c05-5eaab56a1405"
      },
      "source": [
        "### Kaggle download setup \n",
        "\n",
        "# Insert here the link to the token json file\n",
        "! wget --no-check-certificate 'https://docs.google.com/uc?export=download&id=1-4sfcaQg3DdP6ZoRnm0uFvM5VlMhPDSM' -P /content -O kaggle.json > /dev/null\n",
        "\n",
        "# Copy token in the right folder\n",
        "! cp kaggle.json ~/.kaggle/ > /dev/null\n",
        "! chmod 600 ~/.kaggle/kaggle.json > /dev/null\n",
        "\n",
        "# Download dataset\n",
        "! kaggle datasets download -d fedesoriano/company-bankruptcy-prediction -p /content/data > /dev/null\n",
        "\n",
        "# Unzip and remove the zip\n",
        "! unzip /content/data/company-bankruptcy-prediction.zip -d /content/data > /dev/null\n",
        "! rm /content/data/company-bankruptcy-prediction.zip > /dev/null"
      ],
      "execution_count": 4,
      "outputs": [
        {
          "output_type": "stream",
          "name": "stdout",
          "text": [
            "--2021-09-06 11:00:33--  https://docs.google.com/uc?export=download&id=1-4sfcaQg3DdP6ZoRnm0uFvM5VlMhPDSM\n",
            "Resolving docs.google.com (docs.google.com)... 172.217.2.110, 2607:f8b0:4004:80a::200e\n",
            "Connecting to docs.google.com (docs.google.com)|172.217.2.110|:443... connected.\n",
            "HTTP request sent, awaiting response... 302 Moved Temporarily\n",
            "Location: https://doc-04-5s-docs.googleusercontent.com/docs/securesc/ha0ro937gcuc7l7deffksulhg5h7mbp1/ina3ep2fmid4skm2usaqtgt89snomjbq/1630926000000/08916338998030749634/*/1-4sfcaQg3DdP6ZoRnm0uFvM5VlMhPDSM?e=download [following]\n",
            "Warning: wildcards not supported in HTTP.\n",
            "--2021-09-06 11:00:33--  https://doc-04-5s-docs.googleusercontent.com/docs/securesc/ha0ro937gcuc7l7deffksulhg5h7mbp1/ina3ep2fmid4skm2usaqtgt89snomjbq/1630926000000/08916338998030749634/*/1-4sfcaQg3DdP6ZoRnm0uFvM5VlMhPDSM?e=download\n",
            "Resolving doc-04-5s-docs.googleusercontent.com (doc-04-5s-docs.googleusercontent.com)... 172.217.9.193, 2607:f8b0:4004:806::2001\n",
            "Connecting to doc-04-5s-docs.googleusercontent.com (doc-04-5s-docs.googleusercontent.com)|172.217.9.193|:443... connected.\n",
            "HTTP request sent, awaiting response... 200 OK\n",
            "Length: 66 [application/json]\n",
            "Saving to: ‘kaggle.json’\n",
            "\n",
            "on                  100%[===================>]      66  --.-KB/s    in 0s      \n",
            "\n",
            "2021-09-06 11:00:34 (2.57 MB/s) - ‘kaggle.json’ saved [66/66]\n",
            "\n",
            "100% 4.63M/4.63M [00:00<00:00, 44.4MB/s]\n"
          ]
        }
      ]
    },
    {
      "cell_type": "markdown",
      "metadata": {
        "id": "DKQG2puuftem"
      },
      "source": [
        "### Github\n",
        "Connect to Github, download datataset and setup the files"
      ]
    },
    {
      "cell_type": "code",
      "metadata": {
        "id": "a7dIhEHgCp5R"
      },
      "source": [
        "# ### Download dataset from github repository\n",
        "\n",
        "# # Donwload all the files\n",
        "# ! wget -P /content/data https://raw.githubusercontent.com/thisispivi/Deep-Learning-Company-Bankruptcy-Prediction/main/data/data.zip\n",
        "\n",
        "# # Unzip and remove the zip\n",
        "# ! unzip /content/data/data.zip -d /content/data\n",
        "# ! rm /content/data/data.zip"
      ],
      "execution_count": 5,
      "outputs": []
    },
    {
      "cell_type": "markdown",
      "metadata": {
        "id": "7774NYzghPEm"
      },
      "source": [
        "## Read Files\n",
        "In this section we import the csv files."
      ]
    },
    {
      "cell_type": "code",
      "metadata": {
        "id": "HANip0NiQt2C"
      },
      "source": [
        "df = pd.read_csv('data/data.csv')\n",
        "df.isnull().sum()\n",
        "df.duplicated().sum()\n",
        "rows, cols = df.shape"
      ],
      "execution_count": 6,
      "outputs": []
    },
    {
      "cell_type": "markdown",
      "metadata": {
        "id": "_4zXPeyvVUGZ"
      },
      "source": [
        "Split the dataset"
      ]
    },
    {
      "cell_type": "code",
      "metadata": {
        "id": "vg3dFnarVVez"
      },
      "source": [
        "labels = df['Bankrupt?']\n",
        "data = df.drop(['Bankrupt?'], axis=1)"
      ],
      "execution_count": 7,
      "outputs": []
    },
    {
      "cell_type": "markdown",
      "metadata": {
        "id": "BaafBVnEiBU9"
      },
      "source": [
        "# Deep Learning"
      ]
    },
    {
      "cell_type": "code",
      "metadata": {
        "id": "bL5L7D2zs09v"
      },
      "source": [
        "# from keras import models, layers, optimizers, losses, metrics, regularizers\n",
        "from tensorflow import keras\n",
        "from sklearn.model_selection import train_test_split\n",
        "from sklearn.metrics import classification_report,confusion_matrix\n",
        "from sklearn.preprocessing import StandardScaler"
      ],
      "execution_count": 8,
      "outputs": []
    },
    {
      "cell_type": "markdown",
      "metadata": {
        "id": "-ByxXiGECxOP"
      },
      "source": [
        "## Analyze dataset\n",
        "\n",
        "In this section we will analyze the dataset shape, balance and if it has null values in its rows"
      ]
    },
    {
      "cell_type": "markdown",
      "metadata": {
        "id": "DXBfjRRNUn8F"
      },
      "source": [
        "### Shape\n",
        "\n",
        "Check the shape of the dataset"
      ]
    },
    {
      "cell_type": "code",
      "metadata": {
        "colab": {
          "base_uri": "https://localhost:8080/"
        },
        "id": "wNXUUbicUpkH",
        "outputId": "8346d45d-2aed-4fdd-817d-32bc428dfb95"
      },
      "source": [
        "print('Data shape:', data.shape)\n",
        "print('Labels shape:', labels.shape)"
      ],
      "execution_count": 9,
      "outputs": [
        {
          "output_type": "stream",
          "name": "stdout",
          "text": [
            "Data shape: (6819, 95)\n",
            "Labels shape: (6819,)\n"
          ]
        }
      ]
    },
    {
      "cell_type": "markdown",
      "metadata": {
        "id": "tl0rlZn7Czva"
      },
      "source": [
        "### Null values\n",
        "\n",
        "Check if there are null values"
      ]
    },
    {
      "cell_type": "code",
      "metadata": {
        "colab": {
          "base_uri": "https://localhost:8080/"
        },
        "id": "tq_W39eICzfe",
        "outputId": "c604a2b7-dc3c-4b61-c22b-74156a444696"
      },
      "source": [
        "df.isnull().sum(axis = 0)"
      ],
      "execution_count": 10,
      "outputs": [
        {
          "output_type": "execute_result",
          "data": {
            "text/plain": [
              "Bankrupt?                                                   0\n",
              " ROA(C) before interest and depreciation before interest    0\n",
              " ROA(A) before interest and % after tax                     0\n",
              " ROA(B) before interest and depreciation after tax          0\n",
              " Operating Gross Margin                                     0\n",
              "                                                           ..\n",
              " Liability to Equity                                        0\n",
              " Degree of Financial Leverage (DFL)                         0\n",
              " Interest Coverage Ratio (Interest expense to EBIT)         0\n",
              " Net Income Flag                                            0\n",
              " Equity to Liability                                        0\n",
              "Length: 96, dtype: int64"
            ]
          },
          "metadata": {},
          "execution_count": 10
        }
      ]
    },
    {
      "cell_type": "markdown",
      "metadata": {
        "id": "QBKSE6hTDjxF"
      },
      "source": [
        "There are no null values so we don't have to deal with them"
      ]
    },
    {
      "cell_type": "markdown",
      "metadata": {
        "id": "2-MA_ExoC-Cd"
      },
      "source": [
        "### Balance\n",
        "\n",
        "Check if the dataset is balanced"
      ]
    },
    {
      "cell_type": "code",
      "metadata": {
        "colab": {
          "base_uri": "https://localhost:8080/"
        },
        "id": "VtctIj3sEAX4",
        "outputId": "d2aa09ef-13ce-489e-f941-0eeda063a0b4"
      },
      "source": [
        "result = df['Bankrupt?'].value_counts()\n",
        "zero_percentage = round((result[0]*100)/(result[0]+result[1]),2)\n",
        "print(\"No. of 0: \"+ str(result[0]) + \"\\nNo. of 1: \" + str(result[1]) + \n",
        "      \"\\nPercentage of 0: \"+ str(zero_percentage)+ \" %\\nPercentage of 1: \"+\n",
        "      str(round((100-zero_percentage),2))+\" %\")"
      ],
      "execution_count": 11,
      "outputs": [
        {
          "output_type": "stream",
          "name": "stdout",
          "text": [
            "No. of 0: 6599\n",
            "No. of 1: 220\n",
            "Percentage of 0: 96.77 %\n",
            "Percentage of 1: 3.23 %\n"
          ]
        }
      ]
    },
    {
      "cell_type": "code",
      "metadata": {
        "colab": {
          "base_uri": "https://localhost:8080/",
          "height": 298
        },
        "id": "-lRuuDNoIgqG",
        "outputId": "2da73461-b01c-4293-b3bd-ed7bc72e3557"
      },
      "source": [
        "plt.bar(x=[\"No Bankrupt\", \"Bankrupt\"], height=[result[0], result[1]], color=[\"royalblue\", \"indianred\"])\n",
        "plt.ylabel(\"Count\")\n",
        "plt.title(\"Number of No Bankrupt rows vs number of Bankrupt rows \")"
      ],
      "execution_count": 12,
      "outputs": [
        {
          "output_type": "execute_result",
          "data": {
            "text/plain": [
              "Text(0.5, 1.0, 'Number of No Bankrupt rows vs number of Bankrupt rows ')"
            ]
          },
          "metadata": {},
          "execution_count": 12
        },
        {
          "output_type": "display_data",
          "data": {
            "image/png": "[encoded data removed]",
            "text/plain": [
              "<Figure size 432x288 with 1 Axes>"
            ]
          },
          "metadata": {
            "needs_background": "light"
          }
        }
      ]
    },
    {
      "cell_type": "code",
      "metadata": {
        "colab": {
          "base_uri": "https://localhost:8080/",
          "height": 281
        },
        "id": "baJNHjoZLQC9",
        "outputId": "1ea79844-163c-46e6-990b-47af5c3e54bb"
      },
      "source": [
        "plt.pie([result[0], result[1]], labels=[\"No Bankrupt\", \"Bankrupt\"], explode=(0.1, 0), autopct='%1.2f%%', colors=[\"thistle\", \"paleturquoise\"], radius=1.2)\n",
        "plt.title(\"Percentage of No Bankrupt vs percentage of Bankrupt\")"
      ],
      "execution_count": 13,
      "outputs": [
        {
          "output_type": "execute_result",
          "data": {
            "text/plain": [
              "Text(0.5, 1.0, 'Percentage of No Bankrupt vs percentage of Bankrupt')"
            ]
          },
          "metadata": {},
          "execution_count": 13
        },
        {
          "output_type": "display_data",
          "data": {
            "image/png": "[encoded data removed]",
            "text/plain": [
              "<Figure size 432x288 with 1 Axes>"
            ]
          },
          "metadata": {}
        }
      ]
    },
    {
      "cell_type": "markdown",
      "metadata": {
        "id": "f8Tnp6CKETkF"
      },
      "source": [
        "The dataset is not balanced. If we don't fix this when we will run the model we will have a perfect accuracy, because the network will concentrate only on the major class."
      ]
    },
    {
      "cell_type": "markdown",
      "metadata": {
        "id": "4N9IuKrPv6dc"
      },
      "source": [
        "## Normalize values\n",
        "\n",
        "In this section we want to normalize the values, so we take the colums with values over 1 and with values less than 0 and we normalize them using *StandardScaler()*. This scaler uses the mean and the standard deviation to set all values to between 0 and 1."
      ]
    },
    {
      "cell_type": "code",
      "metadata": {
        "id": "yzS8wHoovV01"
      },
      "source": [
        "### Normalize values\n",
        "\n",
        "# Take the columns with values over 1\n",
        "cols_for_scale = df.max()[df.max()>1]\n",
        "# Take the columns with values less than 0\n",
        "df.min()[df.min()<0] # It is none there aren't negative values\n",
        "# Normalize values\n",
        "scale = StandardScaler()\n",
        "scaled = scale.fit_transform(df[cols_for_scale.keys()])\n",
        "# Substitute the old values with the normalized ones\n",
        "i = 0\n",
        "for column in cols_for_scale.keys():\n",
        "    df[column] = scaled[:,i]\n",
        "    i += 1\n",
        "# Update labels and data\n",
        "labels = df['Bankrupt?']\n",
        "data = df.drop(['Bankrupt?'], axis=1)"
      ],
      "execution_count": 14,
      "outputs": []
    },
    {
      "cell_type": "markdown",
      "metadata": {
        "id": "JTRYvzAzC8yN"
      },
      "source": [
        "## Balance Dataset\n",
        "To balance the dataset we use SMOTE (Synthetic Minority Oversampling Technique).\n",
        "\n",
        "[Link](https://towardsdatascience.com/applying-smote-for-class-imbalance-with-just-a-few-lines-of-code-python-cdf603e58688)"
      ]
    },
    {
      "cell_type": "markdown",
      "metadata": {
        "id": "m-8SD1X0Ufwp"
      },
      "source": [
        "Import SMOTE and resample the data"
      ]
    },
    {
      "cell_type": "code",
      "metadata": {
        "colab": {
          "base_uri": "https://localhost:8080/"
        },
        "id": "P0iLTb2rPEnX",
        "outputId": "1639bf59-83ec-406f-a5ad-315c7078eb1d"
      },
      "source": [
        "from imblearn.over_sampling import SMOTE\n",
        "sm = SMOTE()\n",
        "data_new, labels_new = sm.fit_resample(data, labels)"
      ],
      "execution_count": 15,
      "outputs": [
        {
          "output_type": "stream",
          "name": "stderr",
          "text": [
            "/usr/local/lib/python3.7/dist-packages/sklearn/externals/six.py:31: FutureWarning: The module is deprecated in version 0.21 and will be removed in version 0.23 since we've dropped support for Python 2.7. Please rely on the official version of six (https://pypi.org/project/six/).\n",
            "  \"(https://pypi.org/project/six/).\", FutureWarning)\n",
            "/usr/local/lib/python3.7/dist-packages/sklearn/utils/deprecation.py:144: FutureWarning: The sklearn.neighbors.base module is  deprecated in version 0.22 and will be removed in version 0.24. The corresponding classes / functions should instead be imported from sklearn.neighbors. Anything that cannot be imported from sklearn.neighbors is now part of the private API.\n",
            "  warnings.warn(message, FutureWarning)\n",
            "/usr/local/lib/python3.7/dist-packages/sklearn/utils/deprecation.py:87: FutureWarning: Function safe_indexing is deprecated; safe_indexing is deprecated in version 0.22 and will be removed in version 0.24.\n",
            "  warnings.warn(msg, category=FutureWarning)\n"
          ]
        }
      ]
    },
    {
      "cell_type": "markdown",
      "metadata": {
        "id": "U83pBYB3UixY"
      },
      "source": [
        "Check the shapes"
      ]
    },
    {
      "cell_type": "code",
      "metadata": {
        "colab": {
          "base_uri": "https://localhost:8080/"
        },
        "id": "2RtSsx2ARwlt",
        "outputId": "5f6e2229-83ba-449e-f041-c20bb4975bc2"
      },
      "source": [
        "print('Data shape:', data_new.shape)\n",
        "print('Labels shape:', labels_new.shape)"
      ],
      "execution_count": 16,
      "outputs": [
        {
          "output_type": "stream",
          "name": "stdout",
          "text": [
            "Data shape: (13198, 95)\n",
            "Labels shape: (13198,)\n"
          ]
        }
      ]
    },
    {
      "cell_type": "code",
      "metadata": {
        "colab": {
          "base_uri": "https://localhost:8080/"
        },
        "id": "IVkhRUsSSfSa",
        "outputId": "e309ac8a-44ac-45ac-84f0-f8597731dd61"
      },
      "source": [
        "new_df = pd.DataFrame(labels_new)\n",
        "result = new_df[0].value_counts()\n",
        "zero_percentage = round((result[0]*100)/(result[0]+result[1]),2)\n",
        "print(\"No. of 0: \"+ str(result[0]) + \"\\nNo. of 1: \" + str(result[1]) + \n",
        "      \"\\nPercentage of 0: \"+ str(zero_percentage)+ \" %\\nPercentage of 1: \"+\n",
        "      str(round((100-zero_percentage),2))+\" %\")"
      ],
      "execution_count": 17,
      "outputs": [
        {
          "output_type": "stream",
          "name": "stdout",
          "text": [
            "No. of 0: 6599\n",
            "No. of 1: 6599\n",
            "Percentage of 0: 50.0 %\n",
            "Percentage of 1: 50.0 %\n"
          ]
        }
      ]
    },
    {
      "cell_type": "code",
      "metadata": {
        "colab": {
          "base_uri": "https://localhost:8080/",
          "height": 0
        },
        "id": "SFvR-x-LSfSb",
        "outputId": "bac1a059-41b6-4bb7-c128-801f4b8c330b"
      },
      "source": [
        "plt.bar(x=[\"No Bankrupt\", \"Bankrupt\"], height=[result[0], result[1]], color=[\"royalblue\", \"indianred\"])\n",
        "plt.ylabel(\"Count\")\n",
        "plt.title(\"Number of No Bankrupt rows vs number of Bankrupt rows \")"
      ],
      "execution_count": 18,
      "outputs": [
        {
          "output_type": "execute_result",
          "data": {
            "text/plain": [
              "Text(0.5, 1.0, 'Number of No Bankrupt rows vs number of Bankrupt rows ')"
            ]
          },
          "metadata": {},
          "execution_count": 18
        },
        {
          "output_type": "display_data",
          "data": {
            "image/png": "[encoded data removed]",
            "text/plain": [
              "<Figure size 432x288 with 1 Axes>"
            ]
          },
          "metadata": {
            "needs_background": "light"
          }
        }
      ]
    },
    {
      "cell_type": "code",
      "metadata": {
        "colab": {
          "base_uri": "https://localhost:8080/",
          "height": 0
        },
        "id": "IOeeoRGISfSb",
        "outputId": "c00409fe-c388-43ef-f04f-81deec40ea26"
      },
      "source": [
        "plt.pie([result[0], result[1]], labels=[\"No Bankrupt\", \"Bankrupt\"], explode=(0.1, 0), autopct='%1.2f%%', colors=[\"thistle\", \"paleturquoise\"], radius=1)\n",
        "plt.title(\"Percentage of No Bankrupt vs percentage of Bankrupt\")"
      ],
      "execution_count": 19,
      "outputs": [
        {
          "output_type": "execute_result",
          "data": {
            "text/plain": [
              "Text(0.5, 1.0, 'Percentage of No Bankrupt vs percentage of Bankrupt')"
            ]
          },
          "metadata": {},
          "execution_count": 19
        },
        {
          "output_type": "display_data",
          "data": {
            "image/png": "[encoded data removed]",
            "text/plain": [
              "<Figure size 432x288 with 1 Axes>"
            ]
          },
          "metadata": {}
        }
      ]
    },
    {
      "cell_type": "markdown",
      "metadata": {
        "id": "TQSN7MiSSfSb"
      },
      "source": [
        "As we can see the dataset is perfectly balanced."
      ]
    },
    {
      "cell_type": "markdown",
      "metadata": {
        "id": "HwlFckFIwPf0"
      },
      "source": [
        "## Split training and test set"
      ]
    },
    {
      "cell_type": "markdown",
      "metadata": {
        "id": "0F0NMf7aBx-k"
      },
      "source": [
        "Split the data in:\n",
        "* x_train: The training set data\n",
        "* y_train: The training set label\n",
        "* x_test: The validation set data\n",
        "* y_test: The validation set label"
      ]
    },
    {
      "cell_type": "code",
      "metadata": {
        "id": "Y1KcVasVwSs5"
      },
      "source": [
        "x_train, x_test, y_train, y_test = train_test_split(data_new, labels_new, test_size=0.3)"
      ],
      "execution_count": 20,
      "outputs": []
    },
    {
      "cell_type": "markdown",
      "metadata": {
        "id": "HTahAzZJCtcs"
      },
      "source": [
        "Print all the sizes"
      ]
    },
    {
      "cell_type": "code",
      "metadata": {
        "colab": {
          "base_uri": "https://localhost:8080/"
        },
        "id": "GlMm2IwKwugb",
        "outputId": "3be65f83-ea93-42de-8907-b48b64a0c98e"
      },
      "source": [
        "print('Train data shape:', x_train.shape)\n",
        "print('Train labels shape:', y_train.shape)\n",
        "print('Test data shape:', x_test.shape)\n",
        "print('Test labels shape:', y_test.shape)"
      ],
      "execution_count": 21,
      "outputs": [
        {
          "output_type": "stream",
          "name": "stdout",
          "text": [
            "Train data shape: (9238, 95)\n",
            "Train labels shape: (9238,)\n",
            "Test data shape: (3960, 95)\n",
            "Test labels shape: (3960,)\n"
          ]
        }
      ]
    },
    {
      "cell_type": "markdown",
      "metadata": {
        "id": "60HT1pwCxI0F"
      },
      "source": [
        "## Create the model"
      ]
    },
    {
      "cell_type": "code",
      "metadata": {
        "id": "orkv-WlKxLBp"
      },
      "source": [
        "model = keras.models.Sequential()\n",
        "model.add(keras.layers.Dense(128, activation='relu', input_shape=(95,)))\n",
        "model.add(keras.layers.Dense(64,kernel_regularizer=keras.regularizers.l2(0.001), activation='relu'))\n",
        "model.add(keras.layers.Dropout(0.5))\n",
        "model.add(keras.layers.Dense(32,kernel_regularizer=keras.regularizers.l2(0.001), activation='relu'))\n",
        "model.add(keras.layers.Dropout(0.5))\n",
        "model.add(keras.layers.Dense(16,kernel_regularizer=keras.regularizers.l2(0.001), activation='relu'))\n",
        "model.add(keras.layers.Dense(1, activation='sigmoid'))\n",
        "optimizer = keras.optimizers.RMSprop(learning_rate=0.001)\n",
        "model.compile(optimizer=optimizer, loss='binary_crossentropy', metrics=['accuracy'])"
      ],
      "execution_count": 53,
      "outputs": []
    },
    {
      "cell_type": "code",
      "metadata": {
        "colab": {
          "base_uri": "https://localhost:8080/"
        },
        "id": "D9EaKz5dzOeL",
        "outputId": "3025b01f-12c2-4c28-f77b-ab6953a1ae99"
      },
      "source": [
        "history = model.fit(x_train, y_train, epochs=200, validation_data=(x_test,y_test))"
      ],
      "execution_count": 55,
      "outputs": [
        {
          "output_type": "stream",
          "name": "stdout",
          "text": [
            "Epoch 1/200\n",
            "289/289 [==============================] - 1s 4ms/step - loss: 0.3409 - accuracy: 0.8905 - val_loss: 0.3751 - val_accuracy: 0.8674\n",
            "Epoch 2/200\n",
            "289/289 [==============================] - 1s 4ms/step - loss: 0.3081 - accuracy: 0.8974 - val_loss: 0.2633 - val_accuracy: 0.9136\n",
            "Epoch 3/200\n",
            "289/289 [==============================] - 1s 4ms/step - loss: 0.3013 - accuracy: 0.9031 - val_loss: 0.2541 - val_accuracy: 0.9189\n",
            "Epoch 4/200\n",
            "289/289 [==============================] - 1s 4ms/step - loss: 0.2853 - accuracy: 0.9066 - val_loss: 0.2588 - val_accuracy: 0.9159\n",
            "Epoch 5/200\n",
            "289/289 [==============================] - 1s 3ms/step - loss: 0.2750 - accuracy: 0.9117 - val_loss: 0.2543 - val_accuracy: 0.9101\n",
            "Epoch 6/200\n",
            "289/289 [==============================] - 1s 4ms/step - loss: 0.2662 - accuracy: 0.9138 - val_loss: 0.3254 - val_accuracy: 0.8924\n",
            "Epoch 7/200\n",
            "289/289 [==============================] - 1s 4ms/step - loss: 0.2662 - accuracy: 0.9148 - val_loss: 0.2323 - val_accuracy: 0.9260\n",
            "Epoch 8/200\n",
            "289/289 [==============================] - 1s 4ms/step - loss: 0.2534 - accuracy: 0.9178 - val_loss: 0.2207 - val_accuracy: 0.9306\n",
            "Epoch 9/200\n",
            "289/289 [==============================] - 1s 3ms/step - loss: 0.2484 - accuracy: 0.9216 - val_loss: 0.2236 - val_accuracy: 0.9293\n",
            "Epoch 10/200\n",
            "289/289 [==============================] - 1s 3ms/step - loss: 0.2461 - accuracy: 0.9229 - val_loss: 0.2099 - val_accuracy: 0.9348\n",
            "Epoch 11/200\n",
            "289/289 [==============================] - 1s 3ms/step - loss: 0.2320 - accuracy: 0.9269 - val_loss: 0.2403 - val_accuracy: 0.9278\n",
            "Epoch 12/200\n",
            "289/289 [==============================] - 1s 3ms/step - loss: 0.2390 - accuracy: 0.9290 - val_loss: 0.2625 - val_accuracy: 0.9068\n",
            "Epoch 13/200\n",
            "289/289 [==============================] - 1s 3ms/step - loss: 0.2325 - accuracy: 0.9278 - val_loss: 0.2051 - val_accuracy: 0.9394\n",
            "Epoch 14/200\n",
            "289/289 [==============================] - 1s 4ms/step - loss: 0.2226 - accuracy: 0.9314 - val_loss: 0.2165 - val_accuracy: 0.9338\n",
            "Epoch 15/200\n",
            "289/289 [==============================] - 1s 3ms/step - loss: 0.2194 - accuracy: 0.9329 - val_loss: 0.2299 - val_accuracy: 0.9237\n",
            "Epoch 16/200\n",
            "289/289 [==============================] - 1s 3ms/step - loss: 0.2251 - accuracy: 0.9305 - val_loss: 0.2069 - val_accuracy: 0.9341\n",
            "Epoch 17/200\n",
            "289/289 [==============================] - 1s 3ms/step - loss: 0.2203 - accuracy: 0.9353 - val_loss: 0.2846 - val_accuracy: 0.9035\n",
            "Epoch 18/200\n",
            "289/289 [==============================] - 1s 4ms/step - loss: 0.2211 - accuracy: 0.9333 - val_loss: 0.2102 - val_accuracy: 0.9298\n",
            "Epoch 19/200\n",
            "289/289 [==============================] - 1s 3ms/step - loss: 0.2089 - accuracy: 0.9370 - val_loss: 0.2060 - val_accuracy: 0.9364\n",
            "Epoch 20/200\n",
            "289/289 [==============================] - 1s 3ms/step - loss: 0.2103 - accuracy: 0.9393 - val_loss: 0.1787 - val_accuracy: 0.9503\n",
            "Epoch 21/200\n",
            "289/289 [==============================] - 1s 3ms/step - loss: 0.2026 - accuracy: 0.9404 - val_loss: 0.2038 - val_accuracy: 0.9427\n",
            "Epoch 22/200\n",
            "289/289 [==============================] - 1s 3ms/step - loss: 0.2013 - accuracy: 0.9402 - val_loss: 0.1815 - val_accuracy: 0.9503\n",
            "Epoch 23/200\n",
            "289/289 [==============================] - 1s 4ms/step - loss: 0.2005 - accuracy: 0.9393 - val_loss: 0.1794 - val_accuracy: 0.9525\n",
            "Epoch 24/200\n",
            "289/289 [==============================] - 1s 3ms/step - loss: 0.2010 - accuracy: 0.9412 - val_loss: 0.2662 - val_accuracy: 0.9154\n",
            "Epoch 25/200\n",
            "289/289 [==============================] - 1s 4ms/step - loss: 0.1937 - accuracy: 0.9441 - val_loss: 0.1773 - val_accuracy: 0.9515\n",
            "Epoch 26/200\n",
            "289/289 [==============================] - 1s 3ms/step - loss: 0.1938 - accuracy: 0.9433 - val_loss: 0.2296 - val_accuracy: 0.9311\n",
            "Epoch 27/200\n",
            "289/289 [==============================] - 1s 3ms/step - loss: 0.1922 - accuracy: 0.9430 - val_loss: 0.1960 - val_accuracy: 0.9384\n",
            "Epoch 28/200\n",
            "289/289 [==============================] - 1s 4ms/step - loss: 0.1905 - accuracy: 0.9479 - val_loss: 0.1860 - val_accuracy: 0.9487\n",
            "Epoch 29/200\n",
            "289/289 [==============================] - 1s 4ms/step - loss: 0.1923 - accuracy: 0.9467 - val_loss: 0.1678 - val_accuracy: 0.9573\n",
            "Epoch 30/200\n",
            "289/289 [==============================] - 1s 4ms/step - loss: 0.1872 - accuracy: 0.9466 - val_loss: 0.1760 - val_accuracy: 0.9518\n",
            "Epoch 31/200\n",
            "289/289 [==============================] - 1s 3ms/step - loss: 0.1856 - accuracy: 0.9479 - val_loss: 0.1694 - val_accuracy: 0.9553\n",
            "Epoch 32/200\n",
            "289/289 [==============================] - 1s 3ms/step - loss: 0.1775 - accuracy: 0.9514 - val_loss: 0.1781 - val_accuracy: 0.9513\n",
            "Epoch 33/200\n",
            "289/289 [==============================] - 1s 4ms/step - loss: 0.1794 - accuracy: 0.9472 - val_loss: 0.1880 - val_accuracy: 0.9472\n",
            "Epoch 34/200\n",
            "289/289 [==============================] - 1s 3ms/step - loss: 0.1776 - accuracy: 0.9478 - val_loss: 0.1909 - val_accuracy: 0.9520\n",
            "Epoch 35/200\n",
            "289/289 [==============================] - 1s 3ms/step - loss: 0.1827 - accuracy: 0.9488 - val_loss: 0.2106 - val_accuracy: 0.9293\n",
            "Epoch 36/200\n",
            "289/289 [==============================] - 1s 4ms/step - loss: 0.1699 - accuracy: 0.9507 - val_loss: 0.2419 - val_accuracy: 0.9293\n",
            "Epoch 37/200\n",
            "289/289 [==============================] - 1s 3ms/step - loss: 0.1806 - accuracy: 0.9528 - val_loss: 0.1537 - val_accuracy: 0.9586\n",
            "Epoch 38/200\n",
            "289/289 [==============================] - 1s 3ms/step - loss: 0.1741 - accuracy: 0.9515 - val_loss: 0.1743 - val_accuracy: 0.9497\n",
            "Epoch 39/200\n",
            "289/289 [==============================] - 1s 3ms/step - loss: 0.1759 - accuracy: 0.9531 - val_loss: 0.1983 - val_accuracy: 0.9475\n",
            "Epoch 40/200\n",
            "289/289 [==============================] - 1s 4ms/step - loss: 0.1668 - accuracy: 0.9538 - val_loss: 0.1745 - val_accuracy: 0.9480\n",
            "Epoch 41/200\n",
            "289/289 [==============================] - 1s 4ms/step - loss: 0.1721 - accuracy: 0.9541 - val_loss: 0.1738 - val_accuracy: 0.9558\n",
            "Epoch 42/200\n",
            "289/289 [==============================] - 1s 3ms/step - loss: 0.1703 - accuracy: 0.9529 - val_loss: 0.1794 - val_accuracy: 0.9477\n",
            "Epoch 43/200\n",
            "289/289 [==============================] - 1s 4ms/step - loss: 0.1733 - accuracy: 0.9529 - val_loss: 0.1814 - val_accuracy: 0.9538\n",
            "Epoch 44/200\n",
            "289/289 [==============================] - 1s 3ms/step - loss: 0.1709 - accuracy: 0.9553 - val_loss: 0.1922 - val_accuracy: 0.9417\n",
            "Epoch 45/200\n",
            "289/289 [==============================] - 1s 3ms/step - loss: 0.1705 - accuracy: 0.9535 - val_loss: 0.1773 - val_accuracy: 0.9551\n",
            "Epoch 46/200\n",
            "289/289 [==============================] - 1s 3ms/step - loss: 0.1667 - accuracy: 0.9566 - val_loss: 0.1587 - val_accuracy: 0.9586\n",
            "Epoch 47/200\n",
            "289/289 [==============================] - 1s 4ms/step - loss: 0.1622 - accuracy: 0.9554 - val_loss: 0.1599 - val_accuracy: 0.9578\n",
            "Epoch 48/200\n",
            "289/289 [==============================] - 1s 4ms/step - loss: 0.1674 - accuracy: 0.9553 - val_loss: 0.1606 - val_accuracy: 0.9604\n",
            "Epoch 49/200\n",
            "289/289 [==============================] - 1s 3ms/step - loss: 0.1601 - accuracy: 0.9575 - val_loss: 0.1469 - val_accuracy: 0.9636\n",
            "Epoch 50/200\n",
            "289/289 [==============================] - 1s 4ms/step - loss: 0.1593 - accuracy: 0.9569 - val_loss: 0.2632 - val_accuracy: 0.9106\n",
            "Epoch 51/200\n",
            "289/289 [==============================] - 1s 4ms/step - loss: 0.1591 - accuracy: 0.9561 - val_loss: 0.1755 - val_accuracy: 0.9513\n",
            "Epoch 52/200\n",
            "289/289 [==============================] - 1s 4ms/step - loss: 0.1654 - accuracy: 0.9562 - val_loss: 0.1617 - val_accuracy: 0.9583\n",
            "Epoch 53/200\n",
            "289/289 [==============================] - 1s 4ms/step - loss: 0.1564 - accuracy: 0.9585 - val_loss: 0.1509 - val_accuracy: 0.9629\n",
            "Epoch 54/200\n",
            "289/289 [==============================] - 1s 3ms/step - loss: 0.1568 - accuracy: 0.9586 - val_loss: 0.1606 - val_accuracy: 0.9624\n",
            "Epoch 55/200\n",
            "289/289 [==============================] - 1s 3ms/step - loss: 0.1553 - accuracy: 0.9594 - val_loss: 0.1683 - val_accuracy: 0.9548\n",
            "Epoch 56/200\n",
            "289/289 [==============================] - 1s 3ms/step - loss: 0.1545 - accuracy: 0.9585 - val_loss: 0.1880 - val_accuracy: 0.9513\n",
            "Epoch 57/200\n",
            "289/289 [==============================] - 1s 4ms/step - loss: 0.1547 - accuracy: 0.9569 - val_loss: 0.1641 - val_accuracy: 0.9563\n",
            "Epoch 58/200\n",
            "289/289 [==============================] - 1s 3ms/step - loss: 0.1519 - accuracy: 0.9599 - val_loss: 0.2282 - val_accuracy: 0.9192\n",
            "Epoch 59/200\n",
            "289/289 [==============================] - 1s 4ms/step - loss: 0.1508 - accuracy: 0.9595 - val_loss: 0.1618 - val_accuracy: 0.9578\n",
            "Epoch 60/200\n",
            "289/289 [==============================] - 1s 3ms/step - loss: 0.1553 - accuracy: 0.9585 - val_loss: 0.1673 - val_accuracy: 0.9530\n",
            "Epoch 61/200\n",
            "289/289 [==============================] - 1s 4ms/step - loss: 0.1504 - accuracy: 0.9621 - val_loss: 0.1495 - val_accuracy: 0.9631\n",
            "Epoch 62/200\n",
            "289/289 [==============================] - 1s 4ms/step - loss: 0.1494 - accuracy: 0.9598 - val_loss: 0.1510 - val_accuracy: 0.9563\n",
            "Epoch 63/200\n",
            "289/289 [==============================] - 1s 3ms/step - loss: 0.1530 - accuracy: 0.9601 - val_loss: 0.1924 - val_accuracy: 0.9442\n",
            "Epoch 64/200\n",
            "289/289 [==============================] - 1s 4ms/step - loss: 0.1496 - accuracy: 0.9609 - val_loss: 0.1443 - val_accuracy: 0.9641\n",
            "Epoch 65/200\n",
            "289/289 [==============================] - 1s 3ms/step - loss: 0.1510 - accuracy: 0.9621 - val_loss: 0.1423 - val_accuracy: 0.9649\n",
            "Epoch 66/200\n",
            "289/289 [==============================] - 1s 4ms/step - loss: 0.1489 - accuracy: 0.9628 - val_loss: 0.2051 - val_accuracy: 0.9444\n",
            "Epoch 67/200\n",
            "289/289 [==============================] - 1s 4ms/step - loss: 0.1524 - accuracy: 0.9616 - val_loss: 0.1502 - val_accuracy: 0.9644\n",
            "Epoch 68/200\n",
            "289/289 [==============================] - 1s 3ms/step - loss: 0.1502 - accuracy: 0.9624 - val_loss: 0.1606 - val_accuracy: 0.9601\n",
            "Epoch 69/200\n",
            "289/289 [==============================] - 1s 3ms/step - loss: 0.1479 - accuracy: 0.9624 - val_loss: 0.1684 - val_accuracy: 0.9591\n",
            "Epoch 70/200\n",
            "289/289 [==============================] - 1s 3ms/step - loss: 0.1450 - accuracy: 0.9636 - val_loss: 0.1744 - val_accuracy: 0.9558\n",
            "Epoch 71/200\n",
            "289/289 [==============================] - 1s 3ms/step - loss: 0.1455 - accuracy: 0.9608 - val_loss: 0.1569 - val_accuracy: 0.9616\n",
            "Epoch 72/200\n",
            "289/289 [==============================] - 1s 3ms/step - loss: 0.1476 - accuracy: 0.9629 - val_loss: 0.1491 - val_accuracy: 0.9644\n",
            "Epoch 73/200\n",
            "289/289 [==============================] - 1s 4ms/step - loss: 0.1445 - accuracy: 0.9628 - val_loss: 0.1456 - val_accuracy: 0.9631\n",
            "Epoch 74/200\n",
            "289/289 [==============================] - 1s 4ms/step - loss: 0.1398 - accuracy: 0.9649 - val_loss: 0.1569 - val_accuracy: 0.9576\n",
            "Epoch 75/200\n",
            "289/289 [==============================] - 1s 3ms/step - loss: 0.1396 - accuracy: 0.9644 - val_loss: 0.1443 - val_accuracy: 0.9621\n",
            "Epoch 76/200\n",
            "289/289 [==============================] - 1s 4ms/step - loss: 0.1433 - accuracy: 0.9655 - val_loss: 0.1358 - val_accuracy: 0.9677\n",
            "Epoch 77/200\n",
            "289/289 [==============================] - 1s 4ms/step - loss: 0.1437 - accuracy: 0.9630 - val_loss: 0.1514 - val_accuracy: 0.9639\n",
            "Epoch 78/200\n",
            "289/289 [==============================] - 1s 3ms/step - loss: 0.1367 - accuracy: 0.9653 - val_loss: 0.1534 - val_accuracy: 0.9558\n",
            "Epoch 79/200\n",
            "289/289 [==============================] - 1s 3ms/step - loss: 0.1399 - accuracy: 0.9647 - val_loss: 0.1373 - val_accuracy: 0.9649\n",
            "Epoch 80/200\n",
            "289/289 [==============================] - 1s 4ms/step - loss: 0.1444 - accuracy: 0.9627 - val_loss: 0.1417 - val_accuracy: 0.9598\n",
            "Epoch 81/200\n",
            "289/289 [==============================] - 1s 4ms/step - loss: 0.1353 - accuracy: 0.9657 - val_loss: 0.1399 - val_accuracy: 0.9652\n",
            "Epoch 82/200\n",
            "289/289 [==============================] - 1s 4ms/step - loss: 0.1453 - accuracy: 0.9648 - val_loss: 0.1285 - val_accuracy: 0.9702\n",
            "Epoch 83/200\n",
            "289/289 [==============================] - 1s 3ms/step - loss: 0.1370 - accuracy: 0.9655 - val_loss: 0.1486 - val_accuracy: 0.9639\n",
            "Epoch 84/200\n",
            "289/289 [==============================] - 1s 3ms/step - loss: 0.1403 - accuracy: 0.9654 - val_loss: 0.1439 - val_accuracy: 0.9631\n",
            "Epoch 85/200\n",
            "289/289 [==============================] - 1s 4ms/step - loss: 0.1335 - accuracy: 0.9658 - val_loss: 0.1464 - val_accuracy: 0.9674\n",
            "Epoch 86/200\n",
            "289/289 [==============================] - 1s 4ms/step - loss: 0.1383 - accuracy: 0.9663 - val_loss: 0.1635 - val_accuracy: 0.9573\n",
            "Epoch 87/200\n",
            "289/289 [==============================] - 1s 3ms/step - loss: 0.1378 - accuracy: 0.9645 - val_loss: 0.1631 - val_accuracy: 0.9626\n",
            "Epoch 88/200\n",
            "289/289 [==============================] - 1s 3ms/step - loss: 0.1412 - accuracy: 0.9633 - val_loss: 0.1369 - val_accuracy: 0.9664\n",
            "Epoch 89/200\n",
            "289/289 [==============================] - 1s 3ms/step - loss: 0.1349 - accuracy: 0.9667 - val_loss: 0.1388 - val_accuracy: 0.9667\n",
            "Epoch 90/200\n",
            "289/289 [==============================] - 1s 4ms/step - loss: 0.1320 - accuracy: 0.9656 - val_loss: 0.1416 - val_accuracy: 0.9679\n",
            "Epoch 91/200\n",
            "289/289 [==============================] - 1s 4ms/step - loss: 0.1294 - accuracy: 0.9679 - val_loss: 0.1551 - val_accuracy: 0.9652\n",
            "Epoch 92/200\n",
            "289/289 [==============================] - 1s 3ms/step - loss: 0.1316 - accuracy: 0.9666 - val_loss: 0.1469 - val_accuracy: 0.9657\n",
            "Epoch 93/200\n",
            "289/289 [==============================] - 1s 3ms/step - loss: 0.1319 - accuracy: 0.9675 - val_loss: 0.1690 - val_accuracy: 0.9573\n",
            "Epoch 94/200\n",
            "289/289 [==============================] - 1s 4ms/step - loss: 0.1381 - accuracy: 0.9664 - val_loss: 0.1488 - val_accuracy: 0.9659\n",
            "Epoch 95/200\n",
            "289/289 [==============================] - 1s 4ms/step - loss: 0.1361 - accuracy: 0.9687 - val_loss: 0.1299 - val_accuracy: 0.9692\n",
            "Epoch 96/200\n",
            "289/289 [==============================] - 1s 4ms/step - loss: 0.1318 - accuracy: 0.9677 - val_loss: 0.1502 - val_accuracy: 0.9636\n",
            "Epoch 97/200\n",
            "289/289 [==============================] - 1s 4ms/step - loss: 0.1311 - accuracy: 0.9673 - val_loss: 0.2477 - val_accuracy: 0.9179\n",
            "Epoch 98/200\n",
            "289/289 [==============================] - 1s 3ms/step - loss: 0.1332 - accuracy: 0.9664 - val_loss: 0.1598 - val_accuracy: 0.9609\n",
            "Epoch 99/200\n",
            "289/289 [==============================] - 1s 4ms/step - loss: 0.1306 - accuracy: 0.9682 - val_loss: 0.1958 - val_accuracy: 0.9510\n",
            "Epoch 100/200\n",
            "289/289 [==============================] - 1s 4ms/step - loss: 0.1306 - accuracy: 0.9673 - val_loss: 0.1369 - val_accuracy: 0.9682\n",
            "Epoch 101/200\n",
            "289/289 [==============================] - 1s 4ms/step - loss: 0.1315 - accuracy: 0.9675 - val_loss: 0.1651 - val_accuracy: 0.9609\n",
            "Epoch 102/200\n",
            "289/289 [==============================] - 1s 3ms/step - loss: 0.1311 - accuracy: 0.9664 - val_loss: 0.1426 - val_accuracy: 0.9674\n",
            "Epoch 103/200\n",
            "289/289 [==============================] - 1s 4ms/step - loss: 0.1305 - accuracy: 0.9690 - val_loss: 0.1649 - val_accuracy: 0.9596\n",
            "Epoch 104/200\n",
            "289/289 [==============================] - 1s 3ms/step - loss: 0.1351 - accuracy: 0.9684 - val_loss: 0.1371 - val_accuracy: 0.9667\n",
            "Epoch 105/200\n",
            "289/289 [==============================] - 1s 4ms/step - loss: 0.1280 - accuracy: 0.9684 - val_loss: 0.1407 - val_accuracy: 0.9687\n",
            "Epoch 106/200\n",
            "289/289 [==============================] - 1s 3ms/step - loss: 0.1299 - accuracy: 0.9693 - val_loss: 0.1787 - val_accuracy: 0.9556\n",
            "Epoch 107/200\n",
            "289/289 [==============================] - 1s 3ms/step - loss: 0.1262 - accuracy: 0.9687 - val_loss: 0.1279 - val_accuracy: 0.9707\n",
            "Epoch 108/200\n",
            "289/289 [==============================] - 1s 3ms/step - loss: 0.1290 - accuracy: 0.9688 - val_loss: 0.2487 - val_accuracy: 0.9217\n",
            "Epoch 109/200\n",
            "289/289 [==============================] - 1s 4ms/step - loss: 0.1253 - accuracy: 0.9677 - val_loss: 0.1627 - val_accuracy: 0.9619\n",
            "Epoch 110/200\n",
            "289/289 [==============================] - 1s 4ms/step - loss: 0.1301 - accuracy: 0.9674 - val_loss: 0.1359 - val_accuracy: 0.9649\n",
            "Epoch 111/200\n",
            "289/289 [==============================] - 1s 4ms/step - loss: 0.1253 - accuracy: 0.9694 - val_loss: 0.1295 - val_accuracy: 0.9712\n",
            "Epoch 112/200\n",
            "289/289 [==============================] - 1s 3ms/step - loss: 0.1247 - accuracy: 0.9672 - val_loss: 0.1589 - val_accuracy: 0.9614\n",
            "Epoch 113/200\n",
            "289/289 [==============================] - 1s 3ms/step - loss: 0.1235 - accuracy: 0.9680 - val_loss: 0.1381 - val_accuracy: 0.9672\n",
            "Epoch 114/200\n",
            "289/289 [==============================] - 1s 4ms/step - loss: 0.1346 - accuracy: 0.9682 - val_loss: 0.1439 - val_accuracy: 0.9641\n",
            "Epoch 115/200\n",
            "289/289 [==============================] - 1s 3ms/step - loss: 0.1246 - accuracy: 0.9690 - val_loss: 0.1374 - val_accuracy: 0.9682\n",
            "Epoch 116/200\n",
            "289/289 [==============================] - 1s 4ms/step - loss: 0.1227 - accuracy: 0.9694 - val_loss: 0.1686 - val_accuracy: 0.9604\n",
            "Epoch 117/200\n",
            "289/289 [==============================] - 1s 3ms/step - loss: 0.1253 - accuracy: 0.9695 - val_loss: 0.1639 - val_accuracy: 0.9604\n",
            "Epoch 118/200\n",
            "289/289 [==============================] - 1s 4ms/step - loss: 0.1239 - accuracy: 0.9706 - val_loss: 0.1516 - val_accuracy: 0.9619\n",
            "Epoch 119/200\n",
            "289/289 [==============================] - 1s 3ms/step - loss: 0.1301 - accuracy: 0.9687 - val_loss: 0.1383 - val_accuracy: 0.9689\n",
            "Epoch 120/200\n",
            "289/289 [==============================] - 1s 3ms/step - loss: 0.1183 - accuracy: 0.9712 - val_loss: 0.1577 - val_accuracy: 0.9646\n",
            "Epoch 121/200\n",
            "289/289 [==============================] - 1s 4ms/step - loss: 0.1284 - accuracy: 0.9699 - val_loss: 0.1329 - val_accuracy: 0.9697\n",
            "Epoch 122/200\n",
            "289/289 [==============================] - 1s 4ms/step - loss: 0.1245 - accuracy: 0.9687 - val_loss: 0.1420 - val_accuracy: 0.9669\n",
            "Epoch 123/200\n",
            "289/289 [==============================] - 1s 4ms/step - loss: 0.1206 - accuracy: 0.9713 - val_loss: 0.1299 - val_accuracy: 0.9715\n",
            "Epoch 124/200\n",
            "289/289 [==============================] - 1s 4ms/step - loss: 0.1297 - accuracy: 0.9706 - val_loss: 0.1732 - val_accuracy: 0.9566\n",
            "Epoch 125/200\n",
            "289/289 [==============================] - 1s 3ms/step - loss: 0.1170 - accuracy: 0.9706 - val_loss: 0.1234 - val_accuracy: 0.9712\n",
            "Epoch 126/200\n",
            "289/289 [==============================] - 1s 3ms/step - loss: 0.1190 - accuracy: 0.9701 - val_loss: 0.1322 - val_accuracy: 0.9712\n",
            "Epoch 127/200\n",
            "289/289 [==============================] - 1s 4ms/step - loss: 0.1215 - accuracy: 0.9720 - val_loss: 0.1453 - val_accuracy: 0.9657\n",
            "Epoch 128/200\n",
            "289/289 [==============================] - 1s 3ms/step - loss: 0.1208 - accuracy: 0.9708 - val_loss: 0.1319 - val_accuracy: 0.9712\n",
            "Epoch 129/200\n",
            "289/289 [==============================] - 1s 4ms/step - loss: 0.1305 - accuracy: 0.9689 - val_loss: 0.1363 - val_accuracy: 0.9649\n",
            "Epoch 130/200\n",
            "289/289 [==============================] - 1s 3ms/step - loss: 0.1272 - accuracy: 0.9709 - val_loss: 0.1278 - val_accuracy: 0.9702\n",
            "Epoch 131/200\n",
            "289/289 [==============================] - 1s 4ms/step - loss: 0.1130 - accuracy: 0.9751 - val_loss: 0.1449 - val_accuracy: 0.9697\n",
            "Epoch 132/200\n",
            "289/289 [==============================] - 1s 3ms/step - loss: 0.1217 - accuracy: 0.9709 - val_loss: 0.1237 - val_accuracy: 0.9705\n",
            "Epoch 133/200\n",
            "289/289 [==============================] - 1s 4ms/step - loss: 0.1252 - accuracy: 0.9712 - val_loss: 0.1510 - val_accuracy: 0.9684\n",
            "Epoch 134/200\n",
            "289/289 [==============================] - 1s 4ms/step - loss: 0.1254 - accuracy: 0.9715 - val_loss: 0.1322 - val_accuracy: 0.9712\n",
            "Epoch 135/200\n",
            "289/289 [==============================] - 1s 4ms/step - loss: 0.1144 - accuracy: 0.9727 - val_loss: 0.1371 - val_accuracy: 0.9682\n",
            "Epoch 136/200\n",
            "289/289 [==============================] - 1s 3ms/step - loss: 0.1246 - accuracy: 0.9698 - val_loss: 0.1645 - val_accuracy: 0.9551\n",
            "Epoch 137/200\n",
            "289/289 [==============================] - 1s 4ms/step - loss: 0.1244 - accuracy: 0.9713 - val_loss: 0.1272 - val_accuracy: 0.9707\n",
            "Epoch 138/200\n",
            "289/289 [==============================] - 1s 3ms/step - loss: 0.1139 - accuracy: 0.9734 - val_loss: 0.1337 - val_accuracy: 0.9699\n",
            "Epoch 139/200\n",
            "289/289 [==============================] - 1s 4ms/step - loss: 0.1234 - accuracy: 0.9711 - val_loss: 0.1326 - val_accuracy: 0.9697\n",
            "Epoch 140/200\n",
            "289/289 [==============================] - 1s 3ms/step - loss: 0.1249 - accuracy: 0.9701 - val_loss: 0.1264 - val_accuracy: 0.9717\n",
            "Epoch 141/200\n",
            "289/289 [==============================] - 1s 3ms/step - loss: 0.1180 - accuracy: 0.9710 - val_loss: 0.1291 - val_accuracy: 0.9715\n",
            "Epoch 142/200\n",
            "289/289 [==============================] - 1s 3ms/step - loss: 0.1170 - accuracy: 0.9736 - val_loss: 0.1376 - val_accuracy: 0.9705\n",
            "Epoch 143/200\n",
            "289/289 [==============================] - 1s 3ms/step - loss: 0.1163 - accuracy: 0.9704 - val_loss: 0.1204 - val_accuracy: 0.9742\n",
            "Epoch 144/200\n",
            "289/289 [==============================] - 1s 4ms/step - loss: 0.1235 - accuracy: 0.9721 - val_loss: 0.1678 - val_accuracy: 0.9614\n",
            "Epoch 145/200\n",
            "289/289 [==============================] - 1s 3ms/step - loss: 0.1203 - accuracy: 0.9717 - val_loss: 0.1329 - val_accuracy: 0.9705\n",
            "Epoch 146/200\n",
            "289/289 [==============================] - 1s 4ms/step - loss: 0.1192 - accuracy: 0.9713 - val_loss: 0.1376 - val_accuracy: 0.9692\n",
            "Epoch 147/200\n",
            "289/289 [==============================] - 1s 4ms/step - loss: 0.1148 - accuracy: 0.9723 - val_loss: 0.1736 - val_accuracy: 0.9513\n",
            "Epoch 148/200\n",
            "289/289 [==============================] - 1s 3ms/step - loss: 0.1280 - accuracy: 0.9698 - val_loss: 0.1735 - val_accuracy: 0.9505\n",
            "Epoch 149/200\n",
            "289/289 [==============================] - 1s 4ms/step - loss: 0.1102 - accuracy: 0.9743 - val_loss: 0.1675 - val_accuracy: 0.9604\n",
            "Epoch 150/200\n",
            "289/289 [==============================] - 1s 4ms/step - loss: 0.1107 - accuracy: 0.9752 - val_loss: 0.1380 - val_accuracy: 0.9682\n",
            "Epoch 151/200\n",
            "289/289 [==============================] - 1s 4ms/step - loss: 0.1150 - accuracy: 0.9713 - val_loss: 0.1261 - val_accuracy: 0.9712\n",
            "Epoch 152/200\n",
            "289/289 [==============================] - 1s 4ms/step - loss: 0.1102 - accuracy: 0.9737 - val_loss: 0.1305 - val_accuracy: 0.9730\n",
            "Epoch 153/200\n",
            "289/289 [==============================] - 1s 4ms/step - loss: 0.1185 - accuracy: 0.9733 - val_loss: 0.1517 - val_accuracy: 0.9684\n",
            "Epoch 154/200\n",
            "289/289 [==============================] - 1s 3ms/step - loss: 0.1106 - accuracy: 0.9747 - val_loss: 0.1262 - val_accuracy: 0.9710\n",
            "Epoch 155/200\n",
            "289/289 [==============================] - 1s 3ms/step - loss: 0.1065 - accuracy: 0.9747 - val_loss: 0.1450 - val_accuracy: 0.9692\n",
            "Epoch 156/200\n",
            "289/289 [==============================] - 1s 4ms/step - loss: 0.1283 - accuracy: 0.9738 - val_loss: 0.1181 - val_accuracy: 0.9735\n",
            "Epoch 157/200\n",
            "289/289 [==============================] - 1s 4ms/step - loss: 0.1143 - accuracy: 0.9721 - val_loss: 0.1282 - val_accuracy: 0.9725\n",
            "Epoch 158/200\n",
            "289/289 [==============================] - 1s 3ms/step - loss: 0.1118 - accuracy: 0.9740 - val_loss: 0.1472 - val_accuracy: 0.9652\n",
            "Epoch 159/200\n",
            "289/289 [==============================] - 1s 4ms/step - loss: 0.1085 - accuracy: 0.9742 - val_loss: 0.1235 - val_accuracy: 0.9732\n",
            "Epoch 160/200\n",
            "289/289 [==============================] - 1s 4ms/step - loss: 0.1118 - accuracy: 0.9739 - val_loss: 0.1207 - val_accuracy: 0.9725\n",
            "Epoch 161/200\n",
            "289/289 [==============================] - 1s 3ms/step - loss: 0.1137 - accuracy: 0.9746 - val_loss: 0.1399 - val_accuracy: 0.9646\n",
            "Epoch 162/200\n",
            "289/289 [==============================] - 1s 4ms/step - loss: 0.1069 - accuracy: 0.9748 - val_loss: 0.1365 - val_accuracy: 0.9702\n",
            "Epoch 163/200\n",
            "289/289 [==============================] - 1s 3ms/step - loss: 0.1097 - accuracy: 0.9746 - val_loss: 0.1246 - val_accuracy: 0.9717\n",
            "Epoch 164/200\n",
            "289/289 [==============================] - 1s 3ms/step - loss: 0.1102 - accuracy: 0.9754 - val_loss: 0.1262 - val_accuracy: 0.9717\n",
            "Epoch 165/200\n",
            "289/289 [==============================] - 1s 4ms/step - loss: 0.1155 - accuracy: 0.9738 - val_loss: 0.1176 - val_accuracy: 0.9735\n",
            "Epoch 166/200\n",
            "289/289 [==============================] - 1s 3ms/step - loss: 0.1084 - accuracy: 0.9741 - val_loss: 0.1300 - val_accuracy: 0.9717\n",
            "Epoch 167/200\n",
            "289/289 [==============================] - 1s 4ms/step - loss: 0.1091 - accuracy: 0.9738 - val_loss: 0.1352 - val_accuracy: 0.9689\n",
            "Epoch 168/200\n",
            "289/289 [==============================] - 1s 3ms/step - loss: 0.1108 - accuracy: 0.9749 - val_loss: 0.1220 - val_accuracy: 0.9745\n",
            "Epoch 169/200\n",
            "289/289 [==============================] - 1s 4ms/step - loss: 0.1078 - accuracy: 0.9754 - val_loss: 0.1663 - val_accuracy: 0.9629\n",
            "Epoch 170/200\n",
            "289/289 [==============================] - 1s 3ms/step - loss: 0.1064 - accuracy: 0.9748 - val_loss: 0.2922 - val_accuracy: 0.9159\n",
            "Epoch 171/200\n",
            "289/289 [==============================] - 1s 3ms/step - loss: 0.1100 - accuracy: 0.9750 - val_loss: 0.1320 - val_accuracy: 0.9652\n",
            "Epoch 172/200\n",
            "289/289 [==============================] - 1s 3ms/step - loss: 0.1104 - accuracy: 0.9739 - val_loss: 0.1337 - val_accuracy: 0.9710\n",
            "Epoch 173/200\n",
            "289/289 [==============================] - 1s 4ms/step - loss: 0.1069 - accuracy: 0.9758 - val_loss: 0.1462 - val_accuracy: 0.9677\n",
            "Epoch 174/200\n",
            "289/289 [==============================] - 1s 3ms/step - loss: 0.1171 - accuracy: 0.9750 - val_loss: 0.2198 - val_accuracy: 0.9321\n",
            "Epoch 175/200\n",
            "289/289 [==============================] - 1s 4ms/step - loss: 0.1126 - accuracy: 0.9742 - val_loss: 0.1306 - val_accuracy: 0.9722\n",
            "Epoch 176/200\n",
            "289/289 [==============================] - 1s 4ms/step - loss: 0.1087 - accuracy: 0.9741 - val_loss: 0.1304 - val_accuracy: 0.9712\n",
            "Epoch 177/200\n",
            "289/289 [==============================] - 1s 3ms/step - loss: 0.1100 - accuracy: 0.9740 - val_loss: 0.1324 - val_accuracy: 0.9732\n",
            "Epoch 178/200\n",
            "289/289 [==============================] - 1s 4ms/step - loss: 0.1124 - accuracy: 0.9746 - val_loss: 0.1431 - val_accuracy: 0.9694\n",
            "Epoch 179/200\n",
            "289/289 [==============================] - 1s 4ms/step - loss: 0.1075 - accuracy: 0.9752 - val_loss: 0.1194 - val_accuracy: 0.9740\n",
            "Epoch 180/200\n",
            "289/289 [==============================] - 1s 3ms/step - loss: 0.1104 - accuracy: 0.9740 - val_loss: 0.1240 - val_accuracy: 0.9725\n",
            "Epoch 181/200\n",
            "289/289 [==============================] - 1s 4ms/step - loss: 0.1169 - accuracy: 0.9741 - val_loss: 0.1218 - val_accuracy: 0.9722\n",
            "Epoch 182/200\n",
            "289/289 [==============================] - 1s 3ms/step - loss: 0.1075 - accuracy: 0.9750 - val_loss: 0.1248 - val_accuracy: 0.9725\n",
            "Epoch 183/200\n",
            "289/289 [==============================] - 1s 4ms/step - loss: 0.1124 - accuracy: 0.9751 - val_loss: 0.1447 - val_accuracy: 0.9689\n",
            "Epoch 184/200\n",
            "289/289 [==============================] - 1s 3ms/step - loss: 0.1046 - accuracy: 0.9755 - val_loss: 0.1225 - val_accuracy: 0.9722\n",
            "Epoch 185/200\n",
            "289/289 [==============================] - 1s 4ms/step - loss: 0.1127 - accuracy: 0.9735 - val_loss: 0.1105 - val_accuracy: 0.9763\n",
            "Epoch 186/200\n",
            "289/289 [==============================] - 1s 3ms/step - loss: 0.1213 - accuracy: 0.9725 - val_loss: 0.1115 - val_accuracy: 0.9778\n",
            "Epoch 187/200\n",
            "289/289 [==============================] - 1s 4ms/step - loss: 0.1067 - accuracy: 0.9768 - val_loss: 0.1253 - val_accuracy: 0.9722\n",
            "Epoch 188/200\n",
            "289/289 [==============================] - 1s 4ms/step - loss: 0.1119 - accuracy: 0.9729 - val_loss: 0.1165 - val_accuracy: 0.9753\n",
            "Epoch 189/200\n",
            "289/289 [==============================] - 1s 4ms/step - loss: 0.1058 - accuracy: 0.9760 - val_loss: 0.1341 - val_accuracy: 0.9702\n",
            "Epoch 190/200\n",
            "289/289 [==============================] - 1s 4ms/step - loss: 0.1168 - accuracy: 0.9734 - val_loss: 0.1293 - val_accuracy: 0.9722\n",
            "Epoch 191/200\n",
            "289/289 [==============================] - 1s 4ms/step - loss: 0.1151 - accuracy: 0.9740 - val_loss: 0.1389 - val_accuracy: 0.9697\n",
            "Epoch 192/200\n",
            "289/289 [==============================] - 1s 3ms/step - loss: 0.1085 - accuracy: 0.9759 - val_loss: 0.1316 - val_accuracy: 0.9725\n",
            "Epoch 193/200\n",
            "289/289 [==============================] - 1s 3ms/step - loss: 0.1071 - accuracy: 0.9758 - val_loss: 0.1129 - val_accuracy: 0.9755\n",
            "Epoch 194/200\n",
            "289/289 [==============================] - 1s 3ms/step - loss: 0.1144 - accuracy: 0.9758 - val_loss: 0.1336 - val_accuracy: 0.9699\n",
            "Epoch 195/200\n",
            "289/289 [==============================] - 1s 4ms/step - loss: 0.1026 - accuracy: 0.9752 - val_loss: 0.1610 - val_accuracy: 0.9626\n",
            "Epoch 196/200\n",
            "289/289 [==============================] - 1s 3ms/step - loss: 0.1118 - accuracy: 0.9742 - val_loss: 0.1314 - val_accuracy: 0.9742\n",
            "Epoch 197/200\n",
            "289/289 [==============================] - 1s 3ms/step - loss: 0.1206 - accuracy: 0.9746 - val_loss: 0.1288 - val_accuracy: 0.9722\n",
            "Epoch 198/200\n",
            "289/289 [==============================] - 1s 4ms/step - loss: 0.1109 - accuracy: 0.9760 - val_loss: 0.1653 - val_accuracy: 0.9583\n",
            "Epoch 199/200\n",
            "289/289 [==============================] - 1s 3ms/step - loss: 0.1101 - accuracy: 0.9760 - val_loss: 0.1128 - val_accuracy: 0.9775\n",
            "Epoch 200/200\n",
            "289/289 [==============================] - 1s 3ms/step - loss: 0.1182 - accuracy: 0.9743 - val_loss: 0.2157 - val_accuracy: 0.9343\n"
          ]
        }
      ]
    },
    {
      "cell_type": "code",
      "metadata": {
        "colab": {
          "base_uri": "https://localhost:8080/",
          "height": 573
        },
        "id": "PKWN9djLyMc7",
        "outputId": "34cc1c24-806a-4dbc-b6ec-99f224e74fb9"
      },
      "source": [
        "history_dict = history.history\n",
        "acc = history_dict['accuracy']\n",
        "\n",
        "loss_values = history_dict['loss']\n",
        "val_loss_values = history_dict['val_loss']\n",
        "epochs = range(1, len(acc) + 1)\n",
        "plt.plot(epochs, loss_values, 'bo', label='Training loss')\n",
        "plt.plot(epochs, val_loss_values, 'b', label='Validation loss')\n",
        "plt.title('Training and validation loss')\n",
        "plt.xlabel('Epochs')\n",
        "plt.ylabel('Loss')\n",
        "plt.legend()\n",
        "plt.show()\n",
        "\n",
        "plt.clf()\n",
        "acc_values = history_dict['accuracy']\n",
        "val_acc = history_dict['val_accuracy']\n",
        "plt.plot(epochs, acc, 'bo', label='Training acc')\n",
        "plt.plot(epochs, val_acc, 'b', label='Validation acc')\n",
        "plt.title('Training and validation accuracy')\n",
        "plt.xlabel('Epochs')\n",
        "plt.ylabel('Loss')\n",
        "plt.legend()\n",
        "plt.show()"
      ],
      "execution_count": 56,
      "outputs": [
        {
          "output_type": "display_data",
          "data": {
            "image/png": "[encoded data removed]",
            "text/plain": [
              "<Figure size 432x288 with 1 Axes>"
            ]
          },
          "metadata": {
            "needs_background": "light"
          }
        },
        {
          "output_type": "display_data",
          "data": {
            "image/png": "[encoded data removed]",
            "text/plain": [
              "<Figure size 432x288 with 1 Axes>"
            ]
          },
          "metadata": {
            "needs_background": "light"
          }
        }
      ]
    },
    {
      "cell_type": "code",
      "metadata": {
        "colab": {
          "base_uri": "https://localhost:8080/"
        },
        "id": "TzswDSgvz64p",
        "outputId": "c3fb6c86-d0df-45e9-cd5c-326de2c1c6c4"
      },
      "source": [
        "model.evaluate(x_test,y_test)"
      ],
      "execution_count": 28,
      "outputs": [
        {
          "output_type": "stream",
          "name": "stdout",
          "text": [
            "124/124 [==============================] - 0s 1ms/step - loss: 0.1158 - accuracy: 0.9730\n"
          ]
        },
        {
          "output_type": "execute_result",
          "data": {
            "text/plain": [
              "[0.11583340913057327, 0.9729797840118408]"
            ]
          },
          "metadata": {},
          "execution_count": 28
        }
      ]
    }
  ]
}