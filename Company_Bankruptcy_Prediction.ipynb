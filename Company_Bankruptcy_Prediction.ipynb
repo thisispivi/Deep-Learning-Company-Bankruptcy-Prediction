{
  "nbformat": 4,
  "nbformat_minor": 0,
  "metadata": {
    "colab": {
      "name": "Company Bankruptcy Prediction",
      "provenance": [],
      "collapsed_sections": [],
      "include_colab_link": true
    },
    "kernelspec": {
      "display_name": "Python 3",
      "name": "python3"
    },
    "language_info": {
      "name": "python"
    }
  },
  "cells": [
    {
      "cell_type": "markdown",
      "metadata": {
        "id": "view-in-github",
        "colab_type": "text"
      },
      "source": [
        "<a href=\"https://colab.research.google.com/github/thisispivi/Deep-Learning-Company-Bankruptcy-Prediction/blob/main/Company_Bankruptcy_Prediction.ipynb\" target=\"_parent\"><img src=\"https://colab.research.google.com/assets/colab-badge.svg\" alt=\"Open In Colab\"/></a>"
      ]
    },
    {
      "cell_type": "markdown",
      "metadata": {
        "id": "3Ve8CgpE1BAA"
      },
      "source": [
        "# Introduction\n",
        "\n"
      ]
    },
    {
      "cell_type": "markdown",
      "metadata": {
        "id": "1Y3W5qXWABYT"
      },
      "source": [
        "# Dataset and Libraries setup"
      ]
    },
    {
      "cell_type": "markdown",
      "metadata": {
        "id": "2ufwrliP-uJK"
      },
      "source": [
        "##Libraries and Dataset setup\n",
        "\n",
        "Download the dataset and the libraries needed.\n",
        "\n",
        "**Libraries**\n",
        "- pandas\n",
        "- numpy\n",
        "- kaggle\n",
        "- plotly"
      ]
    },
    {
      "cell_type": "code",
      "metadata": {
        "id": "y1Mh9Ol_I88j",
        "colab": {
          "base_uri": "https://localhost:8080/"
        },
        "outputId": "30a265bc-d980-4b15-ca1f-25c7668c516a"
      },
      "source": [
        "### Download files\n",
        "! apt-get update > /dev/null\n",
        "! apt-get upgrade > /dev/null\n",
        "! apt-get install unzip > /dev/nulll\n",
        "\n",
        "# Python libs\n",
        "! pip install -q kaggle > /dev/null\n",
        "! pip install plotly==4.14.3 > /dev/null\n",
        "! pip install -U kaleido > /dev/null"
      ],
      "execution_count": 1,
      "outputs": [
        {
          "output_type": "stream",
          "name": "stdout",
          "text": [
            "Extracting templates from packages: 100%\n",
            "Requirement already satisfied: pandas in /usr/local/lib/python3.7/dist-packages (1.1.5)\n",
            "Requirement already satisfied: numpy>=1.15.4 in /usr/local/lib/python3.7/dist-packages (from pandas) (1.19.5)\n",
            "Requirement already satisfied: pytz>=2017.2 in /usr/local/lib/python3.7/dist-packages (from pandas) (2018.9)\n",
            "Requirement already satisfied: python-dateutil>=2.7.3 in /usr/local/lib/python3.7/dist-packages (from pandas) (2.8.2)\n",
            "Requirement already satisfied: six>=1.5 in /usr/local/lib/python3.7/dist-packages (from python-dateutil>=2.7.3->pandas) (1.15.0)\n",
            "Requirement already satisfied: numpy in /usr/local/lib/python3.7/dist-packages (1.19.5)\n"
          ]
        }
      ]
    },
    {
      "cell_type": "markdown",
      "metadata": {
        "id": "k0tklqOA8XhC"
      },
      "source": [
        "Import plot and other useful libraries"
      ]
    },
    {
      "cell_type": "code",
      "metadata": {
        "id": "a86cMyQNGKAC"
      },
      "source": [
        "### Import section\n",
        "\n",
        "# Plot\n",
        "import pandas as pd\n",
        "import matplotlib.pyplot as plt\n",
        "import seaborn as sns\n",
        "import numpy as np\n",
        "import plotly.graph_objects as go\n",
        "\n",
        "# Others\n",
        "import csv\n",
        "from io import StringIO\n",
        "from datetime import datetime"
      ],
      "execution_count": 2,
      "outputs": []
    },
    {
      "cell_type": "markdown",
      "metadata": {
        "id": "wOSH7YCE-7Qe"
      },
      "source": [
        "##Import dataset\n",
        "There are two ways to download the dataset, one from kaggle using kaggle api the other one from github (the dataset may be out of date)"
      ]
    },
    {
      "cell_type": "code",
      "metadata": {
        "id": "87mmzkepfj6f",
        "colab": {
          "base_uri": "https://localhost:8080/"
        },
        "outputId": "6a8ee1a7-2635-4541-9493-f8280036d7e0"
      },
      "source": [
        "### Delete old folders and create new ones\n",
        "! rm -r /content/data > /dev/null\n",
        "! mkdir /content/data/ > /dev/null\n",
        "! rm -r ~/.kaggle > /dev/null\n",
        "! mkdir ~/.kaggle > /dev/null"
      ],
      "execution_count": 3,
      "outputs": [
        {
          "output_type": "stream",
          "name": "stdout",
          "text": [
            "rm: cannot remove '/content/data': No such file or directory\n",
            "rm: cannot remove '/root/.kaggle': No such file or directory\n"
          ]
        }
      ]
    },
    {
      "cell_type": "markdown",
      "metadata": {
        "id": "7vkJnrG5fqat"
      },
      "source": [
        "### Kaggle\n",
        "\n",
        "Connect to kaggle, download datataset and setup the files"
      ]
    },
    {
      "cell_type": "code",
      "metadata": {
        "id": "TknXpMfPcCvM",
        "colab": {
          "base_uri": "https://localhost:8080/"
        },
        "outputId": "885b6522-3cfe-4d8a-f319-c86d40323cc7"
      },
      "source": [
        "### Kaggle download setup \n",
        "\n",
        "# Insert here the link to the token json file\n",
        "! wget --no-check-certificate 'https://docs.google.com/uc?export=download&id=1-4sfcaQg3DdP6ZoRnm0uFvM5VlMhPDSM' -P /content -O kaggle.json > /dev/null\n",
        "\n",
        "# Copy token in the right folder\n",
        "! cp kaggle.json ~/.kaggle/ > /dev/null\n",
        "! chmod 600 ~/.kaggle/kaggle.json > /dev/null\n",
        "\n",
        "# Download dataset\n",
        "! kaggle datasets download -d fedesoriano/company-bankruptcy-prediction -p /content/data > /dev/null\n",
        "\n",
        "# Unzip and remove the zip\n",
        "! unzip /content/data/company-bankruptcy-prediction.zip -d /content/data > /dev/null\n",
        "! rm /content/data/company-bankruptcy-prediction.zip > /dev/null"
      ],
      "execution_count": 4,
      "outputs": [
        {
          "output_type": "stream",
          "name": "stdout",
          "text": [
            "--2021-09-05 09:43:58--  https://docs.google.com/uc?export=download&id=1-4sfcaQg3DdP6ZoRnm0uFvM5VlMhPDSM\n",
            "Resolving docs.google.com (docs.google.com)... 142.251.2.138, 142.251.2.100, 142.251.2.113, ...\n",
            "Connecting to docs.google.com (docs.google.com)|142.251.2.138|:443... connected.\n",
            "HTTP request sent, awaiting response... 302 Moved Temporarily\n",
            "Location: https://doc-04-5s-docs.googleusercontent.com/docs/securesc/ha0ro937gcuc7l7deffksulhg5h7mbp1/6lvs0en6c4oitb78c2k7loempmgs9c64/1630835025000/08916338998030749634/*/1-4sfcaQg3DdP6ZoRnm0uFvM5VlMhPDSM?e=download [following]\n",
            "Warning: wildcards not supported in HTTP.\n",
            "--2021-09-05 09:43:59--  https://doc-04-5s-docs.googleusercontent.com/docs/securesc/ha0ro937gcuc7l7deffksulhg5h7mbp1/6lvs0en6c4oitb78c2k7loempmgs9c64/1630835025000/08916338998030749634/*/1-4sfcaQg3DdP6ZoRnm0uFvM5VlMhPDSM?e=download\n",
            "Resolving doc-04-5s-docs.googleusercontent.com (doc-04-5s-docs.googleusercontent.com)... 142.251.2.132, 2607:f8b0:4023:c0d::84\n",
            "Connecting to doc-04-5s-docs.googleusercontent.com (doc-04-5s-docs.googleusercontent.com)|142.251.2.132|:443... connected.\n",
            "HTTP request sent, awaiting response... 200 OK\n",
            "Length: 66 [application/json]\n",
            "Saving to: ‘kaggle.json’\n",
            "\n",
            "on                  100%[===================>]      66  --.-KB/s    in 0s      \n",
            "\n",
            "2021-09-05 09:43:59 (1.67 MB/s) - ‘kaggle.json’ saved [66/66]\n",
            "\n",
            "Downloading company-bankruptcy-prediction.zip to /content/data\n",
            "100% 4.63M/4.63M [00:00<00:00, 42.1MB/s]\n",
            "\n",
            "Archive:  /content/data/company-bankruptcy-prediction.zip\n",
            "  inflating: /content/data/data.csv  \n"
          ]
        }
      ]
    },
    {
      "cell_type": "markdown",
      "metadata": {
        "id": "DKQG2puuftem"
      },
      "source": [
        "### Github\n",
        "Connect to Github, download datataset and setup the files"
      ]
    },
    {
      "cell_type": "code",
      "metadata": {
        "id": "a7dIhEHgCp5R"
      },
      "source": [
        "# ### Download dataset from github repository\n",
        "\n",
        "# # Donwload all the files\n",
        "# ! wget -P /content/data https://raw.githubusercontent.com/thisispivi/Deep-Learning-Company-Bankruptcy-Prediction/main/data/data.zip\n",
        "\n",
        "# # Unzip and remove the zip\n",
        "# ! unzip /content/data/data.zip -d /content/data\n",
        "# ! rm /content/data/data.zip"
      ],
      "execution_count": 5,
      "outputs": []
    },
    {
      "cell_type": "markdown",
      "metadata": {
        "id": "7774NYzghPEm"
      },
      "source": [
        "## Read Files\n",
        "In this section we import the csv files."
      ]
    },
    {
      "cell_type": "code",
      "metadata": {
        "id": "HANip0NiQt2C",
        "colab": {
          "base_uri": "https://localhost:8080/"
        },
        "outputId": "d8f6f2ed-f2b3-4aed-c1ec-0a79a5abdc5f"
      },
      "source": [
        "df = pd.read_csv('data/data.csv')\n",
        "print(df[:5])"
      ],
      "execution_count": 7,
      "outputs": [
        {
          "output_type": "stream",
          "name": "stdout",
          "text": [
            "   Bankrupt?  ...   Equity to Liability\n",
            "0          1  ...              0.016469\n",
            "1          1  ...              0.020794\n",
            "2          1  ...              0.016474\n",
            "3          1  ...              0.023982\n",
            "4          1  ...              0.035490\n",
            "\n",
            "[5 rows x 96 columns]\n"
          ]
        }
      ]
    }
  ]
}